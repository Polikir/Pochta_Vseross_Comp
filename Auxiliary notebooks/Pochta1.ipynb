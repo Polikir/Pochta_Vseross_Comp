{
  "nbformat": 4,
  "nbformat_minor": 0,
  "metadata": {
    "colab": {
      "private_outputs": true,
      "provenance": [],
      "collapsed_sections": []
    },
    "kernelspec": {
      "name": "python3",
      "display_name": "Python 3"
    },
    "language_info": {
      "name": "python"
    },
    "accelerator": "GPU",
    "gpuClass": "standard"
  },
  "cells": [
    {
      "cell_type": "code",
      "execution_count": null,
      "metadata": {
        "id": "GFDsynhBV5XC"
      },
      "outputs": [],
      "source": [
        "%%capture\n",
        "!pip install lightautoml"
      ]
    },
    {
      "cell_type": "code",
      "source": [],
      "metadata": {
        "id": "NSDqlIiG4Q6v"
      },
      "execution_count": null,
      "outputs": []
    },
    {
      "cell_type": "code",
      "source": [
        "# Standard python libraries\n",
        "import os\n",
        "import time\n",
        "\n",
        "# Essential DS libraries\n",
        "import numpy as np\n",
        "import pandas as pd\n",
        "from sklearn.metrics import mean_absolute_error\n",
        "from sklearn.model_selection import train_test_split\n",
        "import torch\n",
        "\n",
        "# LightAutoML presets, task and report generation\n",
        "from lightautoml.automl.presets.tabular_presets import TabularAutoML\n",
        "from lightautoml.tasks import Task\n"
      ],
      "metadata": {
        "id": "DQte1yeTX4TP"
      },
      "execution_count": null,
      "outputs": []
    },
    {
      "cell_type": "code",
      "source": [
        "df = pd.read_csv('/content/drive/MyDrive/Pochta/train_dataset_train.csv')"
      ],
      "metadata": {
        "id": "j4FcIwMGY4Ll"
      },
      "execution_count": null,
      "outputs": []
    },
    {
      "cell_type": "code",
      "source": [
        "pd.set_option('display.max_columns', None)"
      ],
      "metadata": {
        "id": "eoOP62q3Y8xV"
      },
      "execution_count": null,
      "outputs": []
    },
    {
      "cell_type": "code",
      "source": [
        "df"
      ],
      "metadata": {
        "id": "tiP3ZENBZGpI"
      },
      "execution_count": null,
      "outputs": []
    },
    {
      "cell_type": "code",
      "source": [
        "df[\"is_in_yandex\"] = pd.Categorical(df[\"is_in_yandex\"])\n",
        "df[\"is_in_yandex\"].astype('category').cat.codes\n",
        "df[\"is_in_yandex\"] = df[\"is_in_yandex\"].cat.codes"
      ],
      "metadata": {
        "id": "HudpaCCuZc6q"
      },
      "execution_count": null,
      "outputs": []
    },
    {
      "cell_type": "code",
      "source": [
        "df[\"is_return\"] = pd.Categorical(df[\"is_return\"])\n",
        "df[\"is_return\"].astype('category').cat.codes\n",
        "df[\"is_return\"] = df[\"is_return\"].cat.codes"
      ],
      "metadata": {
        "id": "wW9hjCkFbnIz"
      },
      "execution_count": null,
      "outputs": []
    },
    {
      "cell_type": "code",
      "source": [
        "df"
      ],
      "metadata": {
        "id": "ExlNV6m8bonD"
      },
      "execution_count": null,
      "outputs": []
    },
    {
      "cell_type": "code",
      "source": [
        "def op_t(x):\n",
        "    return x[:x.find('_')]\n",
        "def op_a(x):\n",
        "    return x[x.find('_')+1:]"
      ],
      "metadata": {
        "id": "LWhZx4Szdv3b"
      },
      "execution_count": null,
      "outputs": []
    },
    {
      "cell_type": "code",
      "source": [
        "df['op_t'] = df['oper_type + oper_attr'].apply(op_t).astype('int64')\n",
        "df['op_a'] = df['oper_type + oper_attr'].apply(op_a).astype('int64')"
      ],
      "metadata": {
        "id": "lrz3dHWTeRDM"
      },
      "execution_count": null,
      "outputs": []
    },
    {
      "cell_type": "code",
      "source": [
        "N_THREADS = 32\n",
        "N_FOLDS = 5\n",
        "RANDOM_STATE = 42\n",
        "TEST_SIZE = 0.2\n",
        "TIMEOUT = 900*4 # equal to 15*2 minutes\n",
        "TARGET_NAME = 'label'"
      ],
      "metadata": {
        "id": "UWQG-v1ybvIT"
      },
      "execution_count": null,
      "outputs": []
    },
    {
      "cell_type": "code",
      "source": [
        "np.random.seed(RANDOM_STATE)\n",
        "torch.set_num_threads(N_THREADS)"
      ],
      "metadata": {
        "id": "bGweimaKcW8c"
      },
      "execution_count": null,
      "outputs": []
    },
    {
      "cell_type": "code",
      "source": [
        "tr_data, te_data = train_test_split(\n",
        "    df, \n",
        "    test_size=TEST_SIZE, \n",
        "    random_state=RANDOM_STATE\n",
        ")\n",
        "\n",
        "print(f'Data splitted. Parts sizes: tr_data = {tr_data.shape}, te_data = {te_data.shape}')\n",
        "\n",
        "tr_data.head()"
      ],
      "metadata": {
        "id": "Oz07filWcag-"
      },
      "execution_count": null,
      "outputs": []
    },
    {
      "cell_type": "code",
      "source": [
        "task = Task('binary', loss = 'logloss', metric = 'logloss')"
      ],
      "metadata": {
        "id": "tRxwY5Lqchng"
      },
      "execution_count": null,
      "outputs": []
    },
    {
      "cell_type": "code",
      "source": [
        "roles = {\n",
        "    'target': TARGET_NAME,\n",
        "    'drop': ['id','name_mfi','oper_type + oper_attr','index_oper']\n",
        "}"
      ],
      "metadata": {
        "id": "o9RX3cgucwgs"
      },
      "execution_count": null,
      "outputs": []
    },
    {
      "cell_type": "code",
      "source": [
        "automl = TabularAutoML(\n",
        "    task = task, \n",
        "    timeout = TIMEOUT,\n",
        "    cpu_limit = N_THREADS,\n",
        "    reader_params = {'n_jobs': N_THREADS, 'cv': N_FOLDS, 'random_state': RANDOM_STATE}\n",
        ")"
      ],
      "metadata": {
        "id": "XZr7XRuXdCsx"
      },
      "execution_count": null,
      "outputs": []
    },
    {
      "cell_type": "code",
      "source": [
        "%%time \n",
        "oof_pred = automl.fit_predict(tr_data, roles = roles, verbose = 1)"
      ],
      "metadata": {
        "id": "jZQn6fRJdGRJ"
      },
      "execution_count": null,
      "outputs": []
    },
    {
      "cell_type": "code",
      "source": [
        "tr_data"
      ],
      "metadata": {
        "id": "6tO6O2-vdMf1"
      },
      "execution_count": null,
      "outputs": []
    },
    {
      "cell_type": "code",
      "source": [
        "5+5"
      ],
      "metadata": {
        "id": "FdL3B0Diqt8u"
      },
      "execution_count": null,
      "outputs": []
    },
    {
      "cell_type": "code",
      "source": [
        "te_pred = automl.predict(te_data)"
      ],
      "metadata": {
        "id": "KMhrcJSRqu7I"
      },
      "execution_count": null,
      "outputs": []
    },
    {
      "cell_type": "code",
      "source": [
        "from sklearn.metrics import roc_auc_score"
      ],
      "metadata": {
        "id": "C5njDxXorzov"
      },
      "execution_count": null,
      "outputs": []
    },
    {
      "cell_type": "code",
      "source": [
        "roc_auc_score(te_data['label'].values,te_pred.data[:,0])"
      ],
      "metadata": {
        "id": "aadREvhvsVxS"
      },
      "execution_count": null,
      "outputs": []
    },
    {
      "cell_type": "code",
      "source": [
        "te_data['label'].value_counts()"
      ],
      "metadata": {
        "id": "KBNQjbyWtB37"
      },
      "execution_count": null,
      "outputs": []
    },
    {
      "cell_type": "code",
      "source": [
        "1 - 34330/1165670"
      ],
      "metadata": {
        "id": "k_aK1FFotWpl"
      },
      "execution_count": null,
      "outputs": []
    },
    {
      "cell_type": "code",
      "source": [
        "%%time\n",
        "\n",
        "# Fast feature importances calculation\n",
        "fast_fi = automl.get_feature_scores('fast')\n",
        "fast_fi.set_index('Feature')['Importance'].plot.bar(figsize = (30, 10), grid = True)"
      ],
      "metadata": {
        "id": "_HfvwPeut8gN"
      },
      "execution_count": null,
      "outputs": []
    },
    {
      "cell_type": "code",
      "source": [
        "5**9"
      ],
      "metadata": {
        "id": "9CKhn4jjv-Kq"
      },
      "execution_count": null,
      "outputs": []
    },
    {
      "cell_type": "code",
      "source": [
        "test_df = pd.read_csv('/content/drive/MyDrive/Pochta/test_dataset_test.csv')"
      ],
      "metadata": {
        "id": "r0O03UJVxHQd"
      },
      "execution_count": null,
      "outputs": []
    },
    {
      "cell_type": "code",
      "source": [
        "test_df"
      ],
      "metadata": {
        "id": "pD8gAu3dx7Lb"
      },
      "execution_count": null,
      "outputs": []
    },
    {
      "cell_type": "code",
      "source": [
        "test_df[\"is_in_yandex\"] = pd.Categorical(test_df[\"is_in_yandex\"])\n",
        "test_df[\"is_in_yandex\"].astype('category').cat.codes\n",
        "test_df[\"is_in_yandex\"] = test_df[\"is_in_yandex\"].cat.codes\n",
        "\n",
        "test_df[\"is_return\"] = pd.Categorical(test_df[\"is_return\"])\n",
        "test_df[\"is_return\"].astype('category').cat.codes\n",
        "test_df[\"is_return\"] = test_df[\"is_return\"].cat.codes\n"
      ],
      "metadata": {
        "id": "F1o5QPZUyLV-"
      },
      "execution_count": null,
      "outputs": []
    },
    {
      "cell_type": "code",
      "source": [
        "test_df['op_t'] = test_df['oper_type + oper_attr'].apply(op_t).astype('int64')\n",
        "test_df['op_a'] = test_df['oper_type + oper_attr'].apply(op_a).astype('int64')"
      ],
      "metadata": {
        "id": "Nk-MB4HMyo7G"
      },
      "execution_count": null,
      "outputs": []
    },
    {
      "cell_type": "code",
      "source": [
        "test_df"
      ],
      "metadata": {
        "id": "-VLPLkDnzLDh"
      },
      "execution_count": null,
      "outputs": []
    },
    {
      "cell_type": "code",
      "source": [
        "end_test_pred = automl.predict(test_df)"
      ],
      "metadata": {
        "id": "LYMeeSLIzcKT"
      },
      "execution_count": null,
      "outputs": []
    },
    {
      "cell_type": "code",
      "source": [
        "end_test_pred"
      ],
      "metadata": {
        "id": "nyNtvS9ezljI"
      },
      "execution_count": null,
      "outputs": []
    },
    {
      "cell_type": "code",
      "source": [
        "from sklearn.metrics import f1_score,recall_score,precision_score,accuracy_score\n"
      ],
      "metadata": {
        "id": "r8M-AdVH1oJH"
      },
      "execution_count": null,
      "outputs": []
    },
    {
      "cell_type": "code",
      "source": [
        "\n",
        "\n",
        "metric = pd.DataFrame(columns = ['alpha','precision','recall','f1','accuracy','roc_auc'])\n",
        "\n",
        "for x in np.array(list(range(20)))/20 :\n",
        "    row = []\n",
        "    tr = te_data['label'].values\n",
        "    pr = 1*(te_pred.data[:,0] >= x)\n",
        "    row.append(x)\n",
        "\n",
        "    row.append(precision_score(te_data['label'].values ,pr))\n",
        "    row.append(recall_score(te_data['label'].values ,pr))\n",
        "    row.append(f1_score(te_data['label'].values ,pr))\n",
        "    row.append(accuracy_score(te_data['label'].values ,pr))\n",
        "\n",
        "    fp = np.sum((pr == 1) & (tr == 0))\n",
        "    tp = np.sum((pr == 1) & (tr == 1))\n",
        "\n",
        "    fn = np.sum((pr == 0) & (tr == 1))\n",
        "    tn = np.sum((pr == 0) & (tr == 0))\n",
        "\n",
        "    fpr = (fp / (fp + tn))\n",
        "    tpr = (tp / (tp + fn))\n",
        "\n",
        "    roc = (1+ tpr - fpr)/2 \n",
        "\n",
        "\n",
        "    row.append(roc)\n",
        "\n",
        "    metric.loc[len(metric.index)] = row\n",
        "\n"
      ],
      "metadata": {
        "id": "DbC_80Na2Y2t"
      },
      "execution_count": null,
      "outputs": []
    },
    {
      "cell_type": "code",
      "source": [
        "metric"
      ],
      "metadata": {
        "id": "fBpK4N15DpM9"
      },
      "execution_count": null,
      "outputs": []
    },
    {
      "cell_type": "code",
      "source": [
        "metric"
      ],
      "metadata": {
        "id": "vL-1CSXEAa1P"
      },
      "execution_count": null,
      "outputs": []
    },
    {
      "cell_type": "code",
      "source": [
        "te_pred_data"
      ],
      "metadata": {
        "id": "ZNZb9nirDMLw"
      },
      "execution_count": null,
      "outputs": []
    },
    {
      "cell_type": "code",
      "source": [
        "te_data['label'].value_counts()"
      ],
      "metadata": {
        "id": "K2R5pyNaEMZY"
      },
      "execution_count": null,
      "outputs": []
    },
    {
      "cell_type": "code",
      "source": [
        "sum(1*(end_test_pred.data[:,0] >= 0.1))"
      ],
      "metadata": {
        "id": "pFRKFBXaEb3m"
      },
      "execution_count": null,
      "outputs": []
    },
    {
      "cell_type": "code",
      "source": [
        "submission = pd.DataFrame(columns = ['id','label'])"
      ],
      "metadata": {
        "id": "mo1P_3NBExZp"
      },
      "execution_count": null,
      "outputs": []
    },
    {
      "cell_type": "code",
      "source": [
        "submission['id'] = test_df['id'].values"
      ],
      "metadata": {
        "id": "jeVIDpfhF3fK"
      },
      "execution_count": null,
      "outputs": []
    },
    {
      "cell_type": "code",
      "source": [
        "submission['label'] = 1*(end_test_pred.data[:,0] >= 0.2)\n",
        "#submission['label'] = end_test_pred.data[:,0]"
      ],
      "metadata": {
        "id": "BJU57NINF7h4"
      },
      "execution_count": null,
      "outputs": []
    },
    {
      "cell_type": "code",
      "source": [
        "submission['label'].value_counts()"
      ],
      "metadata": {
        "id": "qbtHcnVdGMfO"
      },
      "execution_count": null,
      "outputs": []
    },
    {
      "cell_type": "code",
      "source": [
        "submission.to_csv('submission_4_11_4.csv',index = False)"
      ],
      "metadata": {
        "id": "gHCTNVTjGNm5"
      },
      "execution_count": null,
      "outputs": []
    },
    {
      "cell_type": "code",
      "source": [
        "submission"
      ],
      "metadata": {
        "id": "8jMAiSAdGkw6"
      },
      "execution_count": null,
      "outputs": []
    },
    {
      "cell_type": "code",
      "source": [
        "sum(end_test_pred.data[:,0] < 0.1)"
      ],
      "metadata": {
        "id": "w_izNz8lIcIf"
      },
      "execution_count": null,
      "outputs": []
    },
    {
      "cell_type": "code",
      "source": [
        "precision_score([0,1,0,1,0,1,1],[0,0,0,0,0,0,0]),recall_score([0,1,0,1,0,1,1],[1,1,1,1,1,1,1])"
      ],
      "metadata": {
        "id": "VEZB_EkyMRRj"
      },
      "execution_count": null,
      "outputs": []
    },
    {
      "cell_type": "code",
      "source": [
        "precision_score"
      ],
      "metadata": {
        "id": "HrukBaY7mkt0"
      },
      "execution_count": null,
      "outputs": []
    }
  ]
}