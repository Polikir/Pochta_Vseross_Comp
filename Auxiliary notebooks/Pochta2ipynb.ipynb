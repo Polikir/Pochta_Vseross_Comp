{
  "nbformat": 4,
  "nbformat_minor": 0,
  "metadata": {
    "colab": {
      "provenance": [],
      "collapsed_sections": []
    },
    "kernelspec": {
      "name": "python3",
      "display_name": "Python 3"
    },
    "language_info": {
      "name": "python"
    },
    "accelerator": "GPU",
    "gpuClass": "standard"
  },
  "cells": [
    {
      "cell_type": "code",
      "execution_count": null,
      "metadata": {
        "id": "GFDsynhBV5XC"
      },
      "outputs": [],
      "source": [
        "%%capture\n",
        "!pip install lightautoml"
      ]
    },
    {
      "cell_type": "code",
      "source": [
        "a = []\n",
        "while(1):\n",
        "    a.append('1')"
      ],
      "metadata": {
        "colab": {
          "base_uri": "https://localhost:8080/",
          "height": 201
        },
        "id": "tNqZm4zhOhoW",
        "outputId": "d81eaed4-6089-4877-8636-3c769a4a54bd"
      },
      "execution_count": null,
      "outputs": [
        {
          "output_type": "error",
          "ename": "KeyboardInterrupt",
          "evalue": "ignored",
          "traceback": [
            "\u001b[0;31m---------------------------------------------------------------------------\u001b[0m",
            "\u001b[0;31mKeyboardInterrupt\u001b[0m                         Traceback (most recent call last)",
            "\u001b[0;32m<ipython-input-1-f13b8001d612>\u001b[0m in \u001b[0;36m<module>\u001b[0;34m\u001b[0m\n\u001b[1;32m      1\u001b[0m \u001b[0ma\u001b[0m \u001b[0;34m=\u001b[0m \u001b[0;34m[\u001b[0m\u001b[0;34m]\u001b[0m\u001b[0;34m\u001b[0m\u001b[0;34m\u001b[0m\u001b[0m\n\u001b[1;32m      2\u001b[0m \u001b[0;32mwhile\u001b[0m\u001b[0;34m(\u001b[0m\u001b[0;36m1\u001b[0m\u001b[0;34m)\u001b[0m\u001b[0;34m:\u001b[0m\u001b[0;34m\u001b[0m\u001b[0;34m\u001b[0m\u001b[0m\n\u001b[0;32m----> 3\u001b[0;31m     \u001b[0ma\u001b[0m\u001b[0;34m.\u001b[0m\u001b[0mappend\u001b[0m\u001b[0;34m(\u001b[0m\u001b[0;34m'1'\u001b[0m\u001b[0;34m)\u001b[0m\u001b[0;34m\u001b[0m\u001b[0;34m\u001b[0m\u001b[0m\n\u001b[0m",
            "\u001b[0;31mKeyboardInterrupt\u001b[0m: "
          ]
        }
      ]
    },
    {
      "cell_type": "code",
      "source": [
        "from google.colab import drive\n",
        "drive.mount('/content/drive')"
      ],
      "metadata": {
        "colab": {
          "base_uri": "https://localhost:8080/"
        },
        "id": "VMzr8YBn5Lo-",
        "outputId": "f91adfb8-f11f-4872-cd8b-dc1c380d4ffd"
      },
      "execution_count": null,
      "outputs": [
        {
          "output_type": "stream",
          "name": "stdout",
          "text": [
            "Drive already mounted at /content/drive; to attempt to forcibly remount, call drive.mount(\"/content/drive\", force_remount=True).\n"
          ]
        }
      ]
    },
    {
      "cell_type": "code",
      "source": [
        "# Standard python libraries\n",
        "import os\n",
        "import time\n",
        "\n",
        "# Essential DS libraries\n",
        "import numpy as np\n",
        "import pandas as pd\n",
        "from sklearn.metrics import mean_absolute_error\n",
        "from sklearn.model_selection import train_test_split\n",
        "import torch\n",
        "\n",
        "# LightAutoML presets, task and report generation\n",
        "from lightautoml.automl.presets.tabular_presets import TabularAutoML\n",
        "from lightautoml.tasks import Task\n"
      ],
      "metadata": {
        "id": "DQte1yeTX4TP"
      },
      "execution_count": null,
      "outputs": []
    },
    {
      "cell_type": "code",
      "source": [
        "df = pd.read_csv('/content/drive/MyDrive/Pochta/train_dataset_train.csv')"
      ],
      "metadata": {
        "id": "j4FcIwMGY4Ll",
        "colab": {
          "base_uri": "https://localhost:8080/",
          "height": 225
        },
        "outputId": "aba5b910-d90a-4ef4-bfd4-593c2951ba90"
      },
      "execution_count": null,
      "outputs": [
        {
          "output_type": "error",
          "ename": "ParserError",
          "evalue": "ignored",
          "traceback": [
            "\u001b[0;31m---------------------------------------------------------------------------\u001b[0m",
            "\u001b[0;31mParserError\u001b[0m                               Traceback (most recent call last)",
            "\u001b[0;32m<ipython-input-3-41c9c3ea9ccd>\u001b[0m in \u001b[0;36m<module>\u001b[0;34m\u001b[0m\n\u001b[0;32m----> 1\u001b[0;31m \u001b[0mdf\u001b[0m \u001b[0;34m=\u001b[0m \u001b[0mpd\u001b[0m\u001b[0;34m.\u001b[0m\u001b[0mread_csv\u001b[0m\u001b[0;34m(\u001b[0m\u001b[0;34m'/content/drive/MyDrive/Pochta/train_dataset_train.csv'\u001b[0m\u001b[0;34m)\u001b[0m\u001b[0;34m\u001b[0m\u001b[0;34m\u001b[0m\u001b[0m\n\u001b[0m",
            "\u001b[0;32m/usr/local/lib/python3.7/dist-packages/pandas/util/_decorators.py\u001b[0m in \u001b[0;36mwrapper\u001b[0;34m(*args, **kwargs)\u001b[0m\n\u001b[1;32m    309\u001b[0m                     \u001b[0mstacklevel\u001b[0m\u001b[0;34m=\u001b[0m\u001b[0mstacklevel\u001b[0m\u001b[0;34m,\u001b[0m\u001b[0;34m\u001b[0m\u001b[0;34m\u001b[0m\u001b[0m\n\u001b[1;32m    310\u001b[0m                 )\n\u001b[0;32m--> 311\u001b[0;31m             \u001b[0;32mreturn\u001b[0m \u001b[0mfunc\u001b[0m\u001b[0;34m(\u001b[0m\u001b[0;34m*\u001b[0m\u001b[0margs\u001b[0m\u001b[0;34m,\u001b[0m \u001b[0;34m**\u001b[0m\u001b[0mkwargs\u001b[0m\u001b[0;34m)\u001b[0m\u001b[0;34m\u001b[0m\u001b[0;34m\u001b[0m\u001b[0m\n\u001b[0m\u001b[1;32m    312\u001b[0m \u001b[0;34m\u001b[0m\u001b[0m\n\u001b[1;32m    313\u001b[0m         \u001b[0;32mreturn\u001b[0m \u001b[0mwrapper\u001b[0m\u001b[0;34m\u001b[0m\u001b[0;34m\u001b[0m\u001b[0m\n",
            "\u001b[0;32m/usr/local/lib/python3.7/dist-packages/pandas/io/parsers/readers.py\u001b[0m in \u001b[0;36mread_csv\u001b[0;34m(filepath_or_buffer, sep, delimiter, header, names, index_col, usecols, squeeze, prefix, mangle_dupe_cols, dtype, engine, converters, true_values, false_values, skipinitialspace, skiprows, skipfooter, nrows, na_values, keep_default_na, na_filter, verbose, skip_blank_lines, parse_dates, infer_datetime_format, keep_date_col, date_parser, dayfirst, cache_dates, iterator, chunksize, compression, thousands, decimal, lineterminator, quotechar, quoting, doublequote, escapechar, comment, encoding, encoding_errors, dialect, error_bad_lines, warn_bad_lines, on_bad_lines, delim_whitespace, low_memory, memory_map, float_precision, storage_options)\u001b[0m\n\u001b[1;32m    584\u001b[0m     \u001b[0mkwds\u001b[0m\u001b[0;34m.\u001b[0m\u001b[0mupdate\u001b[0m\u001b[0;34m(\u001b[0m\u001b[0mkwds_defaults\u001b[0m\u001b[0;34m)\u001b[0m\u001b[0;34m\u001b[0m\u001b[0;34m\u001b[0m\u001b[0m\n\u001b[1;32m    585\u001b[0m \u001b[0;34m\u001b[0m\u001b[0m\n\u001b[0;32m--> 586\u001b[0;31m     \u001b[0;32mreturn\u001b[0m \u001b[0m_read\u001b[0m\u001b[0;34m(\u001b[0m\u001b[0mfilepath_or_buffer\u001b[0m\u001b[0;34m,\u001b[0m \u001b[0mkwds\u001b[0m\u001b[0;34m)\u001b[0m\u001b[0;34m\u001b[0m\u001b[0;34m\u001b[0m\u001b[0m\n\u001b[0m\u001b[1;32m    587\u001b[0m \u001b[0;34m\u001b[0m\u001b[0m\n\u001b[1;32m    588\u001b[0m \u001b[0;34m\u001b[0m\u001b[0m\n",
            "\u001b[0;32m/usr/local/lib/python3.7/dist-packages/pandas/io/parsers/readers.py\u001b[0m in \u001b[0;36m_read\u001b[0;34m(filepath_or_buffer, kwds)\u001b[0m\n\u001b[1;32m    486\u001b[0m \u001b[0;34m\u001b[0m\u001b[0m\n\u001b[1;32m    487\u001b[0m     \u001b[0;32mwith\u001b[0m \u001b[0mparser\u001b[0m\u001b[0;34m:\u001b[0m\u001b[0;34m\u001b[0m\u001b[0;34m\u001b[0m\u001b[0m\n\u001b[0;32m--> 488\u001b[0;31m         \u001b[0;32mreturn\u001b[0m \u001b[0mparser\u001b[0m\u001b[0;34m.\u001b[0m\u001b[0mread\u001b[0m\u001b[0;34m(\u001b[0m\u001b[0mnrows\u001b[0m\u001b[0;34m)\u001b[0m\u001b[0;34m\u001b[0m\u001b[0;34m\u001b[0m\u001b[0m\n\u001b[0m\u001b[1;32m    489\u001b[0m \u001b[0;34m\u001b[0m\u001b[0m\n\u001b[1;32m    490\u001b[0m \u001b[0;34m\u001b[0m\u001b[0m\n",
            "\u001b[0;32m/usr/local/lib/python3.7/dist-packages/pandas/io/parsers/readers.py\u001b[0m in \u001b[0;36mread\u001b[0;34m(self, nrows)\u001b[0m\n\u001b[1;32m   1045\u001b[0m     \u001b[0;32mdef\u001b[0m \u001b[0mread\u001b[0m\u001b[0;34m(\u001b[0m\u001b[0mself\u001b[0m\u001b[0;34m,\u001b[0m \u001b[0mnrows\u001b[0m\u001b[0;34m=\u001b[0m\u001b[0;32mNone\u001b[0m\u001b[0;34m)\u001b[0m\u001b[0;34m:\u001b[0m\u001b[0;34m\u001b[0m\u001b[0;34m\u001b[0m\u001b[0m\n\u001b[1;32m   1046\u001b[0m         \u001b[0mnrows\u001b[0m \u001b[0;34m=\u001b[0m \u001b[0mvalidate_integer\u001b[0m\u001b[0;34m(\u001b[0m\u001b[0;34m\"nrows\"\u001b[0m\u001b[0;34m,\u001b[0m \u001b[0mnrows\u001b[0m\u001b[0;34m)\u001b[0m\u001b[0;34m\u001b[0m\u001b[0;34m\u001b[0m\u001b[0m\n\u001b[0;32m-> 1047\u001b[0;31m         \u001b[0mindex\u001b[0m\u001b[0;34m,\u001b[0m \u001b[0mcolumns\u001b[0m\u001b[0;34m,\u001b[0m \u001b[0mcol_dict\u001b[0m \u001b[0;34m=\u001b[0m \u001b[0mself\u001b[0m\u001b[0;34m.\u001b[0m\u001b[0m_engine\u001b[0m\u001b[0;34m.\u001b[0m\u001b[0mread\u001b[0m\u001b[0;34m(\u001b[0m\u001b[0mnrows\u001b[0m\u001b[0;34m)\u001b[0m\u001b[0;34m\u001b[0m\u001b[0;34m\u001b[0m\u001b[0m\n\u001b[0m\u001b[1;32m   1048\u001b[0m \u001b[0;34m\u001b[0m\u001b[0m\n\u001b[1;32m   1049\u001b[0m         \u001b[0;32mif\u001b[0m \u001b[0mindex\u001b[0m \u001b[0;32mis\u001b[0m \u001b[0;32mNone\u001b[0m\u001b[0;34m:\u001b[0m\u001b[0;34m\u001b[0m\u001b[0;34m\u001b[0m\u001b[0m\n",
            "\u001b[0;32m/usr/local/lib/python3.7/dist-packages/pandas/io/parsers/c_parser_wrapper.py\u001b[0m in \u001b[0;36mread\u001b[0;34m(self, nrows)\u001b[0m\n\u001b[1;32m    222\u001b[0m         \u001b[0;32mtry\u001b[0m\u001b[0;34m:\u001b[0m\u001b[0;34m\u001b[0m\u001b[0;34m\u001b[0m\u001b[0m\n\u001b[1;32m    223\u001b[0m             \u001b[0;32mif\u001b[0m \u001b[0mself\u001b[0m\u001b[0;34m.\u001b[0m\u001b[0mlow_memory\u001b[0m\u001b[0;34m:\u001b[0m\u001b[0;34m\u001b[0m\u001b[0;34m\u001b[0m\u001b[0m\n\u001b[0;32m--> 224\u001b[0;31m                 \u001b[0mchunks\u001b[0m \u001b[0;34m=\u001b[0m \u001b[0mself\u001b[0m\u001b[0;34m.\u001b[0m\u001b[0m_reader\u001b[0m\u001b[0;34m.\u001b[0m\u001b[0mread_low_memory\u001b[0m\u001b[0;34m(\u001b[0m\u001b[0mnrows\u001b[0m\u001b[0;34m)\u001b[0m\u001b[0;34m\u001b[0m\u001b[0;34m\u001b[0m\u001b[0m\n\u001b[0m\u001b[1;32m    225\u001b[0m                 \u001b[0;31m# destructive to chunks\u001b[0m\u001b[0;34m\u001b[0m\u001b[0;34m\u001b[0m\u001b[0;34m\u001b[0m\u001b[0m\n\u001b[1;32m    226\u001b[0m                 \u001b[0mdata\u001b[0m \u001b[0;34m=\u001b[0m \u001b[0m_concatenate_chunks\u001b[0m\u001b[0;34m(\u001b[0m\u001b[0mchunks\u001b[0m\u001b[0;34m)\u001b[0m\u001b[0;34m\u001b[0m\u001b[0;34m\u001b[0m\u001b[0m\n",
            "\u001b[0;32m/usr/local/lib/python3.7/dist-packages/pandas/_libs/parsers.pyx\u001b[0m in \u001b[0;36mpandas._libs.parsers.TextReader.read_low_memory\u001b[0;34m()\u001b[0m\n",
            "\u001b[0;32m/usr/local/lib/python3.7/dist-packages/pandas/_libs/parsers.pyx\u001b[0m in \u001b[0;36mpandas._libs.parsers.TextReader._read_rows\u001b[0;34m()\u001b[0m\n",
            "\u001b[0;32m/usr/local/lib/python3.7/dist-packages/pandas/_libs/parsers.pyx\u001b[0m in \u001b[0;36mpandas._libs.parsers.TextReader._tokenize_rows\u001b[0;34m()\u001b[0m\n",
            "\u001b[0;32m/usr/local/lib/python3.7/dist-packages/pandas/_libs/parsers.pyx\u001b[0m in \u001b[0;36mpandas._libs.parsers.raise_parser_error\u001b[0;34m()\u001b[0m\n",
            "\u001b[0;31mParserError\u001b[0m: Error tokenizing data. C error: Calling read(nbytes) on source failed. Try engine='python'."
          ]
        }
      ]
    },
    {
      "cell_type": "code",
      "source": [
        "pd.set_option('display.max_columns', None)"
      ],
      "metadata": {
        "id": "eoOP62q3Y8xV"
      },
      "execution_count": null,
      "outputs": []
    },
    {
      "cell_type": "code",
      "source": [
        "df"
      ],
      "metadata": {
        "id": "tiP3ZENBZGpI",
        "colab": {
          "base_uri": "https://localhost:8080/",
          "height": 574
        },
        "outputId": "73a45540-282d-4106-d9ef-a6ad4c5d69c1"
      },
      "execution_count": null,
      "outputs": [
        {
          "output_type": "execute_result",
          "data": {
            "text/plain": [
              "              id oper_type + oper_attr index_oper     type  priority  \\\n",
              "0        6818780               1043_-1   628629.0  Участок    7503.0   \n",
              "1        9907176               1023_-1   102976.0     ММПО    7503.0   \n",
              "2        3304275               1018_-1   620962.0      Цех    7503.0   \n",
              "3        9020937               1019_-1   344964.0      Цех    7503.0   \n",
              "4        3082311               1020_-1   629819.0  Участок    7503.0   \n",
              "...          ...                   ...        ...      ...       ...   \n",
              "5999995  9958614               1022_-1   102976.0     ММПО    7503.0   \n",
              "5999996  2234489               1022_-1   241963.0      Цех    7503.0   \n",
              "5999997  4304572               1041_-1   102971.0      Цех    7506.0   \n",
              "5999998  6550634               1018_-1   102152.0      Цех    7506.0   \n",
              "5999999  6423388                   8_2   140531.0     СОПС    7503.0   \n",
              "\n",
              "        is_privatecategory  class is_in_yandex is_return  weight  mailtype  \\\n",
              "0                        N    0.0            Y         N    87.0       5.0   \n",
              "1                        N    0.0            N         N   107.0       5.0   \n",
              "2                        N    0.0            Y         N    50.0       5.0   \n",
              "3                        N    0.0            Y         N   416.0       5.0   \n",
              "4                        N    0.0            Y         N   795.0       5.0   \n",
              "...                    ...    ...          ...       ...     ...       ...   \n",
              "5999995                  N    0.0            N         N    25.0       5.0   \n",
              "5999996                  N    0.0            Y         N    83.0       5.0   \n",
              "5999997                  N    0.0            N         N  1700.0       5.0   \n",
              "5999998                  N    0.0            N         N   269.0       5.0   \n",
              "5999999                  N    4.0            Y         N    41.0       5.0   \n",
              "\n",
              "         mailctg  mailrank  directctg  transport_pay  postmark  \\\n",
              "0            1.0       0.0        2.0           0.00       0.0   \n",
              "1            1.0       0.0        2.0           0.00       0.0   \n",
              "2            1.0       0.0        2.0           0.00       0.0   \n",
              "3            1.0       0.0        2.0          35.34       0.0   \n",
              "4            1.0       0.0        2.0          52.52       0.0   \n",
              "...          ...       ...        ...            ...       ...   \n",
              "5999995      0.0       0.0        2.0           0.00       0.0   \n",
              "5999996      1.0       0.0        2.0           0.00       0.0   \n",
              "5999997      1.0       0.0        2.0          94.09       0.0   \n",
              "5999998      1.0       0.0        2.0           0.00       0.0   \n",
              "5999999      1.0       0.0        2.0           0.00       0.0   \n",
              "\n",
              "                                             name_mfi  weight_mfi  price_mfi  \\\n",
              "0                                        Fishhook,USB        41.0      150.0   \n",
              "1        screen protector,Case(Q613B),case(208B40-DB)        68.0      400.0   \n",
              "2         Pendant Necklaces,Rings for Women,Necklaces        56.0      218.0   \n",
              "3                              Motorcycle Signal Lamp        33.0      100.0   \n",
              "4                                            backpack       716.0     1000.0   \n",
              "...                                               ...         ...        ...   \n",
              "5999995                                     KEY CHAIN        24.0      100.0   \n",
              "5999996                                         Dolls       100.0     1832.0   \n",
              "5999997                                   Down jacket       952.0      800.0   \n",
              "5999998                                             0         0.0        0.0   \n",
              "5999999              Jewelry Beads,Jewelry Components        40.0      400.0   \n",
              "\n",
              "         dist_qty_oper_login_1  total_qty_oper_login_1  \\\n",
              "0                         42.0                720176.0   \n",
              "1                        914.0              48856658.0   \n",
              "2                         62.0               3246292.0   \n",
              "3                         55.0               2060928.0   \n",
              "4                         16.0                316919.0   \n",
              "...                        ...                     ...   \n",
              "5999995                 1089.0              64270133.0   \n",
              "5999996                   31.0               1767370.0   \n",
              "5999997                  186.0              60613352.0   \n",
              "5999998                  105.0              15091338.0   \n",
              "5999999                    1.0                  1541.0   \n",
              "\n",
              "         total_qty_oper_login_0  total_qty_over_index_and_type  \\\n",
              "0                       58950.0                       779126.0   \n",
              "1                    83318932.0                    132175590.0   \n",
              "2                     3233068.0                      6479360.0   \n",
              "3                      653280.0                      2714208.0   \n",
              "4                       27911.0                       344830.0   \n",
              "...                         ...                            ...   \n",
              "5999995             116432632.0                    180702765.0   \n",
              "5999996                144063.0                      1911433.0   \n",
              "5999997                 10648.0                     60624000.0   \n",
              "5999998               4972424.0                     20063762.0   \n",
              "5999999                   353.0                         1894.0   \n",
              "\n",
              "         total_qty_over_index  is_wrong_sndr_name  is_wrong_rcpn_name  \\\n",
              "0                   8290896.0                   0                   0   \n",
              "1                 136819803.0                   0                   0   \n",
              "2                  52708071.0                   0                   1   \n",
              "3                  19562334.0                   0                   0   \n",
              "4                   4719186.0                   0                   0   \n",
              "...                       ...                 ...                 ...   \n",
              "5999995           188407812.0                   0                   0   \n",
              "5999996            15582018.0                   0                   0   \n",
              "5999997            75592387.0                   0                   0   \n",
              "5999998            39988530.0                   0                   1   \n",
              "5999999               17238.0                   0                   0   \n",
              "\n",
              "         is_wrong_phone_number  is_wrong_address  label  \n",
              "0                            0                 0      0  \n",
              "1                            0                 0      0  \n",
              "2                            0                 0      0  \n",
              "3                            0                 0      0  \n",
              "4                            0                 0      0  \n",
              "...                        ...               ...    ...  \n",
              "5999995                      1                 0      0  \n",
              "5999996                      0                 0      0  \n",
              "5999997                      0                 0      0  \n",
              "5999998                      0                 0      0  \n",
              "5999999                      0                 0      0  \n",
              "\n",
              "[6000000 rows x 29 columns]"
            ],
            "text/html": [
              "\n",
              "  <div id=\"df-e55b9977-86f6-49fe-bee6-3b9e6a341ee7\">\n",
              "    <div class=\"colab-df-container\">\n",
              "      <div>\n",
              "<style scoped>\n",
              "    .dataframe tbody tr th:only-of-type {\n",
              "        vertical-align: middle;\n",
              "    }\n",
              "\n",
              "    .dataframe tbody tr th {\n",
              "        vertical-align: top;\n",
              "    }\n",
              "\n",
              "    .dataframe thead th {\n",
              "        text-align: right;\n",
              "    }\n",
              "</style>\n",
              "<table border=\"1\" class=\"dataframe\">\n",
              "  <thead>\n",
              "    <tr style=\"text-align: right;\">\n",
              "      <th></th>\n",
              "      <th>id</th>\n",
              "      <th>oper_type + oper_attr</th>\n",
              "      <th>index_oper</th>\n",
              "      <th>type</th>\n",
              "      <th>priority</th>\n",
              "      <th>is_privatecategory</th>\n",
              "      <th>class</th>\n",
              "      <th>is_in_yandex</th>\n",
              "      <th>is_return</th>\n",
              "      <th>weight</th>\n",
              "      <th>mailtype</th>\n",
              "      <th>mailctg</th>\n",
              "      <th>mailrank</th>\n",
              "      <th>directctg</th>\n",
              "      <th>transport_pay</th>\n",
              "      <th>postmark</th>\n",
              "      <th>name_mfi</th>\n",
              "      <th>weight_mfi</th>\n",
              "      <th>price_mfi</th>\n",
              "      <th>dist_qty_oper_login_1</th>\n",
              "      <th>total_qty_oper_login_1</th>\n",
              "      <th>total_qty_oper_login_0</th>\n",
              "      <th>total_qty_over_index_and_type</th>\n",
              "      <th>total_qty_over_index</th>\n",
              "      <th>is_wrong_sndr_name</th>\n",
              "      <th>is_wrong_rcpn_name</th>\n",
              "      <th>is_wrong_phone_number</th>\n",
              "      <th>is_wrong_address</th>\n",
              "      <th>label</th>\n",
              "    </tr>\n",
              "  </thead>\n",
              "  <tbody>\n",
              "    <tr>\n",
              "      <th>0</th>\n",
              "      <td>6818780</td>\n",
              "      <td>1043_-1</td>\n",
              "      <td>628629.0</td>\n",
              "      <td>Участок</td>\n",
              "      <td>7503.0</td>\n",
              "      <td>N</td>\n",
              "      <td>0.0</td>\n",
              "      <td>Y</td>\n",
              "      <td>N</td>\n",
              "      <td>87.0</td>\n",
              "      <td>5.0</td>\n",
              "      <td>1.0</td>\n",
              "      <td>0.0</td>\n",
              "      <td>2.0</td>\n",
              "      <td>0.00</td>\n",
              "      <td>0.0</td>\n",
              "      <td>Fishhook,USB</td>\n",
              "      <td>41.0</td>\n",
              "      <td>150.0</td>\n",
              "      <td>42.0</td>\n",
              "      <td>720176.0</td>\n",
              "      <td>58950.0</td>\n",
              "      <td>779126.0</td>\n",
              "      <td>8290896.0</td>\n",
              "      <td>0</td>\n",
              "      <td>0</td>\n",
              "      <td>0</td>\n",
              "      <td>0</td>\n",
              "      <td>0</td>\n",
              "    </tr>\n",
              "    <tr>\n",
              "      <th>1</th>\n",
              "      <td>9907176</td>\n",
              "      <td>1023_-1</td>\n",
              "      <td>102976.0</td>\n",
              "      <td>ММПО</td>\n",
              "      <td>7503.0</td>\n",
              "      <td>N</td>\n",
              "      <td>0.0</td>\n",
              "      <td>N</td>\n",
              "      <td>N</td>\n",
              "      <td>107.0</td>\n",
              "      <td>5.0</td>\n",
              "      <td>1.0</td>\n",
              "      <td>0.0</td>\n",
              "      <td>2.0</td>\n",
              "      <td>0.00</td>\n",
              "      <td>0.0</td>\n",
              "      <td>screen protector,Case(Q613B),case(208B40-DB)</td>\n",
              "      <td>68.0</td>\n",
              "      <td>400.0</td>\n",
              "      <td>914.0</td>\n",
              "      <td>48856658.0</td>\n",
              "      <td>83318932.0</td>\n",
              "      <td>132175590.0</td>\n",
              "      <td>136819803.0</td>\n",
              "      <td>0</td>\n",
              "      <td>0</td>\n",
              "      <td>0</td>\n",
              "      <td>0</td>\n",
              "      <td>0</td>\n",
              "    </tr>\n",
              "    <tr>\n",
              "      <th>2</th>\n",
              "      <td>3304275</td>\n",
              "      <td>1018_-1</td>\n",
              "      <td>620962.0</td>\n",
              "      <td>Цех</td>\n",
              "      <td>7503.0</td>\n",
              "      <td>N</td>\n",
              "      <td>0.0</td>\n",
              "      <td>Y</td>\n",
              "      <td>N</td>\n",
              "      <td>50.0</td>\n",
              "      <td>5.0</td>\n",
              "      <td>1.0</td>\n",
              "      <td>0.0</td>\n",
              "      <td>2.0</td>\n",
              "      <td>0.00</td>\n",
              "      <td>0.0</td>\n",
              "      <td>Pendant Necklaces,Rings for Women,Necklaces</td>\n",
              "      <td>56.0</td>\n",
              "      <td>218.0</td>\n",
              "      <td>62.0</td>\n",
              "      <td>3246292.0</td>\n",
              "      <td>3233068.0</td>\n",
              "      <td>6479360.0</td>\n",
              "      <td>52708071.0</td>\n",
              "      <td>0</td>\n",
              "      <td>1</td>\n",
              "      <td>0</td>\n",
              "      <td>0</td>\n",
              "      <td>0</td>\n",
              "    </tr>\n",
              "    <tr>\n",
              "      <th>3</th>\n",
              "      <td>9020937</td>\n",
              "      <td>1019_-1</td>\n",
              "      <td>344964.0</td>\n",
              "      <td>Цех</td>\n",
              "      <td>7503.0</td>\n",
              "      <td>N</td>\n",
              "      <td>0.0</td>\n",
              "      <td>Y</td>\n",
              "      <td>N</td>\n",
              "      <td>416.0</td>\n",
              "      <td>5.0</td>\n",
              "      <td>1.0</td>\n",
              "      <td>0.0</td>\n",
              "      <td>2.0</td>\n",
              "      <td>35.34</td>\n",
              "      <td>0.0</td>\n",
              "      <td>Motorcycle Signal Lamp</td>\n",
              "      <td>33.0</td>\n",
              "      <td>100.0</td>\n",
              "      <td>55.0</td>\n",
              "      <td>2060928.0</td>\n",
              "      <td>653280.0</td>\n",
              "      <td>2714208.0</td>\n",
              "      <td>19562334.0</td>\n",
              "      <td>0</td>\n",
              "      <td>0</td>\n",
              "      <td>0</td>\n",
              "      <td>0</td>\n",
              "      <td>0</td>\n",
              "    </tr>\n",
              "    <tr>\n",
              "      <th>4</th>\n",
              "      <td>3082311</td>\n",
              "      <td>1020_-1</td>\n",
              "      <td>629819.0</td>\n",
              "      <td>Участок</td>\n",
              "      <td>7503.0</td>\n",
              "      <td>N</td>\n",
              "      <td>0.0</td>\n",
              "      <td>Y</td>\n",
              "      <td>N</td>\n",
              "      <td>795.0</td>\n",
              "      <td>5.0</td>\n",
              "      <td>1.0</td>\n",
              "      <td>0.0</td>\n",
              "      <td>2.0</td>\n",
              "      <td>52.52</td>\n",
              "      <td>0.0</td>\n",
              "      <td>backpack</td>\n",
              "      <td>716.0</td>\n",
              "      <td>1000.0</td>\n",
              "      <td>16.0</td>\n",
              "      <td>316919.0</td>\n",
              "      <td>27911.0</td>\n",
              "      <td>344830.0</td>\n",
              "      <td>4719186.0</td>\n",
              "      <td>0</td>\n",
              "      <td>0</td>\n",
              "      <td>0</td>\n",
              "      <td>0</td>\n",
              "      <td>0</td>\n",
              "    </tr>\n",
              "    <tr>\n",
              "      <th>...</th>\n",
              "      <td>...</td>\n",
              "      <td>...</td>\n",
              "      <td>...</td>\n",
              "      <td>...</td>\n",
              "      <td>...</td>\n",
              "      <td>...</td>\n",
              "      <td>...</td>\n",
              "      <td>...</td>\n",
              "      <td>...</td>\n",
              "      <td>...</td>\n",
              "      <td>...</td>\n",
              "      <td>...</td>\n",
              "      <td>...</td>\n",
              "      <td>...</td>\n",
              "      <td>...</td>\n",
              "      <td>...</td>\n",
              "      <td>...</td>\n",
              "      <td>...</td>\n",
              "      <td>...</td>\n",
              "      <td>...</td>\n",
              "      <td>...</td>\n",
              "      <td>...</td>\n",
              "      <td>...</td>\n",
              "      <td>...</td>\n",
              "      <td>...</td>\n",
              "      <td>...</td>\n",
              "      <td>...</td>\n",
              "      <td>...</td>\n",
              "      <td>...</td>\n",
              "    </tr>\n",
              "    <tr>\n",
              "      <th>5999995</th>\n",
              "      <td>9958614</td>\n",
              "      <td>1022_-1</td>\n",
              "      <td>102976.0</td>\n",
              "      <td>ММПО</td>\n",
              "      <td>7503.0</td>\n",
              "      <td>N</td>\n",
              "      <td>0.0</td>\n",
              "      <td>N</td>\n",
              "      <td>N</td>\n",
              "      <td>25.0</td>\n",
              "      <td>5.0</td>\n",
              "      <td>0.0</td>\n",
              "      <td>0.0</td>\n",
              "      <td>2.0</td>\n",
              "      <td>0.00</td>\n",
              "      <td>0.0</td>\n",
              "      <td>KEY CHAIN</td>\n",
              "      <td>24.0</td>\n",
              "      <td>100.0</td>\n",
              "      <td>1089.0</td>\n",
              "      <td>64270133.0</td>\n",
              "      <td>116432632.0</td>\n",
              "      <td>180702765.0</td>\n",
              "      <td>188407812.0</td>\n",
              "      <td>0</td>\n",
              "      <td>0</td>\n",
              "      <td>1</td>\n",
              "      <td>0</td>\n",
              "      <td>0</td>\n",
              "    </tr>\n",
              "    <tr>\n",
              "      <th>5999996</th>\n",
              "      <td>2234489</td>\n",
              "      <td>1022_-1</td>\n",
              "      <td>241963.0</td>\n",
              "      <td>Цех</td>\n",
              "      <td>7503.0</td>\n",
              "      <td>N</td>\n",
              "      <td>0.0</td>\n",
              "      <td>Y</td>\n",
              "      <td>N</td>\n",
              "      <td>83.0</td>\n",
              "      <td>5.0</td>\n",
              "      <td>1.0</td>\n",
              "      <td>0.0</td>\n",
              "      <td>2.0</td>\n",
              "      <td>0.00</td>\n",
              "      <td>0.0</td>\n",
              "      <td>Dolls</td>\n",
              "      <td>100.0</td>\n",
              "      <td>1832.0</td>\n",
              "      <td>31.0</td>\n",
              "      <td>1767370.0</td>\n",
              "      <td>144063.0</td>\n",
              "      <td>1911433.0</td>\n",
              "      <td>15582018.0</td>\n",
              "      <td>0</td>\n",
              "      <td>0</td>\n",
              "      <td>0</td>\n",
              "      <td>0</td>\n",
              "      <td>0</td>\n",
              "    </tr>\n",
              "    <tr>\n",
              "      <th>5999997</th>\n",
              "      <td>4304572</td>\n",
              "      <td>1041_-1</td>\n",
              "      <td>102971.0</td>\n",
              "      <td>Цех</td>\n",
              "      <td>7506.0</td>\n",
              "      <td>N</td>\n",
              "      <td>0.0</td>\n",
              "      <td>N</td>\n",
              "      <td>N</td>\n",
              "      <td>1700.0</td>\n",
              "      <td>5.0</td>\n",
              "      <td>1.0</td>\n",
              "      <td>0.0</td>\n",
              "      <td>2.0</td>\n",
              "      <td>94.09</td>\n",
              "      <td>0.0</td>\n",
              "      <td>Down jacket</td>\n",
              "      <td>952.0</td>\n",
              "      <td>800.0</td>\n",
              "      <td>186.0</td>\n",
              "      <td>60613352.0</td>\n",
              "      <td>10648.0</td>\n",
              "      <td>60624000.0</td>\n",
              "      <td>75592387.0</td>\n",
              "      <td>0</td>\n",
              "      <td>0</td>\n",
              "      <td>0</td>\n",
              "      <td>0</td>\n",
              "      <td>0</td>\n",
              "    </tr>\n",
              "    <tr>\n",
              "      <th>5999998</th>\n",
              "      <td>6550634</td>\n",
              "      <td>1018_-1</td>\n",
              "      <td>102152.0</td>\n",
              "      <td>Цех</td>\n",
              "      <td>7506.0</td>\n",
              "      <td>N</td>\n",
              "      <td>0.0</td>\n",
              "      <td>N</td>\n",
              "      <td>N</td>\n",
              "      <td>269.0</td>\n",
              "      <td>5.0</td>\n",
              "      <td>1.0</td>\n",
              "      <td>0.0</td>\n",
              "      <td>2.0</td>\n",
              "      <td>0.00</td>\n",
              "      <td>0.0</td>\n",
              "      <td>0</td>\n",
              "      <td>0.0</td>\n",
              "      <td>0.0</td>\n",
              "      <td>105.0</td>\n",
              "      <td>15091338.0</td>\n",
              "      <td>4972424.0</td>\n",
              "      <td>20063762.0</td>\n",
              "      <td>39988530.0</td>\n",
              "      <td>0</td>\n",
              "      <td>1</td>\n",
              "      <td>0</td>\n",
              "      <td>0</td>\n",
              "      <td>0</td>\n",
              "    </tr>\n",
              "    <tr>\n",
              "      <th>5999999</th>\n",
              "      <td>6423388</td>\n",
              "      <td>8_2</td>\n",
              "      <td>140531.0</td>\n",
              "      <td>СОПС</td>\n",
              "      <td>7503.0</td>\n",
              "      <td>N</td>\n",
              "      <td>4.0</td>\n",
              "      <td>Y</td>\n",
              "      <td>N</td>\n",
              "      <td>41.0</td>\n",
              "      <td>5.0</td>\n",
              "      <td>1.0</td>\n",
              "      <td>0.0</td>\n",
              "      <td>2.0</td>\n",
              "      <td>0.00</td>\n",
              "      <td>0.0</td>\n",
              "      <td>Jewelry Beads,Jewelry Components</td>\n",
              "      <td>40.0</td>\n",
              "      <td>400.0</td>\n",
              "      <td>1.0</td>\n",
              "      <td>1541.0</td>\n",
              "      <td>353.0</td>\n",
              "      <td>1894.0</td>\n",
              "      <td>17238.0</td>\n",
              "      <td>0</td>\n",
              "      <td>0</td>\n",
              "      <td>0</td>\n",
              "      <td>0</td>\n",
              "      <td>0</td>\n",
              "    </tr>\n",
              "  </tbody>\n",
              "</table>\n",
              "<p>6000000 rows × 29 columns</p>\n",
              "</div>\n",
              "      <button class=\"colab-df-convert\" onclick=\"convertToInteractive('df-e55b9977-86f6-49fe-bee6-3b9e6a341ee7')\"\n",
              "              title=\"Convert this dataframe to an interactive table.\"\n",
              "              style=\"display:none;\">\n",
              "        \n",
              "  <svg xmlns=\"http://www.w3.org/2000/svg\" height=\"24px\"viewBox=\"0 0 24 24\"\n",
              "       width=\"24px\">\n",
              "    <path d=\"M0 0h24v24H0V0z\" fill=\"none\"/>\n",
              "    <path d=\"M18.56 5.44l.94 2.06.94-2.06 2.06-.94-2.06-.94-.94-2.06-.94 2.06-2.06.94zm-11 1L8.5 8.5l.94-2.06 2.06-.94-2.06-.94L8.5 2.5l-.94 2.06-2.06.94zm10 10l.94 2.06.94-2.06 2.06-.94-2.06-.94-.94-2.06-.94 2.06-2.06.94z\"/><path d=\"M17.41 7.96l-1.37-1.37c-.4-.4-.92-.59-1.43-.59-.52 0-1.04.2-1.43.59L10.3 9.45l-7.72 7.72c-.78.78-.78 2.05 0 2.83L4 21.41c.39.39.9.59 1.41.59.51 0 1.02-.2 1.41-.59l7.78-7.78 2.81-2.81c.8-.78.8-2.07 0-2.86zM5.41 20L4 18.59l7.72-7.72 1.47 1.35L5.41 20z\"/>\n",
              "  </svg>\n",
              "      </button>\n",
              "      \n",
              "  <style>\n",
              "    .colab-df-container {\n",
              "      display:flex;\n",
              "      flex-wrap:wrap;\n",
              "      gap: 12px;\n",
              "    }\n",
              "\n",
              "    .colab-df-convert {\n",
              "      background-color: #E8F0FE;\n",
              "      border: none;\n",
              "      border-radius: 50%;\n",
              "      cursor: pointer;\n",
              "      display: none;\n",
              "      fill: #1967D2;\n",
              "      height: 32px;\n",
              "      padding: 0 0 0 0;\n",
              "      width: 32px;\n",
              "    }\n",
              "\n",
              "    .colab-df-convert:hover {\n",
              "      background-color: #E2EBFA;\n",
              "      box-shadow: 0px 1px 2px rgba(60, 64, 67, 0.3), 0px 1px 3px 1px rgba(60, 64, 67, 0.15);\n",
              "      fill: #174EA6;\n",
              "    }\n",
              "\n",
              "    [theme=dark] .colab-df-convert {\n",
              "      background-color: #3B4455;\n",
              "      fill: #D2E3FC;\n",
              "    }\n",
              "\n",
              "    [theme=dark] .colab-df-convert:hover {\n",
              "      background-color: #434B5C;\n",
              "      box-shadow: 0px 1px 3px 1px rgba(0, 0, 0, 0.15);\n",
              "      filter: drop-shadow(0px 1px 2px rgba(0, 0, 0, 0.3));\n",
              "      fill: #FFFFFF;\n",
              "    }\n",
              "  </style>\n",
              "\n",
              "      <script>\n",
              "        const buttonEl =\n",
              "          document.querySelector('#df-e55b9977-86f6-49fe-bee6-3b9e6a341ee7 button.colab-df-convert');\n",
              "        buttonEl.style.display =\n",
              "          google.colab.kernel.accessAllowed ? 'block' : 'none';\n",
              "\n",
              "        async function convertToInteractive(key) {\n",
              "          const element = document.querySelector('#df-e55b9977-86f6-49fe-bee6-3b9e6a341ee7');\n",
              "          const dataTable =\n",
              "            await google.colab.kernel.invokeFunction('convertToInteractive',\n",
              "                                                     [key], {});\n",
              "          if (!dataTable) return;\n",
              "\n",
              "          const docLinkHtml = 'Like what you see? Visit the ' +\n",
              "            '<a target=\"_blank\" href=https://colab.research.google.com/notebooks/data_table.ipynb>data table notebook</a>'\n",
              "            + ' to learn more about interactive tables.';\n",
              "          element.innerHTML = '';\n",
              "          dataTable['output_type'] = 'display_data';\n",
              "          await google.colab.output.renderOutput(dataTable, element);\n",
              "          const docLink = document.createElement('div');\n",
              "          docLink.innerHTML = docLinkHtml;\n",
              "          element.appendChild(docLink);\n",
              "        }\n",
              "      </script>\n",
              "    </div>\n",
              "  </div>\n",
              "  "
            ]
          },
          "metadata": {},
          "execution_count": 5
        }
      ]
    },
    {
      "cell_type": "code",
      "source": [
        "df[\"is_in_yandex\"] = pd.Categorical(df[\"is_in_yandex\"])\n",
        "df[\"is_in_yandex\"].astype('category').cat.codes\n",
        "df[\"is_in_yandex\"] = df[\"is_in_yandex\"].cat.codes"
      ],
      "metadata": {
        "id": "HudpaCCuZc6q"
      },
      "execution_count": null,
      "outputs": []
    },
    {
      "cell_type": "code",
      "source": [
        "df[\"is_return\"] = pd.Categorical(df[\"is_return\"])\n",
        "df[\"is_return\"].astype('category').cat.codes\n",
        "df[\"is_return\"] = df[\"is_return\"].cat.codes"
      ],
      "metadata": {
        "id": "wW9hjCkFbnIz"
      },
      "execution_count": null,
      "outputs": []
    },
    {
      "cell_type": "code",
      "source": [
        "def op_t(x):\n",
        "    return x[:x.find('_')]\n",
        "def op_a(x):\n",
        "    return x[x.find('_')+1:]"
      ],
      "metadata": {
        "id": "LWhZx4Szdv3b"
      },
      "execution_count": null,
      "outputs": []
    },
    {
      "cell_type": "code",
      "source": [
        "df['op_t'] = df['oper_type + oper_attr'].apply(op_t).astype('int64')\n",
        "df['op_a'] = df['oper_type + oper_attr'].apply(op_a).astype('int64')"
      ],
      "metadata": {
        "id": "lrz3dHWTeRDM"
      },
      "execution_count": null,
      "outputs": []
    },
    {
      "cell_type": "code",
      "source": [
        "qq =  pd.read_csv('/content/drive/MyDrive/Pochta/PIndx20.csv')"
      ],
      "metadata": {
        "id": "C4ZCuQI35q8f"
      },
      "execution_count": null,
      "outputs": []
    },
    {
      "cell_type": "code",
      "source": [
        "qq['index_oper'] = qq['INDEX'].values"
      ],
      "metadata": {
        "id": "2Dh7Jzb65rEq"
      },
      "execution_count": null,
      "outputs": []
    },
    {
      "cell_type": "code",
      "source": [
        "def p_to_int(x):\n",
        "    if type(x) == float:\n",
        "        return int(x)\n",
        "    return x[:x.find('.')]\n",
        "\n",
        "#df['index_oper'] = df['index_oper'].apply(p_to_int)\n",
        "def nd(x):\n",
        "    if x == '':\n",
        "        return 0\n",
        "    x = int(x)\n",
        "    if x // 10**5 >0:\n",
        "        return 6\n",
        "    elif x // 10**4 >0:\n",
        "        return 5\n",
        "    elif x // 10**3 >0:\n",
        "        return 4\n",
        "\n",
        "def from5t6(x):\n",
        "    if x == '':\n",
        "        return 0\n",
        "    x = int(x)\n",
        "    if x // 10**5 == 0:\n",
        "        return x*10\n",
        "    return x"
      ],
      "metadata": {
        "id": "GOD2mv3r7L0h"
      },
      "execution_count": null,
      "outputs": []
    },
    {
      "cell_type": "code",
      "source": [
        "\n",
        "def nd(x):\n",
        "    if x == '':\n",
        "        return 0\n",
        "    x = int(x)\n",
        "    if x // 10**5 >0:\n",
        "        return 6\n",
        "    elif x // 10**4 >0:\n",
        "        return 5\n",
        "    elif x // 10**3 >0:\n",
        "        return 4\n",
        "\n",
        "def from5t6(x):\n",
        "    if x == '':\n",
        "        return 0\n",
        "    x = int(x)\n",
        "    if x // 10**5 == 0:\n",
        "        return x*10\n",
        "    return x\n",
        "\n",
        "pld2 = pd.DataFrame(columns = ['index_oper','new_index_oper','OPSSUBM','REGION','AUTONOM','CITY','ACTDATE'])\n",
        "pld = pd.DataFrame(columns = ['index_oper','new_index_oper'])\n",
        "pld['index_oper'] = df['index_oper'].values\n",
        "pld2['index_oper'] = df['index_oper'].values\n",
        "qq['new_index_oper'] = qq['INDEX'].values\n",
        "\n",
        "for i in range(10):\n",
        "    def from5t6(x):\n",
        "        if x == '':\n",
        "            return 0\n",
        "        x = int(float(x))\n",
        "        if x // 10**5 == 0:\n",
        "            return x*10 + i\n",
        "        return x\n",
        "    pld['new_index_oper'] = pld['index_oper'].apply(from5t6)\n",
        "    pld2['new_index_oper'] = pld2['index_oper'].apply(from5t6)\n",
        "    \n",
        "    pz = pd.merge(pld, qq[['new_index_oper','OPSSUBM','REGION','AUTONOM','CITY','ACTDATE']],how = 'left', on=\"new_index_oper\")\n",
        "    \n",
        "    pld['index_oper'][pz['ACTDATE'].isna() == False]['index_oper'] = pz[pz['ACTDATE'].isna() == False]['new_index_oper'].values\n",
        "    pld2['index_oper'][pz['ACTDATE'].isna() == False]['index_oper'] = pz[pz['ACTDATE'].isna() == False]['new_index_oper'].values\n",
        "    #pld[['OPSSUBM','REGION','AUTONOM','CITY','ACTDATE']] = pz[pz['ACTDATE'].isna() == False][['OPSSUBM','REGION','AUTONOM','CITY','ACTDATE']].values\n",
        "    pld2.loc[pz['ACTDATE'].isna() == False,['OPSSUBM','REGION','AUTONOM','CITY','ACTDATE']] = pz[pz['ACTDATE'].isna() == False][['OPSSUBM','REGION','AUTONOM','CITY','ACTDATE']].values\n",
        "    \n",
        "    \n",
        "    \n",
        "\n",
        "    \n"
      ],
      "metadata": {
        "id": "dxgdAhSP5rHG"
      },
      "execution_count": null,
      "outputs": []
    },
    {
      "cell_type": "code",
      "source": [
        "\n",
        "pld2['AREA'] = (pld2['REGION'].fillna('') + pld2['AUTONOM'].fillna('')).values"
      ],
      "metadata": {
        "id": "DvTgUQdr6SPI"
      },
      "execution_count": null,
      "outputs": []
    },
    {
      "cell_type": "code",
      "source": [
        "\n",
        "pld2.drop(['REGION','AUTONOM'],axis = 1,inplace = True)"
      ],
      "metadata": {
        "id": "FupRXqZh6SUR"
      },
      "execution_count": null,
      "outputs": []
    },
    {
      "cell_type": "code",
      "source": [
        "\n",
        "pld2.loc[pld2['AREA'] == 'МОСКВА','CITY'] = pld2[pld2['AREA'] == 'МОСКВА']['CITY'].fillna('МОСКВА').values"
      ],
      "metadata": {
        "id": "hO28Pc-o6SYU"
      },
      "execution_count": null,
      "outputs": []
    },
    {
      "cell_type": "code",
      "source": [
        "\n",
        "big_df = pd.concat([df,pld2.drop(['index_oper'],axis=1)],axis = 1)"
      ],
      "metadata": {
        "id": "qPYqRxlO9xlJ"
      },
      "execution_count": null,
      "outputs": []
    },
    {
      "cell_type": "code",
      "source": [
        "\n",
        "big_df['ACTDATE'] = pd.to_datetime(big_df['ACTDATE'])"
      ],
      "metadata": {
        "id": "GO6YbpOt9xpJ"
      },
      "execution_count": null,
      "outputs": []
    },
    {
      "cell_type": "code",
      "source": [
        "def npust(x):\n",
        "    if x == '':\n",
        "        return 0\n",
        "    return int(x)"
      ],
      "metadata": {
        "id": "l_D8TqXQApAX"
      },
      "execution_count": null,
      "outputs": []
    },
    {
      "cell_type": "code",
      "source": [
        "big_df['index_oper'] = big_df['index_oper'].apply(npust)\n",
        "big_df['new_index_oper'] = big_df['new_index_oper'].apply(npust)"
      ],
      "metadata": {
        "id": "-iow5WH19xse"
      },
      "execution_count": null,
      "outputs": []
    },
    {
      "cell_type": "code",
      "source": [
        "\n",
        "big_df['OPSSUBM'] = big_df['OPSSUBM'].fillna(0).apply(npust)"
      ],
      "metadata": {
        "id": "Ru6oYz715rOZ"
      },
      "execution_count": null,
      "outputs": []
    },
    {
      "cell_type": "code",
      "source": [
        "big_df"
      ],
      "metadata": {
        "colab": {
          "base_uri": "https://localhost:8080/",
          "height": 800
        },
        "id": "lKk4pbpcBVXy",
        "outputId": "6af71435-03b5-44b3-c75b-1969f3069d3b"
      },
      "execution_count": null,
      "outputs": [
        {
          "output_type": "execute_result",
          "data": {
            "text/plain": [
              "              id oper_type + oper_attr  index_oper     type  priority  \\\n",
              "0        6818780               1043_-1      628629  Участок    7503.0   \n",
              "1        9907176               1023_-1      102976     ММПО    7503.0   \n",
              "2        3304275               1018_-1      620962      Цех    7503.0   \n",
              "3        9020937               1019_-1      344964      Цех    7503.0   \n",
              "4        3082311               1020_-1      629819  Участок    7503.0   \n",
              "...          ...                   ...         ...      ...       ...   \n",
              "5999995  9958614               1022_-1      102976     ММПО    7503.0   \n",
              "5999996  2234489               1022_-1      241963      Цех    7503.0   \n",
              "5999997  4304572               1041_-1      102971      Цех    7506.0   \n",
              "5999998  6550634               1018_-1      102152      Цех    7506.0   \n",
              "5999999  6423388                   8_2      140531     СОПС    7503.0   \n",
              "\n",
              "        is_privatecategory  class  is_in_yandex  is_return  weight  mailtype  \\\n",
              "0                        N    0.0             2          0    87.0       5.0   \n",
              "1                        N    0.0             1          0   107.0       5.0   \n",
              "2                        N    0.0             2          0    50.0       5.0   \n",
              "3                        N    0.0             2          0   416.0       5.0   \n",
              "4                        N    0.0             2          0   795.0       5.0   \n",
              "...                    ...    ...           ...        ...     ...       ...   \n",
              "5999995                  N    0.0             1          0    25.0       5.0   \n",
              "5999996                  N    0.0             2          0    83.0       5.0   \n",
              "5999997                  N    0.0             1          0  1700.0       5.0   \n",
              "5999998                  N    0.0             1          0   269.0       5.0   \n",
              "5999999                  N    4.0             2          0    41.0       5.0   \n",
              "\n",
              "         mailctg  mailrank  directctg  transport_pay  postmark  \\\n",
              "0            1.0       0.0        2.0           0.00       0.0   \n",
              "1            1.0       0.0        2.0           0.00       0.0   \n",
              "2            1.0       0.0        2.0           0.00       0.0   \n",
              "3            1.0       0.0        2.0          35.34       0.0   \n",
              "4            1.0       0.0        2.0          52.52       0.0   \n",
              "...          ...       ...        ...            ...       ...   \n",
              "5999995      0.0       0.0        2.0           0.00       0.0   \n",
              "5999996      1.0       0.0        2.0           0.00       0.0   \n",
              "5999997      1.0       0.0        2.0          94.09       0.0   \n",
              "5999998      1.0       0.0        2.0           0.00       0.0   \n",
              "5999999      1.0       0.0        2.0           0.00       0.0   \n",
              "\n",
              "                                             name_mfi  weight_mfi  price_mfi  \\\n",
              "0                                        Fishhook,USB        41.0      150.0   \n",
              "1        screen protector,Case(Q613B),case(208B40-DB)        68.0      400.0   \n",
              "2         Pendant Necklaces,Rings for Women,Necklaces        56.0      218.0   \n",
              "3                              Motorcycle Signal Lamp        33.0      100.0   \n",
              "4                                            backpack       716.0     1000.0   \n",
              "...                                               ...         ...        ...   \n",
              "5999995                                     KEY CHAIN        24.0      100.0   \n",
              "5999996                                         Dolls       100.0     1832.0   \n",
              "5999997                                   Down jacket       952.0      800.0   \n",
              "5999998                                             0         0.0        0.0   \n",
              "5999999              Jewelry Beads,Jewelry Components        40.0      400.0   \n",
              "\n",
              "         dist_qty_oper_login_1  total_qty_oper_login_1  \\\n",
              "0                         42.0                720176.0   \n",
              "1                        914.0              48856658.0   \n",
              "2                         62.0               3246292.0   \n",
              "3                         55.0               2060928.0   \n",
              "4                         16.0                316919.0   \n",
              "...                        ...                     ...   \n",
              "5999995                 1089.0              64270133.0   \n",
              "5999996                   31.0               1767370.0   \n",
              "5999997                  186.0              60613352.0   \n",
              "5999998                  105.0              15091338.0   \n",
              "5999999                    1.0                  1541.0   \n",
              "\n",
              "         total_qty_oper_login_0  total_qty_over_index_and_type  \\\n",
              "0                       58950.0                       779126.0   \n",
              "1                    83318932.0                    132175590.0   \n",
              "2                     3233068.0                      6479360.0   \n",
              "3                      653280.0                      2714208.0   \n",
              "4                       27911.0                       344830.0   \n",
              "...                         ...                            ...   \n",
              "5999995             116432632.0                    180702765.0   \n",
              "5999996                144063.0                      1911433.0   \n",
              "5999997                 10648.0                     60624000.0   \n",
              "5999998               4972424.0                     20063762.0   \n",
              "5999999                   353.0                         1894.0   \n",
              "\n",
              "         total_qty_over_index  is_wrong_sndr_name  is_wrong_rcpn_name  \\\n",
              "0                   8290896.0                   0                   0   \n",
              "1                 136819803.0                   0                   0   \n",
              "2                  52708071.0                   0                   1   \n",
              "3                  19562334.0                   0                   0   \n",
              "4                   4719186.0                   0                   0   \n",
              "...                       ...                 ...                 ...   \n",
              "5999995           188407812.0                   0                   0   \n",
              "5999996            15582018.0                   0                   0   \n",
              "5999997            75592387.0                   0                   0   \n",
              "5999998            39988530.0                   0                   1   \n",
              "5999999               17238.0                   0                   0   \n",
              "\n",
              "         is_wrong_phone_number  is_wrong_address  label  op_t  op_a  \\\n",
              "0                            0                 0      0  1043    -1   \n",
              "1                            0                 0      0  1023    -1   \n",
              "2                            0                 0      0  1018    -1   \n",
              "3                            0                 0      0  1019    -1   \n",
              "4                            0                 0      0  1020    -1   \n",
              "...                        ...               ...    ...   ...   ...   \n",
              "5999995                      1                 0      0  1022    -1   \n",
              "5999996                      0                 0      0  1022    -1   \n",
              "5999997                      0                 0      0  1041    -1   \n",
              "5999998                      0                 0      0  1018    -1   \n",
              "5999999                      0                 0      0     8     2   \n",
              "\n",
              "         new_index_oper  OPSSUBM            CITY    ACTDATE  \\\n",
              "0                628629   628600   НИЖНЕВАРТОВСК 2017-09-06   \n",
              "1                102976   102975        ШАРАПОВО 2020-04-02   \n",
              "2                620962   620960    ЕКАТЕРИНБУРГ 2010-06-18   \n",
              "3                344964   344960  РОСТОВ-НА-ДОНУ 2010-06-18   \n",
              "4                629819   629800        НОЯБРЬСК 2017-09-11   \n",
              "...                 ...      ...             ...        ...   \n",
              "5999995          102976   102975        ШАРАПОВО 2020-04-02   \n",
              "5999996          241963   241960          БРЯНСК 2010-06-18   \n",
              "5999997          102971   102975        ШАРАПОВО 2020-04-02   \n",
              "5999998          102152   102150          МОСКВА 2007-04-18   \n",
              "5999999          140531   140499        ЛУХОВИЦЫ 2020-04-23   \n",
              "\n",
              "                                           AREA  \n",
              "0        ХАНТЫ-МАНСИЙСКИЙ-ЮГРА АВТОНОМНЫЙ ОКРУГ  \n",
              "1                                        МОСКВА  \n",
              "2                          СВЕРДЛОВСКАЯ ОБЛАСТЬ  \n",
              "3                            РОСТОВСКАЯ ОБЛАСТЬ  \n",
              "4               ЯМАЛО-НЕНЕЦКИЙ АВТОНОМНЫЙ ОКРУГ  \n",
              "...                                         ...  \n",
              "5999995                                  МОСКВА  \n",
              "5999996                        БРЯНСКАЯ ОБЛАСТЬ  \n",
              "5999997                                  МОСКВА  \n",
              "5999998                                  МОСКВА  \n",
              "5999999                      МОСКОВСКАЯ ОБЛАСТЬ  \n",
              "\n",
              "[6000000 rows x 36 columns]"
            ],
            "text/html": [
              "\n",
              "  <div id=\"df-e199820d-1856-4e34-9307-69bc4d8151eb\">\n",
              "    <div class=\"colab-df-container\">\n",
              "      <div>\n",
              "<style scoped>\n",
              "    .dataframe tbody tr th:only-of-type {\n",
              "        vertical-align: middle;\n",
              "    }\n",
              "\n",
              "    .dataframe tbody tr th {\n",
              "        vertical-align: top;\n",
              "    }\n",
              "\n",
              "    .dataframe thead th {\n",
              "        text-align: right;\n",
              "    }\n",
              "</style>\n",
              "<table border=\"1\" class=\"dataframe\">\n",
              "  <thead>\n",
              "    <tr style=\"text-align: right;\">\n",
              "      <th></th>\n",
              "      <th>id</th>\n",
              "      <th>oper_type + oper_attr</th>\n",
              "      <th>index_oper</th>\n",
              "      <th>type</th>\n",
              "      <th>priority</th>\n",
              "      <th>is_privatecategory</th>\n",
              "      <th>class</th>\n",
              "      <th>is_in_yandex</th>\n",
              "      <th>is_return</th>\n",
              "      <th>weight</th>\n",
              "      <th>mailtype</th>\n",
              "      <th>mailctg</th>\n",
              "      <th>mailrank</th>\n",
              "      <th>directctg</th>\n",
              "      <th>transport_pay</th>\n",
              "      <th>postmark</th>\n",
              "      <th>name_mfi</th>\n",
              "      <th>weight_mfi</th>\n",
              "      <th>price_mfi</th>\n",
              "      <th>dist_qty_oper_login_1</th>\n",
              "      <th>total_qty_oper_login_1</th>\n",
              "      <th>total_qty_oper_login_0</th>\n",
              "      <th>total_qty_over_index_and_type</th>\n",
              "      <th>total_qty_over_index</th>\n",
              "      <th>is_wrong_sndr_name</th>\n",
              "      <th>is_wrong_rcpn_name</th>\n",
              "      <th>is_wrong_phone_number</th>\n",
              "      <th>is_wrong_address</th>\n",
              "      <th>label</th>\n",
              "      <th>op_t</th>\n",
              "      <th>op_a</th>\n",
              "      <th>new_index_oper</th>\n",
              "      <th>OPSSUBM</th>\n",
              "      <th>CITY</th>\n",
              "      <th>ACTDATE</th>\n",
              "      <th>AREA</th>\n",
              "    </tr>\n",
              "  </thead>\n",
              "  <tbody>\n",
              "    <tr>\n",
              "      <th>0</th>\n",
              "      <td>6818780</td>\n",
              "      <td>1043_-1</td>\n",
              "      <td>628629</td>\n",
              "      <td>Участок</td>\n",
              "      <td>7503.0</td>\n",
              "      <td>N</td>\n",
              "      <td>0.0</td>\n",
              "      <td>2</td>\n",
              "      <td>0</td>\n",
              "      <td>87.0</td>\n",
              "      <td>5.0</td>\n",
              "      <td>1.0</td>\n",
              "      <td>0.0</td>\n",
              "      <td>2.0</td>\n",
              "      <td>0.00</td>\n",
              "      <td>0.0</td>\n",
              "      <td>Fishhook,USB</td>\n",
              "      <td>41.0</td>\n",
              "      <td>150.0</td>\n",
              "      <td>42.0</td>\n",
              "      <td>720176.0</td>\n",
              "      <td>58950.0</td>\n",
              "      <td>779126.0</td>\n",
              "      <td>8290896.0</td>\n",
              "      <td>0</td>\n",
              "      <td>0</td>\n",
              "      <td>0</td>\n",
              "      <td>0</td>\n",
              "      <td>0</td>\n",
              "      <td>1043</td>\n",
              "      <td>-1</td>\n",
              "      <td>628629</td>\n",
              "      <td>628600</td>\n",
              "      <td>НИЖНЕВАРТОВСК</td>\n",
              "      <td>2017-09-06</td>\n",
              "      <td>ХАНТЫ-МАНСИЙСКИЙ-ЮГРА АВТОНОМНЫЙ ОКРУГ</td>\n",
              "    </tr>\n",
              "    <tr>\n",
              "      <th>1</th>\n",
              "      <td>9907176</td>\n",
              "      <td>1023_-1</td>\n",
              "      <td>102976</td>\n",
              "      <td>ММПО</td>\n",
              "      <td>7503.0</td>\n",
              "      <td>N</td>\n",
              "      <td>0.0</td>\n",
              "      <td>1</td>\n",
              "      <td>0</td>\n",
              "      <td>107.0</td>\n",
              "      <td>5.0</td>\n",
              "      <td>1.0</td>\n",
              "      <td>0.0</td>\n",
              "      <td>2.0</td>\n",
              "      <td>0.00</td>\n",
              "      <td>0.0</td>\n",
              "      <td>screen protector,Case(Q613B),case(208B40-DB)</td>\n",
              "      <td>68.0</td>\n",
              "      <td>400.0</td>\n",
              "      <td>914.0</td>\n",
              "      <td>48856658.0</td>\n",
              "      <td>83318932.0</td>\n",
              "      <td>132175590.0</td>\n",
              "      <td>136819803.0</td>\n",
              "      <td>0</td>\n",
              "      <td>0</td>\n",
              "      <td>0</td>\n",
              "      <td>0</td>\n",
              "      <td>0</td>\n",
              "      <td>1023</td>\n",
              "      <td>-1</td>\n",
              "      <td>102976</td>\n",
              "      <td>102975</td>\n",
              "      <td>ШАРАПОВО</td>\n",
              "      <td>2020-04-02</td>\n",
              "      <td>МОСКВА</td>\n",
              "    </tr>\n",
              "    <tr>\n",
              "      <th>2</th>\n",
              "      <td>3304275</td>\n",
              "      <td>1018_-1</td>\n",
              "      <td>620962</td>\n",
              "      <td>Цех</td>\n",
              "      <td>7503.0</td>\n",
              "      <td>N</td>\n",
              "      <td>0.0</td>\n",
              "      <td>2</td>\n",
              "      <td>0</td>\n",
              "      <td>50.0</td>\n",
              "      <td>5.0</td>\n",
              "      <td>1.0</td>\n",
              "      <td>0.0</td>\n",
              "      <td>2.0</td>\n",
              "      <td>0.00</td>\n",
              "      <td>0.0</td>\n",
              "      <td>Pendant Necklaces,Rings for Women,Necklaces</td>\n",
              "      <td>56.0</td>\n",
              "      <td>218.0</td>\n",
              "      <td>62.0</td>\n",
              "      <td>3246292.0</td>\n",
              "      <td>3233068.0</td>\n",
              "      <td>6479360.0</td>\n",
              "      <td>52708071.0</td>\n",
              "      <td>0</td>\n",
              "      <td>1</td>\n",
              "      <td>0</td>\n",
              "      <td>0</td>\n",
              "      <td>0</td>\n",
              "      <td>1018</td>\n",
              "      <td>-1</td>\n",
              "      <td>620962</td>\n",
              "      <td>620960</td>\n",
              "      <td>ЕКАТЕРИНБУРГ</td>\n",
              "      <td>2010-06-18</td>\n",
              "      <td>СВЕРДЛОВСКАЯ ОБЛАСТЬ</td>\n",
              "    </tr>\n",
              "    <tr>\n",
              "      <th>3</th>\n",
              "      <td>9020937</td>\n",
              "      <td>1019_-1</td>\n",
              "      <td>344964</td>\n",
              "      <td>Цех</td>\n",
              "      <td>7503.0</td>\n",
              "      <td>N</td>\n",
              "      <td>0.0</td>\n",
              "      <td>2</td>\n",
              "      <td>0</td>\n",
              "      <td>416.0</td>\n",
              "      <td>5.0</td>\n",
              "      <td>1.0</td>\n",
              "      <td>0.0</td>\n",
              "      <td>2.0</td>\n",
              "      <td>35.34</td>\n",
              "      <td>0.0</td>\n",
              "      <td>Motorcycle Signal Lamp</td>\n",
              "      <td>33.0</td>\n",
              "      <td>100.0</td>\n",
              "      <td>55.0</td>\n",
              "      <td>2060928.0</td>\n",
              "      <td>653280.0</td>\n",
              "      <td>2714208.0</td>\n",
              "      <td>19562334.0</td>\n",
              "      <td>0</td>\n",
              "      <td>0</td>\n",
              "      <td>0</td>\n",
              "      <td>0</td>\n",
              "      <td>0</td>\n",
              "      <td>1019</td>\n",
              "      <td>-1</td>\n",
              "      <td>344964</td>\n",
              "      <td>344960</td>\n",
              "      <td>РОСТОВ-НА-ДОНУ</td>\n",
              "      <td>2010-06-18</td>\n",
              "      <td>РОСТОВСКАЯ ОБЛАСТЬ</td>\n",
              "    </tr>\n",
              "    <tr>\n",
              "      <th>4</th>\n",
              "      <td>3082311</td>\n",
              "      <td>1020_-1</td>\n",
              "      <td>629819</td>\n",
              "      <td>Участок</td>\n",
              "      <td>7503.0</td>\n",
              "      <td>N</td>\n",
              "      <td>0.0</td>\n",
              "      <td>2</td>\n",
              "      <td>0</td>\n",
              "      <td>795.0</td>\n",
              "      <td>5.0</td>\n",
              "      <td>1.0</td>\n",
              "      <td>0.0</td>\n",
              "      <td>2.0</td>\n",
              "      <td>52.52</td>\n",
              "      <td>0.0</td>\n",
              "      <td>backpack</td>\n",
              "      <td>716.0</td>\n",
              "      <td>1000.0</td>\n",
              "      <td>16.0</td>\n",
              "      <td>316919.0</td>\n",
              "      <td>27911.0</td>\n",
              "      <td>344830.0</td>\n",
              "      <td>4719186.0</td>\n",
              "      <td>0</td>\n",
              "      <td>0</td>\n",
              "      <td>0</td>\n",
              "      <td>0</td>\n",
              "      <td>0</td>\n",
              "      <td>1020</td>\n",
              "      <td>-1</td>\n",
              "      <td>629819</td>\n",
              "      <td>629800</td>\n",
              "      <td>НОЯБРЬСК</td>\n",
              "      <td>2017-09-11</td>\n",
              "      <td>ЯМАЛО-НЕНЕЦКИЙ АВТОНОМНЫЙ ОКРУГ</td>\n",
              "    </tr>\n",
              "    <tr>\n",
              "      <th>...</th>\n",
              "      <td>...</td>\n",
              "      <td>...</td>\n",
              "      <td>...</td>\n",
              "      <td>...</td>\n",
              "      <td>...</td>\n",
              "      <td>...</td>\n",
              "      <td>...</td>\n",
              "      <td>...</td>\n",
              "      <td>...</td>\n",
              "      <td>...</td>\n",
              "      <td>...</td>\n",
              "      <td>...</td>\n",
              "      <td>...</td>\n",
              "      <td>...</td>\n",
              "      <td>...</td>\n",
              "      <td>...</td>\n",
              "      <td>...</td>\n",
              "      <td>...</td>\n",
              "      <td>...</td>\n",
              "      <td>...</td>\n",
              "      <td>...</td>\n",
              "      <td>...</td>\n",
              "      <td>...</td>\n",
              "      <td>...</td>\n",
              "      <td>...</td>\n",
              "      <td>...</td>\n",
              "      <td>...</td>\n",
              "      <td>...</td>\n",
              "      <td>...</td>\n",
              "      <td>...</td>\n",
              "      <td>...</td>\n",
              "      <td>...</td>\n",
              "      <td>...</td>\n",
              "      <td>...</td>\n",
              "      <td>...</td>\n",
              "      <td>...</td>\n",
              "    </tr>\n",
              "    <tr>\n",
              "      <th>5999995</th>\n",
              "      <td>9958614</td>\n",
              "      <td>1022_-1</td>\n",
              "      <td>102976</td>\n",
              "      <td>ММПО</td>\n",
              "      <td>7503.0</td>\n",
              "      <td>N</td>\n",
              "      <td>0.0</td>\n",
              "      <td>1</td>\n",
              "      <td>0</td>\n",
              "      <td>25.0</td>\n",
              "      <td>5.0</td>\n",
              "      <td>0.0</td>\n",
              "      <td>0.0</td>\n",
              "      <td>2.0</td>\n",
              "      <td>0.00</td>\n",
              "      <td>0.0</td>\n",
              "      <td>KEY CHAIN</td>\n",
              "      <td>24.0</td>\n",
              "      <td>100.0</td>\n",
              "      <td>1089.0</td>\n",
              "      <td>64270133.0</td>\n",
              "      <td>116432632.0</td>\n",
              "      <td>180702765.0</td>\n",
              "      <td>188407812.0</td>\n",
              "      <td>0</td>\n",
              "      <td>0</td>\n",
              "      <td>1</td>\n",
              "      <td>0</td>\n",
              "      <td>0</td>\n",
              "      <td>1022</td>\n",
              "      <td>-1</td>\n",
              "      <td>102976</td>\n",
              "      <td>102975</td>\n",
              "      <td>ШАРАПОВО</td>\n",
              "      <td>2020-04-02</td>\n",
              "      <td>МОСКВА</td>\n",
              "    </tr>\n",
              "    <tr>\n",
              "      <th>5999996</th>\n",
              "      <td>2234489</td>\n",
              "      <td>1022_-1</td>\n",
              "      <td>241963</td>\n",
              "      <td>Цех</td>\n",
              "      <td>7503.0</td>\n",
              "      <td>N</td>\n",
              "      <td>0.0</td>\n",
              "      <td>2</td>\n",
              "      <td>0</td>\n",
              "      <td>83.0</td>\n",
              "      <td>5.0</td>\n",
              "      <td>1.0</td>\n",
              "      <td>0.0</td>\n",
              "      <td>2.0</td>\n",
              "      <td>0.00</td>\n",
              "      <td>0.0</td>\n",
              "      <td>Dolls</td>\n",
              "      <td>100.0</td>\n",
              "      <td>1832.0</td>\n",
              "      <td>31.0</td>\n",
              "      <td>1767370.0</td>\n",
              "      <td>144063.0</td>\n",
              "      <td>1911433.0</td>\n",
              "      <td>15582018.0</td>\n",
              "      <td>0</td>\n",
              "      <td>0</td>\n",
              "      <td>0</td>\n",
              "      <td>0</td>\n",
              "      <td>0</td>\n",
              "      <td>1022</td>\n",
              "      <td>-1</td>\n",
              "      <td>241963</td>\n",
              "      <td>241960</td>\n",
              "      <td>БРЯНСК</td>\n",
              "      <td>2010-06-18</td>\n",
              "      <td>БРЯНСКАЯ ОБЛАСТЬ</td>\n",
              "    </tr>\n",
              "    <tr>\n",
              "      <th>5999997</th>\n",
              "      <td>4304572</td>\n",
              "      <td>1041_-1</td>\n",
              "      <td>102971</td>\n",
              "      <td>Цех</td>\n",
              "      <td>7506.0</td>\n",
              "      <td>N</td>\n",
              "      <td>0.0</td>\n",
              "      <td>1</td>\n",
              "      <td>0</td>\n",
              "      <td>1700.0</td>\n",
              "      <td>5.0</td>\n",
              "      <td>1.0</td>\n",
              "      <td>0.0</td>\n",
              "      <td>2.0</td>\n",
              "      <td>94.09</td>\n",
              "      <td>0.0</td>\n",
              "      <td>Down jacket</td>\n",
              "      <td>952.0</td>\n",
              "      <td>800.0</td>\n",
              "      <td>186.0</td>\n",
              "      <td>60613352.0</td>\n",
              "      <td>10648.0</td>\n",
              "      <td>60624000.0</td>\n",
              "      <td>75592387.0</td>\n",
              "      <td>0</td>\n",
              "      <td>0</td>\n",
              "      <td>0</td>\n",
              "      <td>0</td>\n",
              "      <td>0</td>\n",
              "      <td>1041</td>\n",
              "      <td>-1</td>\n",
              "      <td>102971</td>\n",
              "      <td>102975</td>\n",
              "      <td>ШАРАПОВО</td>\n",
              "      <td>2020-04-02</td>\n",
              "      <td>МОСКВА</td>\n",
              "    </tr>\n",
              "    <tr>\n",
              "      <th>5999998</th>\n",
              "      <td>6550634</td>\n",
              "      <td>1018_-1</td>\n",
              "      <td>102152</td>\n",
              "      <td>Цех</td>\n",
              "      <td>7506.0</td>\n",
              "      <td>N</td>\n",
              "      <td>0.0</td>\n",
              "      <td>1</td>\n",
              "      <td>0</td>\n",
              "      <td>269.0</td>\n",
              "      <td>5.0</td>\n",
              "      <td>1.0</td>\n",
              "      <td>0.0</td>\n",
              "      <td>2.0</td>\n",
              "      <td>0.00</td>\n",
              "      <td>0.0</td>\n",
              "      <td>0</td>\n",
              "      <td>0.0</td>\n",
              "      <td>0.0</td>\n",
              "      <td>105.0</td>\n",
              "      <td>15091338.0</td>\n",
              "      <td>4972424.0</td>\n",
              "      <td>20063762.0</td>\n",
              "      <td>39988530.0</td>\n",
              "      <td>0</td>\n",
              "      <td>1</td>\n",
              "      <td>0</td>\n",
              "      <td>0</td>\n",
              "      <td>0</td>\n",
              "      <td>1018</td>\n",
              "      <td>-1</td>\n",
              "      <td>102152</td>\n",
              "      <td>102150</td>\n",
              "      <td>МОСКВА</td>\n",
              "      <td>2007-04-18</td>\n",
              "      <td>МОСКВА</td>\n",
              "    </tr>\n",
              "    <tr>\n",
              "      <th>5999999</th>\n",
              "      <td>6423388</td>\n",
              "      <td>8_2</td>\n",
              "      <td>140531</td>\n",
              "      <td>СОПС</td>\n",
              "      <td>7503.0</td>\n",
              "      <td>N</td>\n",
              "      <td>4.0</td>\n",
              "      <td>2</td>\n",
              "      <td>0</td>\n",
              "      <td>41.0</td>\n",
              "      <td>5.0</td>\n",
              "      <td>1.0</td>\n",
              "      <td>0.0</td>\n",
              "      <td>2.0</td>\n",
              "      <td>0.00</td>\n",
              "      <td>0.0</td>\n",
              "      <td>Jewelry Beads,Jewelry Components</td>\n",
              "      <td>40.0</td>\n",
              "      <td>400.0</td>\n",
              "      <td>1.0</td>\n",
              "      <td>1541.0</td>\n",
              "      <td>353.0</td>\n",
              "      <td>1894.0</td>\n",
              "      <td>17238.0</td>\n",
              "      <td>0</td>\n",
              "      <td>0</td>\n",
              "      <td>0</td>\n",
              "      <td>0</td>\n",
              "      <td>0</td>\n",
              "      <td>8</td>\n",
              "      <td>2</td>\n",
              "      <td>140531</td>\n",
              "      <td>140499</td>\n",
              "      <td>ЛУХОВИЦЫ</td>\n",
              "      <td>2020-04-23</td>\n",
              "      <td>МОСКОВСКАЯ ОБЛАСТЬ</td>\n",
              "    </tr>\n",
              "  </tbody>\n",
              "</table>\n",
              "<p>6000000 rows × 36 columns</p>\n",
              "</div>\n",
              "      <button class=\"colab-df-convert\" onclick=\"convertToInteractive('df-e199820d-1856-4e34-9307-69bc4d8151eb')\"\n",
              "              title=\"Convert this dataframe to an interactive table.\"\n",
              "              style=\"display:none;\">\n",
              "        \n",
              "  <svg xmlns=\"http://www.w3.org/2000/svg\" height=\"24px\"viewBox=\"0 0 24 24\"\n",
              "       width=\"24px\">\n",
              "    <path d=\"M0 0h24v24H0V0z\" fill=\"none\"/>\n",
              "    <path d=\"M18.56 5.44l.94 2.06.94-2.06 2.06-.94-2.06-.94-.94-2.06-.94 2.06-2.06.94zm-11 1L8.5 8.5l.94-2.06 2.06-.94-2.06-.94L8.5 2.5l-.94 2.06-2.06.94zm10 10l.94 2.06.94-2.06 2.06-.94-2.06-.94-.94-2.06-.94 2.06-2.06.94z\"/><path d=\"M17.41 7.96l-1.37-1.37c-.4-.4-.92-.59-1.43-.59-.52 0-1.04.2-1.43.59L10.3 9.45l-7.72 7.72c-.78.78-.78 2.05 0 2.83L4 21.41c.39.39.9.59 1.41.59.51 0 1.02-.2 1.41-.59l7.78-7.78 2.81-2.81c.8-.78.8-2.07 0-2.86zM5.41 20L4 18.59l7.72-7.72 1.47 1.35L5.41 20z\"/>\n",
              "  </svg>\n",
              "      </button>\n",
              "      \n",
              "  <style>\n",
              "    .colab-df-container {\n",
              "      display:flex;\n",
              "      flex-wrap:wrap;\n",
              "      gap: 12px;\n",
              "    }\n",
              "\n",
              "    .colab-df-convert {\n",
              "      background-color: #E8F0FE;\n",
              "      border: none;\n",
              "      border-radius: 50%;\n",
              "      cursor: pointer;\n",
              "      display: none;\n",
              "      fill: #1967D2;\n",
              "      height: 32px;\n",
              "      padding: 0 0 0 0;\n",
              "      width: 32px;\n",
              "    }\n",
              "\n",
              "    .colab-df-convert:hover {\n",
              "      background-color: #E2EBFA;\n",
              "      box-shadow: 0px 1px 2px rgba(60, 64, 67, 0.3), 0px 1px 3px 1px rgba(60, 64, 67, 0.15);\n",
              "      fill: #174EA6;\n",
              "    }\n",
              "\n",
              "    [theme=dark] .colab-df-convert {\n",
              "      background-color: #3B4455;\n",
              "      fill: #D2E3FC;\n",
              "    }\n",
              "\n",
              "    [theme=dark] .colab-df-convert:hover {\n",
              "      background-color: #434B5C;\n",
              "      box-shadow: 0px 1px 3px 1px rgba(0, 0, 0, 0.15);\n",
              "      filter: drop-shadow(0px 1px 2px rgba(0, 0, 0, 0.3));\n",
              "      fill: #FFFFFF;\n",
              "    }\n",
              "  </style>\n",
              "\n",
              "      <script>\n",
              "        const buttonEl =\n",
              "          document.querySelector('#df-e199820d-1856-4e34-9307-69bc4d8151eb button.colab-df-convert');\n",
              "        buttonEl.style.display =\n",
              "          google.colab.kernel.accessAllowed ? 'block' : 'none';\n",
              "\n",
              "        async function convertToInteractive(key) {\n",
              "          const element = document.querySelector('#df-e199820d-1856-4e34-9307-69bc4d8151eb');\n",
              "          const dataTable =\n",
              "            await google.colab.kernel.invokeFunction('convertToInteractive',\n",
              "                                                     [key], {});\n",
              "          if (!dataTable) return;\n",
              "\n",
              "          const docLinkHtml = 'Like what you see? Visit the ' +\n",
              "            '<a target=\"_blank\" href=https://colab.research.google.com/notebooks/data_table.ipynb>data table notebook</a>'\n",
              "            + ' to learn more about interactive tables.';\n",
              "          element.innerHTML = '';\n",
              "          dataTable['output_type'] = 'display_data';\n",
              "          await google.colab.output.renderOutput(dataTable, element);\n",
              "          const docLink = document.createElement('div');\n",
              "          docLink.innerHTML = docLinkHtml;\n",
              "          element.appendChild(docLink);\n",
              "        }\n",
              "      </script>\n",
              "    </div>\n",
              "  </div>\n",
              "  "
            ]
          },
          "metadata": {},
          "execution_count": 22
        }
      ]
    },
    {
      "cell_type": "code",
      "source": [],
      "metadata": {
        "id": "M24LIrklLDmp"
      },
      "execution_count": null,
      "outputs": []
    },
    {
      "cell_type": "code",
      "source": [
        "big_df.to_csv('big_df.csv')"
      ],
      "metadata": {
        "id": "xkJpHWbEJgtU"
      },
      "execution_count": null,
      "outputs": []
    },
    {
      "cell_type": "markdown",
      "source": [
        "# BIGI"
      ],
      "metadata": {
        "id": "r1WwHemxPmJe"
      }
    },
    {
      "cell_type": "code",
      "source": [
        "big_df = pd.read_csv('big_df.csv')"
      ],
      "metadata": {
        "id": "sSw7CCCYQC0q"
      },
      "execution_count": null,
      "outputs": []
    },
    {
      "cell_type": "code",
      "source": [
        "N_THREADS = 32\n",
        "N_FOLDS = 5\n",
        "RANDOM_STATE = 42\n",
        "TEST_SIZE = 0.2\n",
        "TIMEOUT = 900*4 # equal to 15*4 minutes\n",
        "TARGET_NAME = 'label'"
      ],
      "metadata": {
        "id": "UWQG-v1ybvIT"
      },
      "execution_count": null,
      "outputs": []
    },
    {
      "cell_type": "code",
      "source": [
        "np.random.seed(RANDOM_STATE)\n",
        "torch.set_num_threads(N_THREADS)"
      ],
      "metadata": {
        "id": "bGweimaKcW8c"
      },
      "execution_count": null,
      "outputs": []
    },
    {
      "cell_type": "code",
      "source": [
        "del pld"
      ],
      "metadata": {
        "id": "tTdJvLU2CkLP"
      },
      "execution_count": null,
      "outputs": []
    },
    {
      "cell_type": "code",
      "source": [
        "del df"
      ],
      "metadata": {
        "id": "-86_P4MdD4a1"
      },
      "execution_count": null,
      "outputs": []
    },
    {
      "cell_type": "code",
      "source": [
        "del pz"
      ],
      "metadata": {
        "id": "3UmntnYeD4jr"
      },
      "execution_count": null,
      "outputs": []
    },
    {
      "cell_type": "code",
      "source": [
        "tr_data, te_data = train_test_split(\n",
        "    big_df.drop(['Unnamed: 0','op_t'],axis = 1), \n",
        "    test_size=TEST_SIZE, \n",
        "    random_state=RANDOM_STATE\n",
        ")\n",
        "\n",
        "print(f'Data splitted. Parts sizes: tr_data = {tr_data.shape}, te_data = {te_data.shape}')\n",
        "\n",
        "tr_data.head()"
      ],
      "metadata": {
        "id": "Oz07filWcag-",
        "colab": {
          "base_uri": "https://localhost:8080/",
          "height": 461
        },
        "outputId": "df53aab9-7d30-46fe-8839-5dfff5501691"
      },
      "execution_count": null,
      "outputs": [
        {
          "output_type": "stream",
          "name": "stdout",
          "text": [
            "Data splitted. Parts sizes: tr_data = (4800000, 35), te_data = (1200000, 35)\n"
          ]
        },
        {
          "output_type": "execute_result",
          "data": {
            "text/plain": [
              "              id oper_type + oper_attr  index_oper     type  priority  \\\n",
              "3604976  4619089               1041_-1      243149        П    7503.0   \n",
              "5936295  1004170               1020_-1       68396  Участок    7503.0   \n",
              "1804115  2569448               1004_-1       10297     ММПО    7503.0   \n",
              "4351206  5506132               1023_-1      620984  Участок    7503.0   \n",
              "5014389   727375               1018_-1      102971      Цех    7506.0   \n",
              "\n",
              "        is_privatecategory  class  is_in_yandex  is_return  weight  mailtype  \\\n",
              "3604976                  N    2.0             2          0   141.0       5.0   \n",
              "5936295                  N    0.0             2          0   736.0       5.0   \n",
              "1804115                  N    0.0             1          0   175.0       5.0   \n",
              "4351206                  N    0.0             1          0   753.0       5.0   \n",
              "5014389                  N    0.0             1          0  1138.0       5.0   \n",
              "\n",
              "         mailctg  mailrank  directctg  transport_pay  postmark  \\\n",
              "3604976      1.0       0.0        2.0          22.59       0.0   \n",
              "5936295      1.0       0.0        2.0          50.12       0.0   \n",
              "1804115      0.0       0.0        2.0           0.00       0.0   \n",
              "4351206      1.0       0.0        2.0          50.81       0.0   \n",
              "5014389      1.0       0.0        2.0          68.54       0.0   \n",
              "\n",
              "                              name_mfi  weight_mfi  price_mfi  \\\n",
              "3604976                         Blocks        37.0      190.0   \n",
              "5936295                       Slippers       520.0      300.0   \n",
              "1804115    Mobile Phone Cases & Covers        80.0      100.0   \n",
              "4351206                     rhinestone         1.0        7.0   \n",
              "5014389  Jewelry Findings & Components        10.0      380.0   \n",
              "\n",
              "         dist_qty_oper_login_1  total_qty_oper_login_1  \\\n",
              "3604976                    7.0                 72206.0   \n",
              "5936295                   15.0                487093.0   \n",
              "1804115                  972.0              68766046.0   \n",
              "4351206                   27.0               9164121.0   \n",
              "5014389                  186.0              60613352.0   \n",
              "\n",
              "         total_qty_oper_login_0  total_qty_over_index_and_type  \\\n",
              "3604976                  7646.0                        79852.0   \n",
              "5936295                147547.0                       634640.0   \n",
              "1804115              91123247.0                    159889293.0   \n",
              "4351206               4770841.0                     13934962.0   \n",
              "5014389                 10648.0                     60624000.0   \n",
              "\n",
              "         total_qty_over_index  is_wrong_sndr_name  is_wrong_rcpn_name  \\\n",
              "3604976             1110354.0                   0                   0   \n",
              "5936295             4821535.0                   0                   0   \n",
              "1804115           164927295.0                   0                   0   \n",
              "4351206            14030822.0                   0                   0   \n",
              "5014389            75592387.0                   0                   0   \n",
              "\n",
              "         is_wrong_phone_number  is_wrong_address  label  op_a  new_index_oper  \\\n",
              "3604976                      1                 0      0    -1          243149   \n",
              "5936295                      0                 0      0    -1          683969   \n",
              "1804115                      1                 0      1    -1          102979   \n",
              "4351206                      1                 0      0    -1          620984   \n",
              "5014389                      0                 0      0    -1          102971   \n",
              "\n",
              "         OPSSUBM          CITY     ACTDATE                  AREA  \n",
              "3604976   241700        КЛИНЦЫ  2007-10-04      БРЯНСКАЯ ОБЛАСТЬ  \n",
              "5936295   683960       ЕЛИЗОВО  2018-02-28       КАМЧАТСКИЙ КРАЙ  \n",
              "1804115   102975      ШАРАПОВО  2020-04-02                МОСКВА  \n",
              "4351206   620980  ЕКАТЕРИНБУРГ  2013-10-21  СВЕРДЛОВСКАЯ ОБЛАСТЬ  \n",
              "5014389   102975      ШАРАПОВО  2020-04-02                МОСКВА  "
            ],
            "text/html": [
              "\n",
              "  <div id=\"df-1fc5fe94-3205-4ea0-842f-91b57800a4b1\">\n",
              "    <div class=\"colab-df-container\">\n",
              "      <div>\n",
              "<style scoped>\n",
              "    .dataframe tbody tr th:only-of-type {\n",
              "        vertical-align: middle;\n",
              "    }\n",
              "\n",
              "    .dataframe tbody tr th {\n",
              "        vertical-align: top;\n",
              "    }\n",
              "\n",
              "    .dataframe thead th {\n",
              "        text-align: right;\n",
              "    }\n",
              "</style>\n",
              "<table border=\"1\" class=\"dataframe\">\n",
              "  <thead>\n",
              "    <tr style=\"text-align: right;\">\n",
              "      <th></th>\n",
              "      <th>id</th>\n",
              "      <th>oper_type + oper_attr</th>\n",
              "      <th>index_oper</th>\n",
              "      <th>type</th>\n",
              "      <th>priority</th>\n",
              "      <th>is_privatecategory</th>\n",
              "      <th>class</th>\n",
              "      <th>is_in_yandex</th>\n",
              "      <th>is_return</th>\n",
              "      <th>weight</th>\n",
              "      <th>mailtype</th>\n",
              "      <th>mailctg</th>\n",
              "      <th>mailrank</th>\n",
              "      <th>directctg</th>\n",
              "      <th>transport_pay</th>\n",
              "      <th>postmark</th>\n",
              "      <th>name_mfi</th>\n",
              "      <th>weight_mfi</th>\n",
              "      <th>price_mfi</th>\n",
              "      <th>dist_qty_oper_login_1</th>\n",
              "      <th>total_qty_oper_login_1</th>\n",
              "      <th>total_qty_oper_login_0</th>\n",
              "      <th>total_qty_over_index_and_type</th>\n",
              "      <th>total_qty_over_index</th>\n",
              "      <th>is_wrong_sndr_name</th>\n",
              "      <th>is_wrong_rcpn_name</th>\n",
              "      <th>is_wrong_phone_number</th>\n",
              "      <th>is_wrong_address</th>\n",
              "      <th>label</th>\n",
              "      <th>op_a</th>\n",
              "      <th>new_index_oper</th>\n",
              "      <th>OPSSUBM</th>\n",
              "      <th>CITY</th>\n",
              "      <th>ACTDATE</th>\n",
              "      <th>AREA</th>\n",
              "    </tr>\n",
              "  </thead>\n",
              "  <tbody>\n",
              "    <tr>\n",
              "      <th>3604976</th>\n",
              "      <td>4619089</td>\n",
              "      <td>1041_-1</td>\n",
              "      <td>243149</td>\n",
              "      <td>П</td>\n",
              "      <td>7503.0</td>\n",
              "      <td>N</td>\n",
              "      <td>2.0</td>\n",
              "      <td>2</td>\n",
              "      <td>0</td>\n",
              "      <td>141.0</td>\n",
              "      <td>5.0</td>\n",
              "      <td>1.0</td>\n",
              "      <td>0.0</td>\n",
              "      <td>2.0</td>\n",
              "      <td>22.59</td>\n",
              "      <td>0.0</td>\n",
              "      <td>Blocks</td>\n",
              "      <td>37.0</td>\n",
              "      <td>190.0</td>\n",
              "      <td>7.0</td>\n",
              "      <td>72206.0</td>\n",
              "      <td>7646.0</td>\n",
              "      <td>79852.0</td>\n",
              "      <td>1110354.0</td>\n",
              "      <td>0</td>\n",
              "      <td>0</td>\n",
              "      <td>1</td>\n",
              "      <td>0</td>\n",
              "      <td>0</td>\n",
              "      <td>-1</td>\n",
              "      <td>243149</td>\n",
              "      <td>241700</td>\n",
              "      <td>КЛИНЦЫ</td>\n",
              "      <td>2007-10-04</td>\n",
              "      <td>БРЯНСКАЯ ОБЛАСТЬ</td>\n",
              "    </tr>\n",
              "    <tr>\n",
              "      <th>5936295</th>\n",
              "      <td>1004170</td>\n",
              "      <td>1020_-1</td>\n",
              "      <td>68396</td>\n",
              "      <td>Участок</td>\n",
              "      <td>7503.0</td>\n",
              "      <td>N</td>\n",
              "      <td>0.0</td>\n",
              "      <td>2</td>\n",
              "      <td>0</td>\n",
              "      <td>736.0</td>\n",
              "      <td>5.0</td>\n",
              "      <td>1.0</td>\n",
              "      <td>0.0</td>\n",
              "      <td>2.0</td>\n",
              "      <td>50.12</td>\n",
              "      <td>0.0</td>\n",
              "      <td>Slippers</td>\n",
              "      <td>520.0</td>\n",
              "      <td>300.0</td>\n",
              "      <td>15.0</td>\n",
              "      <td>487093.0</td>\n",
              "      <td>147547.0</td>\n",
              "      <td>634640.0</td>\n",
              "      <td>4821535.0</td>\n",
              "      <td>0</td>\n",
              "      <td>0</td>\n",
              "      <td>0</td>\n",
              "      <td>0</td>\n",
              "      <td>0</td>\n",
              "      <td>-1</td>\n",
              "      <td>683969</td>\n",
              "      <td>683960</td>\n",
              "      <td>ЕЛИЗОВО</td>\n",
              "      <td>2018-02-28</td>\n",
              "      <td>КАМЧАТСКИЙ КРАЙ</td>\n",
              "    </tr>\n",
              "    <tr>\n",
              "      <th>1804115</th>\n",
              "      <td>2569448</td>\n",
              "      <td>1004_-1</td>\n",
              "      <td>10297</td>\n",
              "      <td>ММПО</td>\n",
              "      <td>7503.0</td>\n",
              "      <td>N</td>\n",
              "      <td>0.0</td>\n",
              "      <td>1</td>\n",
              "      <td>0</td>\n",
              "      <td>175.0</td>\n",
              "      <td>5.0</td>\n",
              "      <td>0.0</td>\n",
              "      <td>0.0</td>\n",
              "      <td>2.0</td>\n",
              "      <td>0.00</td>\n",
              "      <td>0.0</td>\n",
              "      <td>Mobile Phone Cases &amp; Covers</td>\n",
              "      <td>80.0</td>\n",
              "      <td>100.0</td>\n",
              "      <td>972.0</td>\n",
              "      <td>68766046.0</td>\n",
              "      <td>91123247.0</td>\n",
              "      <td>159889293.0</td>\n",
              "      <td>164927295.0</td>\n",
              "      <td>0</td>\n",
              "      <td>0</td>\n",
              "      <td>1</td>\n",
              "      <td>0</td>\n",
              "      <td>1</td>\n",
              "      <td>-1</td>\n",
              "      <td>102979</td>\n",
              "      <td>102975</td>\n",
              "      <td>ШАРАПОВО</td>\n",
              "      <td>2020-04-02</td>\n",
              "      <td>МОСКВА</td>\n",
              "    </tr>\n",
              "    <tr>\n",
              "      <th>4351206</th>\n",
              "      <td>5506132</td>\n",
              "      <td>1023_-1</td>\n",
              "      <td>620984</td>\n",
              "      <td>Участок</td>\n",
              "      <td>7503.0</td>\n",
              "      <td>N</td>\n",
              "      <td>0.0</td>\n",
              "      <td>1</td>\n",
              "      <td>0</td>\n",
              "      <td>753.0</td>\n",
              "      <td>5.0</td>\n",
              "      <td>1.0</td>\n",
              "      <td>0.0</td>\n",
              "      <td>2.0</td>\n",
              "      <td>50.81</td>\n",
              "      <td>0.0</td>\n",
              "      <td>rhinestone</td>\n",
              "      <td>1.0</td>\n",
              "      <td>7.0</td>\n",
              "      <td>27.0</td>\n",
              "      <td>9164121.0</td>\n",
              "      <td>4770841.0</td>\n",
              "      <td>13934962.0</td>\n",
              "      <td>14030822.0</td>\n",
              "      <td>0</td>\n",
              "      <td>0</td>\n",
              "      <td>1</td>\n",
              "      <td>0</td>\n",
              "      <td>0</td>\n",
              "      <td>-1</td>\n",
              "      <td>620984</td>\n",
              "      <td>620980</td>\n",
              "      <td>ЕКАТЕРИНБУРГ</td>\n",
              "      <td>2013-10-21</td>\n",
              "      <td>СВЕРДЛОВСКАЯ ОБЛАСТЬ</td>\n",
              "    </tr>\n",
              "    <tr>\n",
              "      <th>5014389</th>\n",
              "      <td>727375</td>\n",
              "      <td>1018_-1</td>\n",
              "      <td>102971</td>\n",
              "      <td>Цех</td>\n",
              "      <td>7506.0</td>\n",
              "      <td>N</td>\n",
              "      <td>0.0</td>\n",
              "      <td>1</td>\n",
              "      <td>0</td>\n",
              "      <td>1138.0</td>\n",
              "      <td>5.0</td>\n",
              "      <td>1.0</td>\n",
              "      <td>0.0</td>\n",
              "      <td>2.0</td>\n",
              "      <td>68.54</td>\n",
              "      <td>0.0</td>\n",
              "      <td>Jewelry Findings &amp; Components</td>\n",
              "      <td>10.0</td>\n",
              "      <td>380.0</td>\n",
              "      <td>186.0</td>\n",
              "      <td>60613352.0</td>\n",
              "      <td>10648.0</td>\n",
              "      <td>60624000.0</td>\n",
              "      <td>75592387.0</td>\n",
              "      <td>0</td>\n",
              "      <td>0</td>\n",
              "      <td>0</td>\n",
              "      <td>0</td>\n",
              "      <td>0</td>\n",
              "      <td>-1</td>\n",
              "      <td>102971</td>\n",
              "      <td>102975</td>\n",
              "      <td>ШАРАПОВО</td>\n",
              "      <td>2020-04-02</td>\n",
              "      <td>МОСКВА</td>\n",
              "    </tr>\n",
              "  </tbody>\n",
              "</table>\n",
              "</div>\n",
              "      <button class=\"colab-df-convert\" onclick=\"convertToInteractive('df-1fc5fe94-3205-4ea0-842f-91b57800a4b1')\"\n",
              "              title=\"Convert this dataframe to an interactive table.\"\n",
              "              style=\"display:none;\">\n",
              "        \n",
              "  <svg xmlns=\"http://www.w3.org/2000/svg\" height=\"24px\"viewBox=\"0 0 24 24\"\n",
              "       width=\"24px\">\n",
              "    <path d=\"M0 0h24v24H0V0z\" fill=\"none\"/>\n",
              "    <path d=\"M18.56 5.44l.94 2.06.94-2.06 2.06-.94-2.06-.94-.94-2.06-.94 2.06-2.06.94zm-11 1L8.5 8.5l.94-2.06 2.06-.94-2.06-.94L8.5 2.5l-.94 2.06-2.06.94zm10 10l.94 2.06.94-2.06 2.06-.94-2.06-.94-.94-2.06-.94 2.06-2.06.94z\"/><path d=\"M17.41 7.96l-1.37-1.37c-.4-.4-.92-.59-1.43-.59-.52 0-1.04.2-1.43.59L10.3 9.45l-7.72 7.72c-.78.78-.78 2.05 0 2.83L4 21.41c.39.39.9.59 1.41.59.51 0 1.02-.2 1.41-.59l7.78-7.78 2.81-2.81c.8-.78.8-2.07 0-2.86zM5.41 20L4 18.59l7.72-7.72 1.47 1.35L5.41 20z\"/>\n",
              "  </svg>\n",
              "      </button>\n",
              "      \n",
              "  <style>\n",
              "    .colab-df-container {\n",
              "      display:flex;\n",
              "      flex-wrap:wrap;\n",
              "      gap: 12px;\n",
              "    }\n",
              "\n",
              "    .colab-df-convert {\n",
              "      background-color: #E8F0FE;\n",
              "      border: none;\n",
              "      border-radius: 50%;\n",
              "      cursor: pointer;\n",
              "      display: none;\n",
              "      fill: #1967D2;\n",
              "      height: 32px;\n",
              "      padding: 0 0 0 0;\n",
              "      width: 32px;\n",
              "    }\n",
              "\n",
              "    .colab-df-convert:hover {\n",
              "      background-color: #E2EBFA;\n",
              "      box-shadow: 0px 1px 2px rgba(60, 64, 67, 0.3), 0px 1px 3px 1px rgba(60, 64, 67, 0.15);\n",
              "      fill: #174EA6;\n",
              "    }\n",
              "\n",
              "    [theme=dark] .colab-df-convert {\n",
              "      background-color: #3B4455;\n",
              "      fill: #D2E3FC;\n",
              "    }\n",
              "\n",
              "    [theme=dark] .colab-df-convert:hover {\n",
              "      background-color: #434B5C;\n",
              "      box-shadow: 0px 1px 3px 1px rgba(0, 0, 0, 0.15);\n",
              "      filter: drop-shadow(0px 1px 2px rgba(0, 0, 0, 0.3));\n",
              "      fill: #FFFFFF;\n",
              "    }\n",
              "  </style>\n",
              "\n",
              "      <script>\n",
              "        const buttonEl =\n",
              "          document.querySelector('#df-1fc5fe94-3205-4ea0-842f-91b57800a4b1 button.colab-df-convert');\n",
              "        buttonEl.style.display =\n",
              "          google.colab.kernel.accessAllowed ? 'block' : 'none';\n",
              "\n",
              "        async function convertToInteractive(key) {\n",
              "          const element = document.querySelector('#df-1fc5fe94-3205-4ea0-842f-91b57800a4b1');\n",
              "          const dataTable =\n",
              "            await google.colab.kernel.invokeFunction('convertToInteractive',\n",
              "                                                     [key], {});\n",
              "          if (!dataTable) return;\n",
              "\n",
              "          const docLinkHtml = 'Like what you see? Visit the ' +\n",
              "            '<a target=\"_blank\" href=https://colab.research.google.com/notebooks/data_table.ipynb>data table notebook</a>'\n",
              "            + ' to learn more about interactive tables.';\n",
              "          element.innerHTML = '';\n",
              "          dataTable['output_type'] = 'display_data';\n",
              "          await google.colab.output.renderOutput(dataTable, element);\n",
              "          const docLink = document.createElement('div');\n",
              "          docLink.innerHTML = docLinkHtml;\n",
              "          element.appendChild(docLink);\n",
              "        }\n",
              "      </script>\n",
              "    </div>\n",
              "  </div>\n",
              "  "
            ]
          },
          "metadata": {},
          "execution_count": 17
        }
      ]
    },
    {
      "cell_type": "code",
      "source": [
        "del big_df"
      ],
      "metadata": {
        "id": "E72Grw16Qbnb"
      },
      "execution_count": null,
      "outputs": []
    },
    {
      "cell_type": "code",
      "source": [
        "task = Task('binary', loss = 'logloss', metric = 'auc')"
      ],
      "metadata": {
        "id": "tRxwY5Lqchng"
      },
      "execution_count": null,
      "outputs": []
    },
    {
      "cell_type": "code",
      "source": [
        "roles = {\n",
        "    'target': TARGET_NAME,\n",
        "    'drop': ['id','name_mfi','oper_type + oper_attr']\n",
        "}"
      ],
      "metadata": {
        "id": "o9RX3cgucwgs"
      },
      "execution_count": null,
      "outputs": []
    },
    {
      "cell_type": "code",
      "source": [
        "automl = TabularAutoML(\n",
        "    task = task, \n",
        "    timeout = TIMEOUT,\n",
        "    cpu_limit = N_THREADS,\n",
        "    reader_params = {'n_jobs': N_THREADS, 'cv': N_FOLDS, 'random_state': RANDOM_STATE}\n",
        ")"
      ],
      "metadata": {
        "id": "XZr7XRuXdCsx"
      },
      "execution_count": null,
      "outputs": []
    },
    {
      "cell_type": "code",
      "source": [
        "%%time \n",
        "oof_pred = automl.fit_predict(tr_data, roles = roles, verbose = 1)"
      ],
      "metadata": {
        "id": "jZQn6fRJdGRJ",
        "colab": {
          "base_uri": "https://localhost:8080/"
        },
        "outputId": "944a3892-4ac9-4d9b-fe2c-04c969888608"
      },
      "execution_count": null,
      "outputs": [
        {
          "metadata": {
            "tags": null
          },
          "name": "stdout",
          "output_type": "stream",
          "text": [
            "[16:46:08] Stdout logging level is INFO.\n"
          ]
        },
        {
          "metadata": {
            "tags": null
          },
          "name": "stderr",
          "output_type": "stream",
          "text": [
            "INFO:lightautoml.automl.presets.base:Stdout logging level is INFO.\n"
          ]
        },
        {
          "metadata": {
            "tags": null
          },
          "name": "stdout",
          "output_type": "stream",
          "text": [
            "[16:46:09] Copying TaskTimer may affect the parent PipelineTimer, so copy will create new unlimited TaskTimer\n"
          ]
        },
        {
          "metadata": {
            "tags": null
          },
          "name": "stderr",
          "output_type": "stream",
          "text": [
            "WARNING:lightautoml.utils.timer:Copying TaskTimer may affect the parent PipelineTimer, so copy will create new unlimited TaskTimer\n"
          ]
        },
        {
          "metadata": {
            "tags": null
          },
          "name": "stdout",
          "output_type": "stream",
          "text": [
            "[16:46:09] Task: binary\n",
            "\n"
          ]
        },
        {
          "metadata": {
            "tags": null
          },
          "name": "stderr",
          "output_type": "stream",
          "text": [
            "INFO:lightautoml.automl.presets.base:Task: binary\n",
            "\n"
          ]
        },
        {
          "metadata": {
            "tags": null
          },
          "name": "stdout",
          "output_type": "stream",
          "text": [
            "[16:46:09] Start automl preset with listed constraints:\n"
          ]
        },
        {
          "metadata": {
            "tags": null
          },
          "name": "stderr",
          "output_type": "stream",
          "text": [
            "INFO:lightautoml.automl.presets.base:Start automl preset with listed constraints:\n"
          ]
        },
        {
          "metadata": {
            "tags": null
          },
          "name": "stdout",
          "output_type": "stream",
          "text": [
            "[16:46:09] - time: 3600.00 seconds\n"
          ]
        },
        {
          "metadata": {
            "tags": null
          },
          "name": "stderr",
          "output_type": "stream",
          "text": [
            "INFO:lightautoml.automl.presets.base:- time: 3600.00 seconds\n"
          ]
        },
        {
          "metadata": {
            "tags": null
          },
          "name": "stdout",
          "output_type": "stream",
          "text": [
            "[16:46:09] - CPU: 32 cores\n"
          ]
        },
        {
          "metadata": {
            "tags": null
          },
          "name": "stderr",
          "output_type": "stream",
          "text": [
            "INFO:lightautoml.automl.presets.base:- CPU: 32 cores\n"
          ]
        },
        {
          "metadata": {
            "tags": null
          },
          "name": "stdout",
          "output_type": "stream",
          "text": [
            "[16:46:09] - memory: 16 GB\n",
            "\n"
          ]
        },
        {
          "metadata": {
            "tags": null
          },
          "name": "stderr",
          "output_type": "stream",
          "text": [
            "INFO:lightautoml.automl.presets.base:- memory: 16 GB\n",
            "\n"
          ]
        },
        {
          "metadata": {
            "tags": null
          },
          "name": "stdout",
          "output_type": "stream",
          "text": [
            "[16:46:09] \u001b[1mTrain data shape: (4800000, 35)\u001b[0m\n",
            "\n"
          ]
        },
        {
          "metadata": {
            "tags": null
          },
          "name": "stderr",
          "output_type": "stream",
          "text": [
            "INFO:lightautoml.reader.base:\u001b[1mTrain data shape: (4800000, 35)\u001b[0m\n",
            "\n",
            "INFO3:lightautoml.reader.base:Feats was rejected during automatic roles guess: []\n"
          ]
        },
        {
          "metadata": {
            "tags": null
          },
          "name": "stdout",
          "output_type": "stream",
          "text": [
            "[16:46:28] Layer \u001b[1m1\u001b[0m train process start. Time left 3580.70 secs\n"
          ]
        },
        {
          "metadata": {
            "tags": null
          },
          "name": "stderr",
          "output_type": "stream",
          "text": [
            "INFO:lightautoml.automl.base:Layer \u001b[1m1\u001b[0m train process start. Time left 3580.70 secs\n"
          ]
        },
        {
          "metadata": {
            "tags": null
          },
          "name": "stdout",
          "output_type": "stream",
          "text": [
            "[16:50:49] Start fitting \u001b[1mLvl_0_Pipe_0_Mod_0_LinearL2\u001b[0m ...\n"
          ]
        },
        {
          "metadata": {
            "tags": null
          },
          "name": "stderr",
          "output_type": "stream",
          "text": [
            "INFO:lightautoml.ml_algo.base:Start fitting \u001b[1mLvl_0_Pipe_0_Mod_0_LinearL2\u001b[0m ...\n",
            "DEBUG:lightautoml.ml_algo.base:Training params: {'tol': 1e-06, 'max_iter': 100, 'cs': [1e-05, 5e-05, 0.0001, 0.0005, 0.001, 0.005, 0.01, 0.05, 0.1, 0.5, 1, 5, 10, 50, 100, 500, 1000, 5000, 10000, 50000, 100000], 'early_stopping': 2, 'categorical_idx': [42, 43, 44, 45, 46, 47, 48], 'embed_sizes': array([19, 20,  5,  4, 25, 14,  9], dtype=int32), 'data_size': 49}\n",
            "INFO2:lightautoml.ml_algo.base:===== Start working with \u001b[1mfold 0\u001b[0m for \u001b[1mLvl_0_Pipe_0_Mod_0_LinearL2\u001b[0m =====\n",
            "INFO3:lightautoml.ml_algo.torch_based.linear_model:Linear model: C = 1e-05 score = 0.9446856614155261\n",
            "INFO3:lightautoml.ml_algo.torch_based.linear_model:Linear model: C = 5e-05 score = 0.9466001643688189\n",
            "INFO3:lightautoml.ml_algo.torch_based.linear_model:Linear model: C = 0.0001 score = 0.9470785441516022\n",
            "INFO3:lightautoml.ml_algo.torch_based.linear_model:Linear model: C = 0.0005 score = 0.9481050423201239\n",
            "INFO3:lightautoml.ml_algo.torch_based.linear_model:Linear model: C = 0.001 score = 0.9481050423201239\n",
            "INFO3:lightautoml.ml_algo.torch_based.linear_model:Linear model: C = 0.005 score = 0.9481050423201239\n",
            "INFO2:lightautoml.ml_algo.base:===== Start working with \u001b[1mfold 1\u001b[0m for \u001b[1mLvl_0_Pipe_0_Mod_0_LinearL2\u001b[0m =====\n",
            "INFO3:lightautoml.ml_algo.torch_based.linear_model:Linear model: C = 1e-05 score = 0.9448097324823271\n",
            "INFO3:lightautoml.ml_algo.torch_based.linear_model:Linear model: C = 5e-05 score = 0.9466177758937353\n",
            "INFO3:lightautoml.ml_algo.torch_based.linear_model:Linear model: C = 0.0001 score = 0.9470815317893074\n",
            "INFO3:lightautoml.ml_algo.torch_based.linear_model:Linear model: C = 0.0005 score = 0.9484270422418887\n",
            "INFO3:lightautoml.ml_algo.torch_based.linear_model:Linear model: C = 0.001 score = 0.9484270422418887\n",
            "INFO3:lightautoml.ml_algo.torch_based.linear_model:Linear model: C = 0.005 score = 0.9484270422418887\n"
          ]
        },
        {
          "metadata": {
            "tags": null
          },
          "name": "stdout",
          "output_type": "stream",
          "text": [
            "[16:55:14] Time limit exceeded after calculating fold 1\n",
            "\n"
          ]
        },
        {
          "metadata": {
            "tags": null
          },
          "name": "stderr",
          "output_type": "stream",
          "text": [
            "INFO:lightautoml.ml_algo.base:Time limit exceeded after calculating fold 1\n",
            "\n"
          ]
        },
        {
          "metadata": {
            "tags": null
          },
          "name": "stdout",
          "output_type": "stream",
          "text": [
            "[16:55:15] Fitting \u001b[1mLvl_0_Pipe_0_Mod_0_LinearL2\u001b[0m finished. score = \u001b[1m0.948246749328403\u001b[0m\n"
          ]
        },
        {
          "metadata": {
            "tags": null
          },
          "name": "stderr",
          "output_type": "stream",
          "text": [
            "INFO:lightautoml.ml_algo.base:Fitting \u001b[1mLvl_0_Pipe_0_Mod_0_LinearL2\u001b[0m finished. score = \u001b[1m0.948246749328403\u001b[0m\n"
          ]
        },
        {
          "metadata": {
            "tags": null
          },
          "name": "stdout",
          "output_type": "stream",
          "text": [
            "[16:55:15] \u001b[1mLvl_0_Pipe_0_Mod_0_LinearL2\u001b[0m fitting and predicting completed\n"
          ]
        },
        {
          "metadata": {
            "tags": null
          },
          "name": "stderr",
          "output_type": "stream",
          "text": [
            "INFO:lightautoml.ml_algo.base:\u001b[1mLvl_0_Pipe_0_Mod_0_LinearL2\u001b[0m fitting and predicting completed\n"
          ]
        },
        {
          "metadata": {
            "tags": null
          },
          "name": "stdout",
          "output_type": "stream",
          "text": [
            "[16:55:15] Time left 3053.82 secs\n",
            "\n"
          ]
        },
        {
          "output_type": "stream",
          "name": "stderr",
          "text": [
            "INFO:lightautoml.automl.base:Time left 3053.82 secs\n",
            "\n",
            "INFO3:lightautoml.ml_algo.boost_lgbm:Training until validation scores don't improve for 100 rounds\n",
            "DEBUG:lightautoml.ml_algo.boost_lgbm:[100]\tvalid's auc: 0.974161\n",
            "DEBUG:lightautoml.ml_algo.boost_lgbm:[200]\tvalid's auc: 0.974539\n",
            "DEBUG:lightautoml.ml_algo.boost_lgbm:[300]\tvalid's auc: 0.97473\n",
            "DEBUG:lightautoml.ml_algo.boost_lgbm:[400]\tvalid's auc: 0.974854\n",
            "DEBUG:lightautoml.ml_algo.boost_lgbm:[500]\tvalid's auc: 0.974966\n",
            "DEBUG:lightautoml.ml_algo.boost_lgbm:[600]\tvalid's auc: 0.975059\n",
            "DEBUG:lightautoml.ml_algo.boost_lgbm:[700]\tvalid's auc: 0.975146\n",
            "DEBUG:lightautoml.ml_algo.boost_lgbm:[800]\tvalid's auc: 0.975035\n",
            "DEBUG:lightautoml.ml_algo.boost_lgbm:[900]\tvalid's auc: 0.975214\n",
            "DEBUG:lightautoml.ml_algo.boost_lgbm:[1000]\tvalid's auc: 0.975238\n",
            "DEBUG:lightautoml.ml_algo.boost_lgbm:[1100]\tvalid's auc: 0.975245\n",
            "DEBUG:lightautoml.ml_algo.boost_lgbm:[1200]\tvalid's auc: 0.975236\n",
            "DEBUG:lightautoml.ml_algo.boost_lgbm:Early stopping, best iteration is:\n",
            "[1102]\tvalid's auc: 0.975248\n"
          ]
        },
        {
          "output_type": "stream",
          "name": "stdout",
          "text": [
            "[17:09:35] \u001b[1mSelector_LightGBM\u001b[0m fitting and predicting completed\n"
          ]
        },
        {
          "output_type": "stream",
          "name": "stderr",
          "text": [
            "INFO:lightautoml.ml_algo.base:\u001b[1mSelector_LightGBM\u001b[0m fitting and predicting completed\n"
          ]
        },
        {
          "output_type": "stream",
          "name": "stdout",
          "text": [
            "[17:13:46] Start fitting \u001b[1mLvl_0_Pipe_1_Mod_0_LightGBM\u001b[0m ...\n"
          ]
        },
        {
          "output_type": "stream",
          "name": "stderr",
          "text": [
            "INFO:lightautoml.ml_algo.base:Start fitting \u001b[1mLvl_0_Pipe_1_Mod_0_LightGBM\u001b[0m ...\n",
            "DEBUG:lightautoml.ml_algo.base:Training params: {'task': 'train', 'learning_rate': 0.05, 'num_leaves': 244, 'feature_fraction': 0.7, 'bagging_fraction': 0.7, 'bagging_freq': 1, 'max_depth': -1, 'verbosity': -1, 'reg_alpha': 1, 'reg_lambda': 0.0, 'min_split_gain': 0.0, 'zero_as_missing': False, 'num_threads': 2, 'max_bin': 255, 'min_data_in_bin': 3, 'num_trees': 2000, 'early_stopping_rounds': 100, 'random_state': 42}\n",
            "INFO2:lightautoml.ml_algo.base:===== Start working with \u001b[1mfold 0\u001b[0m for \u001b[1mLvl_0_Pipe_1_Mod_0_LightGBM\u001b[0m =====\n",
            "INFO3:lightautoml.ml_algo.boost_lgbm:Training until validation scores don't improve for 100 rounds\n",
            "DEBUG:lightautoml.ml_algo.boost_lgbm:[100]\tvalid's auc: 0.973629\n",
            "DEBUG:lightautoml.ml_algo.boost_lgbm:[200]\tvalid's auc: 0.973879\n",
            "DEBUG:lightautoml.ml_algo.boost_lgbm:[300]\tvalid's auc: 0.974027\n",
            "DEBUG:lightautoml.ml_algo.boost_lgbm:[400]\tvalid's auc: 0.974139\n",
            "DEBUG:lightautoml.ml_algo.boost_lgbm:[500]\tvalid's auc: 0.974195\n",
            "DEBUG:lightautoml.ml_algo.boost_lgbm:[600]\tvalid's auc: 0.974286\n",
            "DEBUG:lightautoml.ml_algo.boost_lgbm:[700]\tvalid's auc: 0.97436\n",
            "DEBUG:lightautoml.ml_algo.boost_lgbm:[800]\tvalid's auc: 0.974386\n",
            "DEBUG:lightautoml.ml_algo.boost_lgbm:[900]\tvalid's auc: 0.97328\n",
            "DEBUG:lightautoml.ml_algo.boost_lgbm:Early stopping, best iteration is:\n",
            "[807]\tvalid's auc: 0.974392\n"
          ]
        },
        {
          "output_type": "stream",
          "name": "stdout",
          "text": [
            "[17:27:33] Time limit exceeded after calculating fold 0\n",
            "\n"
          ]
        },
        {
          "output_type": "stream",
          "name": "stderr",
          "text": [
            "INFO:lightautoml.ml_algo.base:Time limit exceeded after calculating fold 0\n",
            "\n"
          ]
        },
        {
          "output_type": "stream",
          "name": "stdout",
          "text": [
            "[17:27:33] Fitting \u001b[1mLvl_0_Pipe_1_Mod_0_LightGBM\u001b[0m finished. score = \u001b[1m0.9743890905748831\u001b[0m\n"
          ]
        },
        {
          "output_type": "stream",
          "name": "stderr",
          "text": [
            "INFO:lightautoml.ml_algo.base:Fitting \u001b[1mLvl_0_Pipe_1_Mod_0_LightGBM\u001b[0m finished. score = \u001b[1m0.9743890905748831\u001b[0m\n"
          ]
        },
        {
          "output_type": "stream",
          "name": "stdout",
          "text": [
            "[17:27:33] \u001b[1mLvl_0_Pipe_1_Mod_0_LightGBM\u001b[0m fitting and predicting completed\n"
          ]
        },
        {
          "output_type": "stream",
          "name": "stderr",
          "text": [
            "INFO:lightautoml.ml_algo.base:\u001b[1mLvl_0_Pipe_1_Mod_0_LightGBM\u001b[0m fitting and predicting completed\n"
          ]
        },
        {
          "output_type": "stream",
          "name": "stdout",
          "text": [
            "[17:27:34] Start fitting \u001b[1mLvl_0_Pipe_1_Mod_2_CatBoost\u001b[0m ...\n"
          ]
        },
        {
          "output_type": "stream",
          "name": "stderr",
          "text": [
            "INFO:lightautoml.ml_algo.base:Start fitting \u001b[1mLvl_0_Pipe_1_Mod_2_CatBoost\u001b[0m ...\n",
            "DEBUG:lightautoml.ml_algo.base:Training params: {'task_type': 'GPU', 'thread_count': 2, 'random_seed': 42, 'num_trees': 3000, 'learning_rate': 0.05, 'l2_leaf_reg': 0.01, 'bootstrap_type': 'Bernoulli', 'grow_policy': 'SymmetricTree', 'max_depth': 5, 'min_data_in_leaf': 1, 'one_hot_max_size': 10, 'fold_permutation_block': 1, 'boosting_type': 'Plain', 'boost_from_average': True, 'od_type': 'Iter', 'od_wait': 100, 'max_bin': 32, 'feature_border_type': 'GreedyLogSum', 'nan_mode': 'Min', 'verbose': 100, 'allow_writing_files': False, 'devices': '0'}\n",
            "INFO2:lightautoml.ml_algo.base:===== Start working with \u001b[1mfold 0\u001b[0m for \u001b[1mLvl_0_Pipe_1_Mod_2_CatBoost\u001b[0m =====\n",
            "Default metric period is 5 because AUC is/are not implemented for GPU\n",
            "INFO3:lightautoml.ml_algo.boost_cb:0:\ttest: 0.9359734\tbest: 0.9359734 (0)\ttotal: 62.6ms\tremaining: 3m 7s\n",
            "DEBUG:lightautoml.ml_algo.boost_cb:100:\ttest: 0.9661555\tbest: 0.9661555 (100)\ttotal: 3.92s\tremaining: 1m 52s\n",
            "DEBUG:lightautoml.ml_algo.boost_cb:200:\ttest: 0.9691089\tbest: 0.9691089 (200)\ttotal: 7.77s\tremaining: 1m 48s\n",
            "DEBUG:lightautoml.ml_algo.boost_cb:300:\ttest: 0.9700496\tbest: 0.9700496 (300)\ttotal: 11.6s\tremaining: 1m 43s\n",
            "DEBUG:lightautoml.ml_algo.boost_cb:400:\ttest: 0.9705486\tbest: 0.9705486 (400)\ttotal: 15.4s\tremaining: 1m 39s\n",
            "DEBUG:lightautoml.ml_algo.boost_cb:500:\ttest: 0.9710805\tbest: 0.9710805 (500)\ttotal: 19.2s\tremaining: 1m 35s\n",
            "DEBUG:lightautoml.ml_algo.boost_cb:600:\ttest: 0.9714415\tbest: 0.9714425 (599)\ttotal: 23s\tremaining: 1m 31s\n",
            "DEBUG:lightautoml.ml_algo.boost_cb:700:\ttest: 0.9716827\tbest: 0.9716827 (700)\ttotal: 26.8s\tremaining: 1m 27s\n",
            "DEBUG:lightautoml.ml_algo.boost_cb:800:\ttest: 0.9719426\tbest: 0.9719426 (800)\ttotal: 30.7s\tremaining: 1m 24s\n",
            "DEBUG:lightautoml.ml_algo.boost_cb:900:\ttest: 0.9719538\tbest: 0.9719538 (900)\ttotal: 34.5s\tremaining: 1m 20s\n",
            "DEBUG:lightautoml.ml_algo.boost_cb:1000:\ttest: 0.9720457\tbest: 0.9720457 (1000)\ttotal: 42.1s\tremaining: 1m 24s\n",
            "DEBUG:lightautoml.ml_algo.boost_cb:1100:\ttest: 0.9721089\tbest: 0.9721089 (1100)\ttotal: 46.7s\tremaining: 1m 20s\n",
            "DEBUG:lightautoml.ml_algo.boost_cb:1200:\ttest: 0.9721179\tbest: 0.9721196 (1120)\ttotal: 50.6s\tremaining: 1m 15s\n",
            "DEBUG:lightautoml.ml_algo.boost_cb:1300:\ttest: 0.9721485\tbest: 0.9721485 (1300)\ttotal: 54.4s\tremaining: 1m 11s\n",
            "DEBUG:lightautoml.ml_algo.boost_cb:1400:\ttest: 0.9721757\tbest: 0.9721907 (1395)\ttotal: 58.2s\tremaining: 1m 6s\n",
            "DEBUG:lightautoml.ml_algo.boost_cb:1500:\ttest: 0.9721923\tbest: 0.9722134 (1496)\ttotal: 1m 2s\tremaining: 1m 1s\n",
            "DEBUG:lightautoml.ml_algo.boost_cb:1600:\ttest: 0.9722178\tbest: 0.9722255 (1586)\ttotal: 1m 5s\tremaining: 57.6s\n",
            "DEBUG:lightautoml.ml_algo.boost_cb:1700:\ttest: 0.9722217\tbest: 0.9722359 (1651)\ttotal: 1m 9s\tremaining: 53.3s\n",
            "INFO3:lightautoml.ml_algo.boost_cb:bestTest = 0.9722358882\n",
            "INFO3:lightautoml.ml_algo.boost_cb:bestIteration = 1651\n",
            "INFO3:lightautoml.ml_algo.boost_cb:Shrink model to first 1652 iterations.\n",
            "INFO2:lightautoml.ml_algo.base:===== Start working with \u001b[1mfold 1\u001b[0m for \u001b[1mLvl_0_Pipe_1_Mod_2_CatBoost\u001b[0m =====\n",
            "Default metric period is 5 because AUC is/are not implemented for GPU\n",
            "INFO3:lightautoml.ml_algo.boost_cb:0:\ttest: 0.9368115\tbest: 0.9368115 (0)\ttotal: 55.6ms\tremaining: 2m 46s\n",
            "DEBUG:lightautoml.ml_algo.boost_cb:100:\ttest: 0.9668071\tbest: 0.9668071 (100)\ttotal: 3.98s\tremaining: 1m 54s\n",
            "DEBUG:lightautoml.ml_algo.boost_cb:200:\ttest: 0.9694528\tbest: 0.9694528 (200)\ttotal: 7.86s\tremaining: 1m 49s\n",
            "DEBUG:lightautoml.ml_algo.boost_cb:300:\ttest: 0.9705371\tbest: 0.9705371 (300)\ttotal: 11.7s\tremaining: 1m 45s\n",
            "DEBUG:lightautoml.ml_algo.boost_cb:400:\ttest: 0.9710898\tbest: 0.9710898 (400)\ttotal: 15.6s\tremaining: 1m 41s\n",
            "DEBUG:lightautoml.ml_algo.boost_cb:500:\ttest: 0.9716126\tbest: 0.9716126 (500)\ttotal: 19.5s\tremaining: 1m 37s\n",
            "DEBUG:lightautoml.ml_algo.boost_cb:600:\ttest: 0.9721595\tbest: 0.9721595 (600)\ttotal: 23.3s\tremaining: 1m 33s\n",
            "DEBUG:lightautoml.ml_algo.boost_cb:700:\ttest: 0.9724289\tbest: 0.9724289 (700)\ttotal: 27.3s\tremaining: 1m 29s\n",
            "DEBUG:lightautoml.ml_algo.boost_cb:800:\ttest: 0.9726177\tbest: 0.9726177 (800)\ttotal: 31.1s\tremaining: 1m 25s\n",
            "DEBUG:lightautoml.ml_algo.boost_cb:900:\ttest: 0.9727321\tbest: 0.9727321 (900)\ttotal: 35s\tremaining: 1m 21s\n",
            "DEBUG:lightautoml.ml_algo.boost_cb:1000:\ttest: 0.9728091\tbest: 0.9728091 (1000)\ttotal: 38.9s\tremaining: 1m 17s\n",
            "DEBUG:lightautoml.ml_algo.boost_cb:1100:\ttest: 0.9728988\tbest: 0.9728991 (1099)\ttotal: 42.7s\tremaining: 1m 13s\n",
            "DEBUG:lightautoml.ml_algo.boost_cb:1200:\ttest: 0.9729717\tbest: 0.9729717 (1200)\ttotal: 46.6s\tremaining: 1m 9s\n",
            "DEBUG:lightautoml.ml_algo.boost_cb:1300:\ttest: 0.9726257\tbest: 0.9729747 (1207)\ttotal: 50.5s\tremaining: 1m 5s\n",
            "INFO3:lightautoml.ml_algo.boost_cb:bestTest = 0.9729747176\n",
            "INFO3:lightautoml.ml_algo.boost_cb:bestIteration = 1207\n",
            "INFO3:lightautoml.ml_algo.boost_cb:Shrink model to first 1208 iterations.\n",
            "INFO2:lightautoml.ml_algo.base:===== Start working with \u001b[1mfold 2\u001b[0m for \u001b[1mLvl_0_Pipe_1_Mod_2_CatBoost\u001b[0m =====\n",
            "Default metric period is 5 because AUC is/are not implemented for GPU\n",
            "INFO3:lightautoml.ml_algo.boost_cb:0:\ttest: 0.9366880\tbest: 0.9366880 (0)\ttotal: 72.1ms\tremaining: 3m 36s\n",
            "DEBUG:lightautoml.ml_algo.boost_cb:100:\ttest: 0.9662853\tbest: 0.9662853 (100)\ttotal: 3.96s\tremaining: 1m 53s\n",
            "DEBUG:lightautoml.ml_algo.boost_cb:200:\ttest: 0.9689906\tbest: 0.9689906 (200)\ttotal: 7.85s\tremaining: 1m 49s\n",
            "DEBUG:lightautoml.ml_algo.boost_cb:300:\ttest: 0.9700503\tbest: 0.9700564 (299)\ttotal: 11.7s\tremaining: 1m 44s\n",
            "DEBUG:lightautoml.ml_algo.boost_cb:400:\ttest: 0.9706147\tbest: 0.9706147 (400)\ttotal: 15.5s\tremaining: 1m 40s\n",
            "DEBUG:lightautoml.ml_algo.boost_cb:500:\ttest: 0.9712425\tbest: 0.9712425 (500)\ttotal: 19.4s\tremaining: 1m 36s\n",
            "DEBUG:lightautoml.ml_algo.boost_cb:600:\ttest: 0.9716561\tbest: 0.9716561 (600)\ttotal: 23.3s\tremaining: 1m 32s\n",
            "DEBUG:lightautoml.ml_algo.boost_cb:700:\ttest: 0.9718623\tbest: 0.9718623 (700)\ttotal: 27.1s\tremaining: 1m 29s\n",
            "DEBUG:lightautoml.ml_algo.boost_cb:800:\ttest: 0.9720086\tbest: 0.9720086 (800)\ttotal: 31.1s\tremaining: 1m 25s\n",
            "DEBUG:lightautoml.ml_algo.boost_cb:900:\ttest: 0.9721311\tbest: 0.9721311 (900)\ttotal: 35s\tremaining: 1m 21s\n",
            "DEBUG:lightautoml.ml_algo.boost_cb:1000:\ttest: 0.9722625\tbest: 0.9722625 (1000)\ttotal: 38.9s\tremaining: 1m 17s\n",
            "DEBUG:lightautoml.ml_algo.boost_cb:1100:\ttest: 0.9723383\tbest: 0.9723383 (1100)\ttotal: 42.8s\tremaining: 1m 13s\n",
            "DEBUG:lightautoml.ml_algo.boost_cb:1200:\ttest: 0.9724288\tbest: 0.9724288 (1200)\ttotal: 46.6s\tremaining: 1m 9s\n",
            "DEBUG:lightautoml.ml_algo.boost_cb:1300:\ttest: 0.9724904\tbest: 0.9724904 (1298)\ttotal: 50.5s\tremaining: 1m 5s\n",
            "DEBUG:lightautoml.ml_algo.boost_cb:1400:\ttest: 0.9725284\tbest: 0.9725465 (1379)\ttotal: 54.4s\tremaining: 1m 2s\n",
            "DEBUG:lightautoml.ml_algo.boost_cb:1500:\ttest: 0.9725878\tbest: 0.9725878 (1500)\ttotal: 58.2s\tremaining: 58.1s\n",
            "DEBUG:lightautoml.ml_algo.boost_cb:1600:\ttest: 0.9726271\tbest: 0.9726271 (1600)\ttotal: 1m 2s\tremaining: 54.2s\n",
            "DEBUG:lightautoml.ml_algo.boost_cb:1700:\ttest: 0.9726605\tbest: 0.9726605 (1700)\ttotal: 1m 5s\tremaining: 50.3s\n",
            "DEBUG:lightautoml.ml_algo.boost_cb:1800:\ttest: 0.9727085\tbest: 0.9727087 (1799)\ttotal: 1m 9s\tremaining: 46.5s\n",
            "DEBUG:lightautoml.ml_algo.boost_cb:1900:\ttest: 0.9727396\tbest: 0.9727396 (1900)\ttotal: 1m 13s\tremaining: 42.6s\n",
            "DEBUG:lightautoml.ml_algo.boost_cb:2000:\ttest: 0.9727676\tbest: 0.9727688 (1999)\ttotal: 1m 17s\tremaining: 38.7s\n",
            "DEBUG:lightautoml.ml_algo.boost_cb:2100:\ttest: 0.9727930\tbest: 0.9727932 (2097)\ttotal: 1m 21s\tremaining: 34.8s\n",
            "DEBUG:lightautoml.ml_algo.boost_cb:2200:\ttest: 0.9728234\tbest: 0.9728234 (2200)\ttotal: 1m 25s\tremaining: 30.9s\n",
            "DEBUG:lightautoml.ml_algo.boost_cb:2300:\ttest: 0.9728522\tbest: 0.9728524 (2299)\ttotal: 1m 29s\tremaining: 27.1s\n",
            "DEBUG:lightautoml.ml_algo.boost_cb:2400:\ttest: 0.9728650\tbest: 0.9728657 (2397)\ttotal: 1m 32s\tremaining: 23.2s\n",
            "DEBUG:lightautoml.ml_algo.boost_cb:2500:\ttest: 0.9728896\tbest: 0.9728902 (2496)\ttotal: 1m 36s\tremaining: 19.3s\n",
            "DEBUG:lightautoml.ml_algo.boost_cb:2600:\ttest: 0.9729095\tbest: 0.9729100 (2598)\ttotal: 1m 40s\tremaining: 15.5s\n",
            "DEBUG:lightautoml.ml_algo.boost_cb:2700:\ttest: 0.9729344\tbest: 0.9729345 (2698)\ttotal: 1m 44s\tremaining: 11.6s\n",
            "DEBUG:lightautoml.ml_algo.boost_cb:2800:\ttest: 0.9729453\tbest: 0.9729455 (2791)\ttotal: 1m 48s\tremaining: 7.71s\n",
            "DEBUG:lightautoml.ml_algo.boost_cb:2900:\ttest: 0.9729456\tbest: 0.9729504 (2828)\ttotal: 1m 52s\tremaining: 3.83s\n",
            "INFO3:lightautoml.ml_algo.boost_cb:bestTest = 0.9729504287\n",
            "INFO3:lightautoml.ml_algo.boost_cb:bestIteration = 2828\n",
            "INFO3:lightautoml.ml_algo.boost_cb:Shrink model to first 2829 iterations.\n"
          ]
        },
        {
          "output_type": "stream",
          "name": "stdout",
          "text": [
            "[17:31:57] Time limit exceeded after calculating fold 2\n",
            "\n"
          ]
        },
        {
          "output_type": "stream",
          "name": "stderr",
          "text": [
            "INFO:lightautoml.ml_algo.base:Time limit exceeded after calculating fold 2\n",
            "\n"
          ]
        },
        {
          "output_type": "stream",
          "name": "stdout",
          "text": [
            "[17:31:58] Fitting \u001b[1mLvl_0_Pipe_1_Mod_2_CatBoost\u001b[0m finished. score = \u001b[1m0.9726051512673204\u001b[0m\n"
          ]
        },
        {
          "output_type": "stream",
          "name": "stderr",
          "text": [
            "INFO:lightautoml.ml_algo.base:Fitting \u001b[1mLvl_0_Pipe_1_Mod_2_CatBoost\u001b[0m finished. score = \u001b[1m0.9726051512673204\u001b[0m\n"
          ]
        },
        {
          "output_type": "stream",
          "name": "stdout",
          "text": [
            "[17:31:58] \u001b[1mLvl_0_Pipe_1_Mod_2_CatBoost\u001b[0m fitting and predicting completed\n"
          ]
        },
        {
          "output_type": "stream",
          "name": "stderr",
          "text": [
            "INFO:lightautoml.ml_algo.base:\u001b[1mLvl_0_Pipe_1_Mod_2_CatBoost\u001b[0m fitting and predicting completed\n"
          ]
        },
        {
          "output_type": "stream",
          "name": "stdout",
          "text": [
            "[17:31:58] Start hyperparameters optimization for \u001b[1mLvl_0_Pipe_1_Mod_3_Tuned_CatBoost\u001b[0m ... Time budget is 1.00 secs\n"
          ]
        },
        {
          "output_type": "stream",
          "name": "stderr",
          "text": [
            "INFO:lightautoml.ml_algo.tuning.optuna:Start hyperparameters optimization for \u001b[1mLvl_0_Pipe_1_Mod_3_Tuned_CatBoost\u001b[0m ... Time budget is 1.00 secs\n",
            "INFO:optuna.storages._in_memory:A new study created in memory with name: no-name-0dc26a7c-62a3-45d7-ae7f-51d128a1295b\n",
            "Default metric period is 5 because AUC is/are not implemented for GPU\n",
            "INFO3:lightautoml.ml_algo.boost_cb:0:\ttest: 0.9078155\tbest: 0.9078155 (0)\ttotal: 49.6ms\tremaining: 2m 28s\n",
            "DEBUG:lightautoml.ml_algo.boost_cb:100:\ttest: 0.9621437\tbest: 0.9621437 (100)\ttotal: 3.56s\tremaining: 1m 42s\n",
            "DEBUG:lightautoml.ml_algo.boost_cb:200:\ttest: 0.9657291\tbest: 0.9657338 (199)\ttotal: 7.08s\tremaining: 1m 38s\n",
            "DEBUG:lightautoml.ml_algo.boost_cb:300:\ttest: 0.9673357\tbest: 0.9673357 (300)\ttotal: 10.6s\tremaining: 1m 34s\n",
            "DEBUG:lightautoml.ml_algo.boost_cb:400:\ttest: 0.9682489\tbest: 0.9682489 (400)\ttotal: 14.1s\tremaining: 1m 31s\n",
            "DEBUG:lightautoml.ml_algo.boost_cb:500:\ttest: 0.9689361\tbest: 0.9689361 (500)\ttotal: 17.6s\tremaining: 1m 27s\n",
            "DEBUG:lightautoml.ml_algo.boost_cb:600:\ttest: 0.9695639\tbest: 0.9695639 (600)\ttotal: 21.1s\tremaining: 1m 24s\n",
            "DEBUG:lightautoml.ml_algo.boost_cb:700:\ttest: 0.9699154\tbest: 0.9699154 (700)\ttotal: 24.6s\tremaining: 1m 20s\n",
            "DEBUG:lightautoml.ml_algo.boost_cb:800:\ttest: 0.9703325\tbest: 0.9703325 (800)\ttotal: 28.1s\tremaining: 1m 17s\n",
            "DEBUG:lightautoml.ml_algo.boost_cb:900:\ttest: 0.9705344\tbest: 0.9705344 (900)\ttotal: 31.7s\tremaining: 1m 13s\n",
            "DEBUG:lightautoml.ml_algo.boost_cb:1000:\ttest: 0.9707335\tbest: 0.9707338 (997)\ttotal: 35.2s\tremaining: 1m 10s\n",
            "DEBUG:lightautoml.ml_algo.boost_cb:1100:\ttest: 0.9709254\tbest: 0.9709396 (1099)\ttotal: 38.7s\tremaining: 1m 6s\n",
            "DEBUG:lightautoml.ml_algo.boost_cb:1200:\ttest: 0.9710145\tbest: 0.9710318 (1195)\ttotal: 45.3s\tremaining: 1m 7s\n",
            "DEBUG:lightautoml.ml_algo.boost_cb:1300:\ttest: 0.9710373\tbest: 0.9710745 (1276)\ttotal: 50.2s\tremaining: 1m 5s\n",
            "DEBUG:lightautoml.ml_algo.boost_cb:1400:\ttest: 0.9711301\tbest: 0.9711438 (1391)\ttotal: 53.7s\tremaining: 1m 1s\n",
            "DEBUG:lightautoml.ml_algo.boost_cb:1500:\ttest: 0.9710242\tbest: 0.9711486 (1436)\ttotal: 57.2s\tremaining: 57.1s\n",
            "INFO3:lightautoml.ml_algo.boost_cb:bestTest = 0.9711486399\n",
            "INFO3:lightautoml.ml_algo.boost_cb:bestIteration = 1436\n",
            "INFO3:lightautoml.ml_algo.boost_cb:Shrink model to first 1437 iterations.\n",
            "INFO:optuna.study.study:Trial 0 finished with value: 0.9711485894293126 and parameters: {'max_depth': 4, 'l2_leaf_reg': 3.6010467344475403, 'min_data_in_leaf': 15}. Best is trial 0 with value: 0.9711485894293126.\n",
            "INFO3:lightautoml.ml_algo.tuning.optuna:\u001b[1mTrial 1\u001b[0m with hyperparameters {'max_depth': 4, 'l2_leaf_reg': 3.6010467344475403, 'min_data_in_leaf': 15} scored 0.9711485894293126 in 0:01:10.548958\n"
          ]
        },
        {
          "output_type": "stream",
          "name": "stdout",
          "text": [
            "[17:33:09] Hyperparameters optimization for \u001b[1mLvl_0_Pipe_1_Mod_3_Tuned_CatBoost\u001b[0m completed\n"
          ]
        },
        {
          "output_type": "stream",
          "name": "stderr",
          "text": [
            "INFO:lightautoml.ml_algo.tuning.optuna:Hyperparameters optimization for \u001b[1mLvl_0_Pipe_1_Mod_3_Tuned_CatBoost\u001b[0m completed\n",
            "INFO2:lightautoml.ml_algo.tuning.optuna:The set of hyperparameters \u001b[1m{'max_depth': 4, 'l2_leaf_reg': 3.6010467344475403, 'min_data_in_leaf': 15}\u001b[0m\n",
            " achieve 0.9711 auc\n"
          ]
        },
        {
          "output_type": "stream",
          "name": "stdout",
          "text": [
            "[17:33:10] Time left 779.00 secs\n",
            "\n"
          ]
        },
        {
          "output_type": "stream",
          "name": "stderr",
          "text": [
            "INFO:lightautoml.automl.base:Time left 779.00 secs\n",
            "\n"
          ]
        },
        {
          "output_type": "stream",
          "name": "stdout",
          "text": [
            "[17:33:10] Time limit exceeded in one of the tasks. AutoML will blend level 1 models.\n",
            "\n"
          ]
        },
        {
          "output_type": "stream",
          "name": "stderr",
          "text": [
            "INFO:lightautoml.automl.base:Time limit exceeded in one of the tasks. AutoML will blend level 1 models.\n",
            "\n"
          ]
        },
        {
          "output_type": "stream",
          "name": "stdout",
          "text": [
            "[17:33:10] \u001b[1mLayer 1 training completed.\u001b[0m\n",
            "\n"
          ]
        },
        {
          "output_type": "stream",
          "name": "stderr",
          "text": [
            "INFO:lightautoml.automl.base:\u001b[1mLayer 1 training completed.\u001b[0m\n",
            "\n"
          ]
        },
        {
          "output_type": "stream",
          "name": "stdout",
          "text": [
            "[17:33:11] Blending: optimization starts with equal weights and score \u001b[1m0.9712996742197467\u001b[0m\n"
          ]
        },
        {
          "output_type": "stream",
          "name": "stderr",
          "text": [
            "INFO:lightautoml.automl.blend:Blending: optimization starts with equal weights and score \u001b[1m0.9712996742197467\u001b[0m\n"
          ]
        },
        {
          "output_type": "stream",
          "name": "stdout",
          "text": [
            "[17:33:38] Blending: iteration \u001b[1m0\u001b[0m: score = \u001b[1m0.9734000613853415\u001b[0m, weights = \u001b[1m[0.        0.8085872 0.1914128]\u001b[0m\n"
          ]
        },
        {
          "output_type": "stream",
          "name": "stderr",
          "text": [
            "INFO:lightautoml.automl.blend:Blending: iteration \u001b[1m0\u001b[0m: score = \u001b[1m0.9734000613853415\u001b[0m, weights = \u001b[1m[0.        0.8085872 0.1914128]\u001b[0m\n"
          ]
        },
        {
          "output_type": "stream",
          "name": "stdout",
          "text": [
            "[17:34:04] Blending: iteration \u001b[1m1\u001b[0m: score = \u001b[1m0.9734000613853415\u001b[0m, weights = \u001b[1m[0.        0.8085872 0.1914128]\u001b[0m\n"
          ]
        },
        {
          "output_type": "stream",
          "name": "stderr",
          "text": [
            "INFO:lightautoml.automl.blend:Blending: iteration \u001b[1m1\u001b[0m: score = \u001b[1m0.9734000613853415\u001b[0m, weights = \u001b[1m[0.        0.8085872 0.1914128]\u001b[0m\n"
          ]
        },
        {
          "output_type": "stream",
          "name": "stdout",
          "text": [
            "[17:34:04] Blending: no score update. Terminated\n",
            "\n"
          ]
        },
        {
          "output_type": "stream",
          "name": "stderr",
          "text": [
            "INFO:lightautoml.automl.blend:Blending: no score update. Terminated\n",
            "\n"
          ]
        },
        {
          "output_type": "stream",
          "name": "stdout",
          "text": [
            "[17:34:05] \u001b[1mAutoml preset training completed in 2876.08 seconds\u001b[0m\n",
            "\n"
          ]
        },
        {
          "output_type": "stream",
          "name": "stderr",
          "text": [
            "INFO:lightautoml.automl.presets.base:\u001b[1mAutoml preset training completed in 2876.08 seconds\u001b[0m\n",
            "\n"
          ]
        },
        {
          "output_type": "stream",
          "name": "stdout",
          "text": [
            "[17:34:05] Model description:\n",
            "Final prediction for new objects (level 0) = \n",
            "\t 0.80859 * (1 averaged models Lvl_0_Pipe_1_Mod_0_LightGBM) +\n",
            "\t 0.19141 * (3 averaged models Lvl_0_Pipe_1_Mod_2_CatBoost) \n",
            "\n"
          ]
        },
        {
          "output_type": "stream",
          "name": "stderr",
          "text": [
            "INFO:lightautoml.automl.presets.base:Model description:\n",
            "Final prediction for new objects (level 0) = \n",
            "\t 0.80859 * (1 averaged models Lvl_0_Pipe_1_Mod_0_LightGBM) +\n",
            "\t 0.19141 * (3 averaged models Lvl_0_Pipe_1_Mod_2_CatBoost) \n",
            "\n"
          ]
        },
        {
          "output_type": "stream",
          "name": "stdout",
          "text": [
            "CPU times: user 1h 18min 13s, sys: 3min 24s, total: 1h 21min 38s\n",
            "Wall time: 47min 56s\n"
          ]
        }
      ]
    },
    {
      "cell_type": "code",
      "source": [
        "tr_data"
      ],
      "metadata": {
        "id": "6tO6O2-vdMf1"
      },
      "execution_count": null,
      "outputs": []
    },
    {
      "cell_type": "code",
      "source": [
        "te_pred = automl.predict(te_data)"
      ],
      "metadata": {
        "id": "KMhrcJSRqu7I"
      },
      "execution_count": null,
      "outputs": []
    },
    {
      "cell_type": "code",
      "source": [
        "from sklearn.metrics import roc_auc_score"
      ],
      "metadata": {
        "id": "C5njDxXorzov"
      },
      "execution_count": null,
      "outputs": []
    },
    {
      "cell_type": "code",
      "source": [
        "roc_auc_score(te_data['label'].values,te_pred.data[:,0])"
      ],
      "metadata": {
        "id": "aadREvhvsVxS",
        "colab": {
          "base_uri": "https://localhost:8080/"
        },
        "outputId": "26627ad9-bb8f-482a-ffca-02cb4e061790"
      },
      "execution_count": null,
      "outputs": [
        {
          "output_type": "execute_result",
          "data": {
            "text/plain": [
              "0.9918861125190455"
            ]
          },
          "metadata": {},
          "execution_count": 20
        }
      ]
    },
    {
      "cell_type": "code",
      "source": [
        "roc_auc_score(te_data['label'].values,te_pred.data[:,0])"
      ],
      "metadata": {
        "colab": {
          "base_uri": "https://localhost:8080/"
        },
        "id": "LjVBloHW3UME",
        "outputId": "fbe061e4-8c5c-44ef-c173-9a63e14aae8b"
      },
      "execution_count": null,
      "outputs": [
        {
          "output_type": "execute_result",
          "data": {
            "text/plain": [
              "0.9736826623497766"
            ]
          },
          "metadata": {},
          "execution_count": 27
        }
      ]
    },
    {
      "cell_type": "code",
      "source": [
        "te_data['label'].value_counts()"
      ],
      "metadata": {
        "id": "KBNQjbyWtB37",
        "colab": {
          "base_uri": "https://localhost:8080/"
        },
        "outputId": "df9ec080-f851-4ee2-9a51-aee435b6ce1a"
      },
      "execution_count": null,
      "outputs": [
        {
          "output_type": "execute_result",
          "data": {
            "text/plain": [
              "0    1165670\n",
              "1      34330\n",
              "Name: label, dtype: int64"
            ]
          },
          "metadata": {},
          "execution_count": 21
        }
      ]
    },
    {
      "cell_type": "code",
      "source": [
        "1 - 34330/1165670"
      ],
      "metadata": {
        "id": "k_aK1FFotWpl"
      },
      "execution_count": null,
      "outputs": []
    },
    {
      "cell_type": "code",
      "source": [
        "%%time\n",
        "\n",
        "# Fast feature importances calculation\n",
        "fast_fi = automl.get_feature_scores('fast')\n",
        "fast_fi.set_index('Feature')['Importance'].plot.bar(figsize = (30, 10), grid = True)"
      ],
      "metadata": {
        "id": "_HfvwPeut8gN",
        "colab": {
          "base_uri": "https://localhost:8080/",
          "height": 720
        },
        "outputId": "3daaa26a-0f43-4739-a949-9343497931c2"
      },
      "execution_count": null,
      "outputs": [
        {
          "output_type": "stream",
          "name": "stdout",
          "text": [
            "CPU times: user 250 ms, sys: 13.1 ms, total: 263 ms\n",
            "Wall time: 534 ms\n"
          ]
        },
        {
          "output_type": "execute_result",
          "data": {
            "text/plain": [
              "<matplotlib.axes._subplots.AxesSubplot at 0x7feef884f310>"
            ]
          },
          "metadata": {},
          "execution_count": 22
        },
        {
          "output_type": "display_data",
          "data": {
            "text/plain": [
              "<Figure size 2160x720 with 1 Axes>"
            ],
            "image/png": "[encoded data removed]"
          },
          "metadata": {
            "needs_background": "light"
          }
        }
      ]
    },
    {
      "cell_type": "code",
      "source": [
        "%%time\n",
        "\n",
        "# Fast feature importances calculation\n",
        "fast_fi = automl.get_feature_scores('fast')\n",
        "fast_fi.set_index('Feature')['Importance'].plot.bar(figsize = (30, 10), grid = True)"
      ],
      "metadata": {
        "id": "9CKhn4jjv-Kq",
        "colab": {
          "base_uri": "https://localhost:8080/",
          "height": 724
        },
        "outputId": "003b2842-5973-41b4-b366-9b51de70236e"
      },
      "execution_count": null,
      "outputs": [
        {
          "output_type": "stream",
          "name": "stdout",
          "text": [
            "CPU times: user 60.4 ms, sys: 2.06 ms, total: 62.4 ms\n",
            "Wall time: 74.2 ms\n"
          ]
        },
        {
          "output_type": "execute_result",
          "data": {
            "text/plain": [
              "<matplotlib.axes._subplots.AxesSubplot at 0x7f2d7e5f6c10>"
            ]
          },
          "metadata": {},
          "execution_count": 28
        },
        {
          "output_type": "display_data",
          "data": {
            "text/plain": [
              "<Figure size 2160x720 with 1 Axes>"
            ],
            "image/png": "[encoded data removed]"
          },
          "metadata": {
            "needs_background": "light"
          }
        }
      ]
    },
    {
      "cell_type": "code",
      "source": [
        "test_df = pd.read_csv('/content/drive/MyDrive/Pochta/test_dataset_test.csv')"
      ],
      "metadata": {
        "id": "r0O03UJVxHQd",
        "colab": {
          "base_uri": "https://localhost:8080/"
        },
        "outputId": "0074288d-1ca3-4c9c-f420-79e34aa6adf8"
      },
      "execution_count": null,
      "outputs": [
        {
          "output_type": "stream",
          "name": "stderr",
          "text": [
            "/usr/local/lib/python3.7/dist-packages/IPython/core/interactiveshell.py:3326: DtypeWarning: Columns (2) have mixed types.Specify dtype option on import or set low_memory=False.\n",
            "  exec(code_obj, self.user_global_ns, self.user_ns)\n"
          ]
        }
      ]
    },
    {
      "cell_type": "code",
      "source": [
        "test_df"
      ],
      "metadata": {
        "id": "pD8gAu3dx7Lb",
        "colab": {
          "base_uri": "https://localhost:8080/",
          "height": 574
        },
        "outputId": "af332e79-2481-4800-f3dc-6f418c217e48"
      },
      "execution_count": null,
      "outputs": [
        {
          "output_type": "execute_result",
          "data": {
            "text/plain": [
              "              id oper_type + oper_attr index_oper     type  priority  \\\n",
              "0        7815282                  8_13   102976.0     ММПО    7503.0   \n",
              "1        8443555                   8_2   238753.0     ГОПС    7503.0   \n",
              "2        6352559               1020_-1   618254.0     ГОПС    7503.0   \n",
              "3        4921420               1016_-1   102968.0       ТИ    7503.0   \n",
              "4        1420440               1018_-1   102971.0      Цех    7506.0   \n",
              "...          ...                   ...        ...      ...       ...   \n",
              "3999995  9030800             1017_1001   655003.0     ГОПС    7503.0   \n",
              "3999996  6275048               1023_-1   102976.0     ММПО    7503.0   \n",
              "3999997  4701757               1022_-1   102969.0       ТИ    7503.0   \n",
              "3999998   611153                 39_-1   104006.0  Участок    7503.0   \n",
              "3999999  7776936                  14_1   102976.0     ММПО    7503.0   \n",
              "\n",
              "        is_privatecategory  class is_in_yandex is_return  weight  mailtype  \\\n",
              "0                        N    0.0            N         N    85.0       5.0   \n",
              "1                        N    4.0            Y         N    21.0       5.0   \n",
              "2                        N    4.0            Y         N   388.0       5.0   \n",
              "3                        N    0.0            N         N  1203.0       5.0   \n",
              "4                        N    0.0            N         N   956.0       5.0   \n",
              "...                    ...    ...          ...       ...     ...       ...   \n",
              "3999995                  N    4.0            Y         N    53.0       5.0   \n",
              "3999996                  N    0.0            N         N   286.0       5.0   \n",
              "3999997                  N    0.0            N         N   733.0       5.0   \n",
              "3999998                  N    0.0            N         N   265.0       5.0   \n",
              "3999999                  N    0.0            N         N   416.0       5.0   \n",
              "\n",
              "         mailctg  mailrank  directctg  transport_pay  postmark  \\\n",
              "0            1.0       0.0        2.0           0.00       0.0   \n",
              "1            0.0       0.0        2.0           0.00       0.0   \n",
              "2            1.0       0.0        2.0          34.01       0.0   \n",
              "3            1.0       0.0        2.0          83.72       0.0   \n",
              "4            1.0       0.0        2.0          14.95       0.0   \n",
              "...          ...       ...        ...            ...       ...   \n",
              "3999995      1.0       0.0        2.0           0.00       0.0   \n",
              "3999996      1.0       0.0        2.0          32.05       0.0   \n",
              "3999997      1.0       0.0        2.0          49.98       0.0   \n",
              "3999998      1.0       0.0        2.0           0.00       0.0   \n",
              "3999999      1.0       0.0        2.0          35.30       0.0   \n",
              "\n",
              "                                    name_mfi  weight_mfi  price_mfi  \\\n",
              "0          Screen Protectors,protective case        73.0      489.0   \n",
              "1                          String Iron Block        19.0      186.0   \n",
              "2                                    Jackets       348.0      500.0   \n",
              "3                                          0         0.0        0.0   \n",
              "4                         Unisex Boots,Boots       946.0     1267.0   \n",
              "...                                      ...         ...        ...   \n",
              "3999995  solder tool(jsd-40a),Keyboard light        61.0      262.0   \n",
              "3999996                                    0         0.0        0.0   \n",
              "3999997                            Men Shoes       662.0      300.0   \n",
              "3999998                              Dresses       247.0      500.0   \n",
              "3999999                       brooch(YSK724)        12.0       20.0   \n",
              "\n",
              "         dist_qty_oper_login_1  total_qty_oper_login_1  \\\n",
              "0                        972.0              68766046.0   \n",
              "1                          2.0                  2895.0   \n",
              "2                          3.0                  2751.0   \n",
              "3                         69.0               9379609.0   \n",
              "4                        181.0              76138189.0   \n",
              "...                        ...                     ...   \n",
              "3999995                    3.0                  4297.0   \n",
              "3999996                  914.0              48856658.0   \n",
              "3999997                  106.0              17348074.0   \n",
              "3999998                    2.0                    15.0   \n",
              "3999999                 1089.0              64270133.0   \n",
              "\n",
              "         total_qty_oper_login_0  total_qty_over_index_and_type  \\\n",
              "0                    91123247.0                    159889293.0   \n",
              "1                        1545.0                         4440.0   \n",
              "2                         993.0                         3744.0   \n",
              "3                     2267333.0                     11646942.0   \n",
              "4                        8747.0                     76146936.0   \n",
              "...                         ...                            ...   \n",
              "3999995                  1803.0                         6100.0   \n",
              "3999996              83318932.0                    132175590.0   \n",
              "3999997               3469387.0                     20817461.0   \n",
              "3999998              13673720.0                     13673735.0   \n",
              "3999999             116432632.0                    180702765.0   \n",
              "\n",
              "         total_qty_over_index  is_wrong_sndr_name  is_wrong_rcpn_name  \\\n",
              "0                 164927295.0                   0                   0   \n",
              "1                     20623.0                   0                   1   \n",
              "2                     37817.0                   0                   0   \n",
              "3                  11759329.0                   0                   1   \n",
              "4                  84110459.0                   0                   1   \n",
              "...                       ...                 ...                 ...   \n",
              "3999995               64613.0                   0                   0   \n",
              "3999996           136819803.0                   0                   1   \n",
              "3999997            20821109.0                   0                   1   \n",
              "3999998            14041298.0                   0                   0   \n",
              "3999999           188407812.0                   0                   0   \n",
              "\n",
              "         is_wrong_phone_number  is_wrong_address  \n",
              "0                            0                 0  \n",
              "1                            1                 0  \n",
              "2                            0                 0  \n",
              "3                            0                 0  \n",
              "4                            0                 0  \n",
              "...                        ...               ...  \n",
              "3999995                      0                 0  \n",
              "3999996                      0                 0  \n",
              "3999997                      0                 0  \n",
              "3999998                      0                 0  \n",
              "3999999                      0                 0  \n",
              "\n",
              "[4000000 rows x 28 columns]"
            ],
            "text/html": [
              "\n",
              "  <div id=\"df-22d4e14a-3b13-4c16-adf4-c9089b1f48db\">\n",
              "    <div class=\"colab-df-container\">\n",
              "      <div>\n",
              "<style scoped>\n",
              "    .dataframe tbody tr th:only-of-type {\n",
              "        vertical-align: middle;\n",
              "    }\n",
              "\n",
              "    .dataframe tbody tr th {\n",
              "        vertical-align: top;\n",
              "    }\n",
              "\n",
              "    .dataframe thead th {\n",
              "        text-align: right;\n",
              "    }\n",
              "</style>\n",
              "<table border=\"1\" class=\"dataframe\">\n",
              "  <thead>\n",
              "    <tr style=\"text-align: right;\">\n",
              "      <th></th>\n",
              "      <th>id</th>\n",
              "      <th>oper_type + oper_attr</th>\n",
              "      <th>index_oper</th>\n",
              "      <th>type</th>\n",
              "      <th>priority</th>\n",
              "      <th>is_privatecategory</th>\n",
              "      <th>class</th>\n",
              "      <th>is_in_yandex</th>\n",
              "      <th>is_return</th>\n",
              "      <th>weight</th>\n",
              "      <th>mailtype</th>\n",
              "      <th>mailctg</th>\n",
              "      <th>mailrank</th>\n",
              "      <th>directctg</th>\n",
              "      <th>transport_pay</th>\n",
              "      <th>postmark</th>\n",
              "      <th>name_mfi</th>\n",
              "      <th>weight_mfi</th>\n",
              "      <th>price_mfi</th>\n",
              "      <th>dist_qty_oper_login_1</th>\n",
              "      <th>total_qty_oper_login_1</th>\n",
              "      <th>total_qty_oper_login_0</th>\n",
              "      <th>total_qty_over_index_and_type</th>\n",
              "      <th>total_qty_over_index</th>\n",
              "      <th>is_wrong_sndr_name</th>\n",
              "      <th>is_wrong_rcpn_name</th>\n",
              "      <th>is_wrong_phone_number</th>\n",
              "      <th>is_wrong_address</th>\n",
              "    </tr>\n",
              "  </thead>\n",
              "  <tbody>\n",
              "    <tr>\n",
              "      <th>0</th>\n",
              "      <td>7815282</td>\n",
              "      <td>8_13</td>\n",
              "      <td>102976.0</td>\n",
              "      <td>ММПО</td>\n",
              "      <td>7503.0</td>\n",
              "      <td>N</td>\n",
              "      <td>0.0</td>\n",
              "      <td>N</td>\n",
              "      <td>N</td>\n",
              "      <td>85.0</td>\n",
              "      <td>5.0</td>\n",
              "      <td>1.0</td>\n",
              "      <td>0.0</td>\n",
              "      <td>2.0</td>\n",
              "      <td>0.00</td>\n",
              "      <td>0.0</td>\n",
              "      <td>Screen Protectors,protective case</td>\n",
              "      <td>73.0</td>\n",
              "      <td>489.0</td>\n",
              "      <td>972.0</td>\n",
              "      <td>68766046.0</td>\n",
              "      <td>91123247.0</td>\n",
              "      <td>159889293.0</td>\n",
              "      <td>164927295.0</td>\n",
              "      <td>0</td>\n",
              "      <td>0</td>\n",
              "      <td>0</td>\n",
              "      <td>0</td>\n",
              "    </tr>\n",
              "    <tr>\n",
              "      <th>1</th>\n",
              "      <td>8443555</td>\n",
              "      <td>8_2</td>\n",
              "      <td>238753.0</td>\n",
              "      <td>ГОПС</td>\n",
              "      <td>7503.0</td>\n",
              "      <td>N</td>\n",
              "      <td>4.0</td>\n",
              "      <td>Y</td>\n",
              "      <td>N</td>\n",
              "      <td>21.0</td>\n",
              "      <td>5.0</td>\n",
              "      <td>0.0</td>\n",
              "      <td>0.0</td>\n",
              "      <td>2.0</td>\n",
              "      <td>0.00</td>\n",
              "      <td>0.0</td>\n",
              "      <td>String Iron Block</td>\n",
              "      <td>19.0</td>\n",
              "      <td>186.0</td>\n",
              "      <td>2.0</td>\n",
              "      <td>2895.0</td>\n",
              "      <td>1545.0</td>\n",
              "      <td>4440.0</td>\n",
              "      <td>20623.0</td>\n",
              "      <td>0</td>\n",
              "      <td>1</td>\n",
              "      <td>1</td>\n",
              "      <td>0</td>\n",
              "    </tr>\n",
              "    <tr>\n",
              "      <th>2</th>\n",
              "      <td>6352559</td>\n",
              "      <td>1020_-1</td>\n",
              "      <td>618254.0</td>\n",
              "      <td>ГОПС</td>\n",
              "      <td>7503.0</td>\n",
              "      <td>N</td>\n",
              "      <td>4.0</td>\n",
              "      <td>Y</td>\n",
              "      <td>N</td>\n",
              "      <td>388.0</td>\n",
              "      <td>5.0</td>\n",
              "      <td>1.0</td>\n",
              "      <td>0.0</td>\n",
              "      <td>2.0</td>\n",
              "      <td>34.01</td>\n",
              "      <td>0.0</td>\n",
              "      <td>Jackets</td>\n",
              "      <td>348.0</td>\n",
              "      <td>500.0</td>\n",
              "      <td>3.0</td>\n",
              "      <td>2751.0</td>\n",
              "      <td>993.0</td>\n",
              "      <td>3744.0</td>\n",
              "      <td>37817.0</td>\n",
              "      <td>0</td>\n",
              "      <td>0</td>\n",
              "      <td>0</td>\n",
              "      <td>0</td>\n",
              "    </tr>\n",
              "    <tr>\n",
              "      <th>3</th>\n",
              "      <td>4921420</td>\n",
              "      <td>1016_-1</td>\n",
              "      <td>102968.0</td>\n",
              "      <td>ТИ</td>\n",
              "      <td>7503.0</td>\n",
              "      <td>N</td>\n",
              "      <td>0.0</td>\n",
              "      <td>N</td>\n",
              "      <td>N</td>\n",
              "      <td>1203.0</td>\n",
              "      <td>5.0</td>\n",
              "      <td>1.0</td>\n",
              "      <td>0.0</td>\n",
              "      <td>2.0</td>\n",
              "      <td>83.72</td>\n",
              "      <td>0.0</td>\n",
              "      <td>0</td>\n",
              "      <td>0.0</td>\n",
              "      <td>0.0</td>\n",
              "      <td>69.0</td>\n",
              "      <td>9379609.0</td>\n",
              "      <td>2267333.0</td>\n",
              "      <td>11646942.0</td>\n",
              "      <td>11759329.0</td>\n",
              "      <td>0</td>\n",
              "      <td>1</td>\n",
              "      <td>0</td>\n",
              "      <td>0</td>\n",
              "    </tr>\n",
              "    <tr>\n",
              "      <th>4</th>\n",
              "      <td>1420440</td>\n",
              "      <td>1018_-1</td>\n",
              "      <td>102971.0</td>\n",
              "      <td>Цех</td>\n",
              "      <td>7506.0</td>\n",
              "      <td>N</td>\n",
              "      <td>0.0</td>\n",
              "      <td>N</td>\n",
              "      <td>N</td>\n",
              "      <td>956.0</td>\n",
              "      <td>5.0</td>\n",
              "      <td>1.0</td>\n",
              "      <td>0.0</td>\n",
              "      <td>2.0</td>\n",
              "      <td>14.95</td>\n",
              "      <td>0.0</td>\n",
              "      <td>Unisex Boots,Boots</td>\n",
              "      <td>946.0</td>\n",
              "      <td>1267.0</td>\n",
              "      <td>181.0</td>\n",
              "      <td>76138189.0</td>\n",
              "      <td>8747.0</td>\n",
              "      <td>76146936.0</td>\n",
              "      <td>84110459.0</td>\n",
              "      <td>0</td>\n",
              "      <td>1</td>\n",
              "      <td>0</td>\n",
              "      <td>0</td>\n",
              "    </tr>\n",
              "    <tr>\n",
              "      <th>...</th>\n",
              "      <td>...</td>\n",
              "      <td>...</td>\n",
              "      <td>...</td>\n",
              "      <td>...</td>\n",
              "      <td>...</td>\n",
              "      <td>...</td>\n",
              "      <td>...</td>\n",
              "      <td>...</td>\n",
              "      <td>...</td>\n",
              "      <td>...</td>\n",
              "      <td>...</td>\n",
              "      <td>...</td>\n",
              "      <td>...</td>\n",
              "      <td>...</td>\n",
              "      <td>...</td>\n",
              "      <td>...</td>\n",
              "      <td>...</td>\n",
              "      <td>...</td>\n",
              "      <td>...</td>\n",
              "      <td>...</td>\n",
              "      <td>...</td>\n",
              "      <td>...</td>\n",
              "      <td>...</td>\n",
              "      <td>...</td>\n",
              "      <td>...</td>\n",
              "      <td>...</td>\n",
              "      <td>...</td>\n",
              "      <td>...</td>\n",
              "    </tr>\n",
              "    <tr>\n",
              "      <th>3999995</th>\n",
              "      <td>9030800</td>\n",
              "      <td>1017_1001</td>\n",
              "      <td>655003.0</td>\n",
              "      <td>ГОПС</td>\n",
              "      <td>7503.0</td>\n",
              "      <td>N</td>\n",
              "      <td>4.0</td>\n",
              "      <td>Y</td>\n",
              "      <td>N</td>\n",
              "      <td>53.0</td>\n",
              "      <td>5.0</td>\n",
              "      <td>1.0</td>\n",
              "      <td>0.0</td>\n",
              "      <td>2.0</td>\n",
              "      <td>0.00</td>\n",
              "      <td>0.0</td>\n",
              "      <td>solder tool(jsd-40a),Keyboard light</td>\n",
              "      <td>61.0</td>\n",
              "      <td>262.0</td>\n",
              "      <td>3.0</td>\n",
              "      <td>4297.0</td>\n",
              "      <td>1803.0</td>\n",
              "      <td>6100.0</td>\n",
              "      <td>64613.0</td>\n",
              "      <td>0</td>\n",
              "      <td>0</td>\n",
              "      <td>0</td>\n",
              "      <td>0</td>\n",
              "    </tr>\n",
              "    <tr>\n",
              "      <th>3999996</th>\n",
              "      <td>6275048</td>\n",
              "      <td>1023_-1</td>\n",
              "      <td>102976.0</td>\n",
              "      <td>ММПО</td>\n",
              "      <td>7503.0</td>\n",
              "      <td>N</td>\n",
              "      <td>0.0</td>\n",
              "      <td>N</td>\n",
              "      <td>N</td>\n",
              "      <td>286.0</td>\n",
              "      <td>5.0</td>\n",
              "      <td>1.0</td>\n",
              "      <td>0.0</td>\n",
              "      <td>2.0</td>\n",
              "      <td>32.05</td>\n",
              "      <td>0.0</td>\n",
              "      <td>0</td>\n",
              "      <td>0.0</td>\n",
              "      <td>0.0</td>\n",
              "      <td>914.0</td>\n",
              "      <td>48856658.0</td>\n",
              "      <td>83318932.0</td>\n",
              "      <td>132175590.0</td>\n",
              "      <td>136819803.0</td>\n",
              "      <td>0</td>\n",
              "      <td>1</td>\n",
              "      <td>0</td>\n",
              "      <td>0</td>\n",
              "    </tr>\n",
              "    <tr>\n",
              "      <th>3999997</th>\n",
              "      <td>4701757</td>\n",
              "      <td>1022_-1</td>\n",
              "      <td>102969.0</td>\n",
              "      <td>ТИ</td>\n",
              "      <td>7503.0</td>\n",
              "      <td>N</td>\n",
              "      <td>0.0</td>\n",
              "      <td>N</td>\n",
              "      <td>N</td>\n",
              "      <td>733.0</td>\n",
              "      <td>5.0</td>\n",
              "      <td>1.0</td>\n",
              "      <td>0.0</td>\n",
              "      <td>2.0</td>\n",
              "      <td>49.98</td>\n",
              "      <td>0.0</td>\n",
              "      <td>Men Shoes</td>\n",
              "      <td>662.0</td>\n",
              "      <td>300.0</td>\n",
              "      <td>106.0</td>\n",
              "      <td>17348074.0</td>\n",
              "      <td>3469387.0</td>\n",
              "      <td>20817461.0</td>\n",
              "      <td>20821109.0</td>\n",
              "      <td>0</td>\n",
              "      <td>1</td>\n",
              "      <td>0</td>\n",
              "      <td>0</td>\n",
              "    </tr>\n",
              "    <tr>\n",
              "      <th>3999998</th>\n",
              "      <td>611153</td>\n",
              "      <td>39_-1</td>\n",
              "      <td>104006.0</td>\n",
              "      <td>Участок</td>\n",
              "      <td>7503.0</td>\n",
              "      <td>N</td>\n",
              "      <td>0.0</td>\n",
              "      <td>N</td>\n",
              "      <td>N</td>\n",
              "      <td>265.0</td>\n",
              "      <td>5.0</td>\n",
              "      <td>1.0</td>\n",
              "      <td>0.0</td>\n",
              "      <td>2.0</td>\n",
              "      <td>0.00</td>\n",
              "      <td>0.0</td>\n",
              "      <td>Dresses</td>\n",
              "      <td>247.0</td>\n",
              "      <td>500.0</td>\n",
              "      <td>2.0</td>\n",
              "      <td>15.0</td>\n",
              "      <td>13673720.0</td>\n",
              "      <td>13673735.0</td>\n",
              "      <td>14041298.0</td>\n",
              "      <td>0</td>\n",
              "      <td>0</td>\n",
              "      <td>0</td>\n",
              "      <td>0</td>\n",
              "    </tr>\n",
              "    <tr>\n",
              "      <th>3999999</th>\n",
              "      <td>7776936</td>\n",
              "      <td>14_1</td>\n",
              "      <td>102976.0</td>\n",
              "      <td>ММПО</td>\n",
              "      <td>7503.0</td>\n",
              "      <td>N</td>\n",
              "      <td>0.0</td>\n",
              "      <td>N</td>\n",
              "      <td>N</td>\n",
              "      <td>416.0</td>\n",
              "      <td>5.0</td>\n",
              "      <td>1.0</td>\n",
              "      <td>0.0</td>\n",
              "      <td>2.0</td>\n",
              "      <td>35.30</td>\n",
              "      <td>0.0</td>\n",
              "      <td>brooch(YSK724)</td>\n",
              "      <td>12.0</td>\n",
              "      <td>20.0</td>\n",
              "      <td>1089.0</td>\n",
              "      <td>64270133.0</td>\n",
              "      <td>116432632.0</td>\n",
              "      <td>180702765.0</td>\n",
              "      <td>188407812.0</td>\n",
              "      <td>0</td>\n",
              "      <td>0</td>\n",
              "      <td>0</td>\n",
              "      <td>0</td>\n",
              "    </tr>\n",
              "  </tbody>\n",
              "</table>\n",
              "<p>4000000 rows × 28 columns</p>\n",
              "</div>\n",
              "      <button class=\"colab-df-convert\" onclick=\"convertToInteractive('df-22d4e14a-3b13-4c16-adf4-c9089b1f48db')\"\n",
              "              title=\"Convert this dataframe to an interactive table.\"\n",
              "              style=\"display:none;\">\n",
              "        \n",
              "  <svg xmlns=\"http://www.w3.org/2000/svg\" height=\"24px\"viewBox=\"0 0 24 24\"\n",
              "       width=\"24px\">\n",
              "    <path d=\"M0 0h24v24H0V0z\" fill=\"none\"/>\n",
              "    <path d=\"M18.56 5.44l.94 2.06.94-2.06 2.06-.94-2.06-.94-.94-2.06-.94 2.06-2.06.94zm-11 1L8.5 8.5l.94-2.06 2.06-.94-2.06-.94L8.5 2.5l-.94 2.06-2.06.94zm10 10l.94 2.06.94-2.06 2.06-.94-2.06-.94-.94-2.06-.94 2.06-2.06.94z\"/><path d=\"M17.41 7.96l-1.37-1.37c-.4-.4-.92-.59-1.43-.59-.52 0-1.04.2-1.43.59L10.3 9.45l-7.72 7.72c-.78.78-.78 2.05 0 2.83L4 21.41c.39.39.9.59 1.41.59.51 0 1.02-.2 1.41-.59l7.78-7.78 2.81-2.81c.8-.78.8-2.07 0-2.86zM5.41 20L4 18.59l7.72-7.72 1.47 1.35L5.41 20z\"/>\n",
              "  </svg>\n",
              "      </button>\n",
              "      \n",
              "  <style>\n",
              "    .colab-df-container {\n",
              "      display:flex;\n",
              "      flex-wrap:wrap;\n",
              "      gap: 12px;\n",
              "    }\n",
              "\n",
              "    .colab-df-convert {\n",
              "      background-color: #E8F0FE;\n",
              "      border: none;\n",
              "      border-radius: 50%;\n",
              "      cursor: pointer;\n",
              "      display: none;\n",
              "      fill: #1967D2;\n",
              "      height: 32px;\n",
              "      padding: 0 0 0 0;\n",
              "      width: 32px;\n",
              "    }\n",
              "\n",
              "    .colab-df-convert:hover {\n",
              "      background-color: #E2EBFA;\n",
              "      box-shadow: 0px 1px 2px rgba(60, 64, 67, 0.3), 0px 1px 3px 1px rgba(60, 64, 67, 0.15);\n",
              "      fill: #174EA6;\n",
              "    }\n",
              "\n",
              "    [theme=dark] .colab-df-convert {\n",
              "      background-color: #3B4455;\n",
              "      fill: #D2E3FC;\n",
              "    }\n",
              "\n",
              "    [theme=dark] .colab-df-convert:hover {\n",
              "      background-color: #434B5C;\n",
              "      box-shadow: 0px 1px 3px 1px rgba(0, 0, 0, 0.15);\n",
              "      filter: drop-shadow(0px 1px 2px rgba(0, 0, 0, 0.3));\n",
              "      fill: #FFFFFF;\n",
              "    }\n",
              "  </style>\n",
              "\n",
              "      <script>\n",
              "        const buttonEl =\n",
              "          document.querySelector('#df-22d4e14a-3b13-4c16-adf4-c9089b1f48db button.colab-df-convert');\n",
              "        buttonEl.style.display =\n",
              "          google.colab.kernel.accessAllowed ? 'block' : 'none';\n",
              "\n",
              "        async function convertToInteractive(key) {\n",
              "          const element = document.querySelector('#df-22d4e14a-3b13-4c16-adf4-c9089b1f48db');\n",
              "          const dataTable =\n",
              "            await google.colab.kernel.invokeFunction('convertToInteractive',\n",
              "                                                     [key], {});\n",
              "          if (!dataTable) return;\n",
              "\n",
              "          const docLinkHtml = 'Like what you see? Visit the ' +\n",
              "            '<a target=\"_blank\" href=https://colab.research.google.com/notebooks/data_table.ipynb>data table notebook</a>'\n",
              "            + ' to learn more about interactive tables.';\n",
              "          element.innerHTML = '';\n",
              "          dataTable['output_type'] = 'display_data';\n",
              "          await google.colab.output.renderOutput(dataTable, element);\n",
              "          const docLink = document.createElement('div');\n",
              "          docLink.innerHTML = docLinkHtml;\n",
              "          element.appendChild(docLink);\n",
              "        }\n",
              "      </script>\n",
              "    </div>\n",
              "  </div>\n",
              "  "
            ]
          },
          "metadata": {},
          "execution_count": 29
        }
      ]
    },
    {
      "cell_type": "code",
      "source": [
        "test_df[\"is_in_yandex\"] = pd.Categorical(test_df[\"is_in_yandex\"])\n",
        "test_df[\"is_in_yandex\"].astype('category').cat.codes\n",
        "test_df[\"is_in_yandex\"] = test_df[\"is_in_yandex\"].cat.codes\n",
        "\n",
        "test_df[\"is_return\"] = pd.Categorical(test_df[\"is_return\"])\n",
        "test_df[\"is_return\"].astype('category').cat.codes\n",
        "test_df[\"is_return\"] = test_df[\"is_return\"].cat.codes\n"
      ],
      "metadata": {
        "id": "F1o5QPZUyLV-"
      },
      "execution_count": null,
      "outputs": []
    },
    {
      "cell_type": "code",
      "source": [
        "test_df['op_t'] = test_df['oper_type + oper_attr'].apply(op_t).astype('int64')\n",
        "test_df['op_a'] = test_df['oper_type + oper_attr'].apply(op_a).astype('int64')"
      ],
      "metadata": {
        "id": "Nk-MB4HMyo7G"
      },
      "execution_count": null,
      "outputs": []
    },
    {
      "cell_type": "code",
      "source": [
        "#end_test_pred1 = automl.predict(test_df)"
      ],
      "metadata": {
        "id": "LYMeeSLIzcKT"
      },
      "execution_count": null,
      "outputs": []
    },
    {
      "cell_type": "code",
      "source": [
        "end_test_pred"
      ],
      "metadata": {
        "id": "nyNtvS9ezljI"
      },
      "execution_count": null,
      "outputs": []
    },
    {
      "cell_type": "code",
      "source": [
        "from sklearn.metrics import f1_score,recall_score,precision_score,accuracy_score\n"
      ],
      "metadata": {
        "id": "r8M-AdVH1oJH"
      },
      "execution_count": null,
      "outputs": []
    },
    {
      "cell_type": "code",
      "source": [
        "\n",
        "\n",
        "metric = pd.DataFrame(columns = ['alpha','precision','recall','f1','accuracy','roc_auc'])\n",
        "\n",
        "for x in np.array(list(range(20)))/20 :\n",
        "    row = []\n",
        "    tr = te_data['label'].values\n",
        "    pr = 1*(te_pred.data[:,0] >= x)\n",
        "    row.append(x)\n",
        "\n",
        "    row.append(precision_score(te_data['label'].values ,pr))\n",
        "    row.append(recall_score(te_data['label'].values ,pr))\n",
        "    row.append(f1_score(te_data['label'].values ,pr))\n",
        "    row.append(accuracy_score(te_data['label'].values ,pr))\n",
        "\n",
        "    fp = np.sum((pr == 1) & (tr == 0))\n",
        "    tp = np.sum((pr == 1) & (tr == 1))\n",
        "\n",
        "    fn = np.sum((pr == 0) & (tr == 1))\n",
        "    tn = np.sum((pr == 0) & (tr == 0))\n",
        "\n",
        "    fpr = (fp / (fp + tn))\n",
        "    tpr = (tp / (tp + fn))\n",
        "\n",
        "    roc = (1+ tpr - fpr)/2 \n",
        "\n",
        "\n",
        "    row.append(roc)\n",
        "\n",
        "    metric.loc[len(metric.index)] = row\n",
        "\n"
      ],
      "metadata": {
        "id": "DbC_80Na2Y2t"
      },
      "execution_count": null,
      "outputs": []
    },
    {
      "cell_type": "code",
      "source": [
        "metric"
      ],
      "metadata": {
        "id": "fBpK4N15DpM9",
        "colab": {
          "base_uri": "https://localhost:8080/",
          "height": 676
        },
        "outputId": "9b7e6e40-3068-4573-b1df-e2357126635e"
      },
      "execution_count": null,
      "outputs": [
        {
          "output_type": "execute_result",
          "data": {
            "text/plain": [
              "    alpha  precision    recall        f1  accuracy   roc_auc\n",
              "0    0.00   0.028608  1.000000  0.055625  0.028608  0.500000\n",
              "1    0.01   0.160403  0.980513  0.275703  0.852616  0.914681\n",
              "2    0.02   0.194033  0.963530  0.323018  0.884458  0.922830\n",
              "3    0.03   0.209801  0.953277  0.343912  0.895947  0.923768\n",
              "4    0.04   0.228481  0.936528  0.367343  0.907713  0.921696\n",
              "5    0.05   0.256024  0.910574  0.399673  0.921743  0.916323\n",
              "6    0.06   0.295148  0.874250  0.441309  0.936673  0.906381\n",
              "7    0.07   0.331381  0.843839  0.475881  0.946824  0.896848\n",
              "8    0.08   0.354541  0.825575  0.496053  0.952012  0.890655\n",
              "9    0.09   0.367710  0.813108  0.506409  0.954654  0.885965\n",
              "10   0.10   0.376894  0.805564  0.513528  0.956337  0.883170\n",
              "11   0.11   0.383131  0.799709  0.518064  0.957434  0.880894\n",
              "12   0.12   0.388585  0.793708  0.521737  0.958371  0.878464\n",
              "13   0.13   0.393329  0.788698  0.524891  0.959153  0.876436\n",
              "14   0.14   0.397618  0.782901  0.527388  0.959858  0.873985\n",
              "15   0.15   0.402706  0.776872  0.530445  0.960653  0.871468\n",
              "16   0.16   0.407458  0.770551  0.533047  0.961378  0.868774\n",
              "17   0.17   0.412896  0.763443  0.535938  0.962177  0.865736\n",
              "18   0.18   0.418249  0.756539  0.538687  0.962931  0.862774\n",
              "19   0.19   0.424071  0.748209  0.541328  0.963727  0.859141"
            ],
            "text/html": [
              "\n",
              "  <div id=\"df-b2ab62aa-7e3e-4170-83be-b3e7b34b94e0\">\n",
              "    <div class=\"colab-df-container\">\n",
              "      <div>\n",
              "<style scoped>\n",
              "    .dataframe tbody tr th:only-of-type {\n",
              "        vertical-align: middle;\n",
              "    }\n",
              "\n",
              "    .dataframe tbody tr th {\n",
              "        vertical-align: top;\n",
              "    }\n",
              "\n",
              "    .dataframe thead th {\n",
              "        text-align: right;\n",
              "    }\n",
              "</style>\n",
              "<table border=\"1\" class=\"dataframe\">\n",
              "  <thead>\n",
              "    <tr style=\"text-align: right;\">\n",
              "      <th></th>\n",
              "      <th>alpha</th>\n",
              "      <th>precision</th>\n",
              "      <th>recall</th>\n",
              "      <th>f1</th>\n",
              "      <th>accuracy</th>\n",
              "      <th>roc_auc</th>\n",
              "    </tr>\n",
              "  </thead>\n",
              "  <tbody>\n",
              "    <tr>\n",
              "      <th>0</th>\n",
              "      <td>0.00</td>\n",
              "      <td>0.028608</td>\n",
              "      <td>1.000000</td>\n",
              "      <td>0.055625</td>\n",
              "      <td>0.028608</td>\n",
              "      <td>0.500000</td>\n",
              "    </tr>\n",
              "    <tr>\n",
              "      <th>1</th>\n",
              "      <td>0.01</td>\n",
              "      <td>0.160403</td>\n",
              "      <td>0.980513</td>\n",
              "      <td>0.275703</td>\n",
              "      <td>0.852616</td>\n",
              "      <td>0.914681</td>\n",
              "    </tr>\n",
              "    <tr>\n",
              "      <th>2</th>\n",
              "      <td>0.02</td>\n",
              "      <td>0.194033</td>\n",
              "      <td>0.963530</td>\n",
              "      <td>0.323018</td>\n",
              "      <td>0.884458</td>\n",
              "      <td>0.922830</td>\n",
              "    </tr>\n",
              "    <tr>\n",
              "      <th>3</th>\n",
              "      <td>0.03</td>\n",
              "      <td>0.209801</td>\n",
              "      <td>0.953277</td>\n",
              "      <td>0.343912</td>\n",
              "      <td>0.895947</td>\n",
              "      <td>0.923768</td>\n",
              "    </tr>\n",
              "    <tr>\n",
              "      <th>4</th>\n",
              "      <td>0.04</td>\n",
              "      <td>0.228481</td>\n",
              "      <td>0.936528</td>\n",
              "      <td>0.367343</td>\n",
              "      <td>0.907713</td>\n",
              "      <td>0.921696</td>\n",
              "    </tr>\n",
              "    <tr>\n",
              "      <th>5</th>\n",
              "      <td>0.05</td>\n",
              "      <td>0.256024</td>\n",
              "      <td>0.910574</td>\n",
              "      <td>0.399673</td>\n",
              "      <td>0.921743</td>\n",
              "      <td>0.916323</td>\n",
              "    </tr>\n",
              "    <tr>\n",
              "      <th>6</th>\n",
              "      <td>0.06</td>\n",
              "      <td>0.295148</td>\n",
              "      <td>0.874250</td>\n",
              "      <td>0.441309</td>\n",
              "      <td>0.936673</td>\n",
              "      <td>0.906381</td>\n",
              "    </tr>\n",
              "    <tr>\n",
              "      <th>7</th>\n",
              "      <td>0.07</td>\n",
              "      <td>0.331381</td>\n",
              "      <td>0.843839</td>\n",
              "      <td>0.475881</td>\n",
              "      <td>0.946824</td>\n",
              "      <td>0.896848</td>\n",
              "    </tr>\n",
              "    <tr>\n",
              "      <th>8</th>\n",
              "      <td>0.08</td>\n",
              "      <td>0.354541</td>\n",
              "      <td>0.825575</td>\n",
              "      <td>0.496053</td>\n",
              "      <td>0.952012</td>\n",
              "      <td>0.890655</td>\n",
              "    </tr>\n",
              "    <tr>\n",
              "      <th>9</th>\n",
              "      <td>0.09</td>\n",
              "      <td>0.367710</td>\n",
              "      <td>0.813108</td>\n",
              "      <td>0.506409</td>\n",
              "      <td>0.954654</td>\n",
              "      <td>0.885965</td>\n",
              "    </tr>\n",
              "    <tr>\n",
              "      <th>10</th>\n",
              "      <td>0.10</td>\n",
              "      <td>0.376894</td>\n",
              "      <td>0.805564</td>\n",
              "      <td>0.513528</td>\n",
              "      <td>0.956337</td>\n",
              "      <td>0.883170</td>\n",
              "    </tr>\n",
              "    <tr>\n",
              "      <th>11</th>\n",
              "      <td>0.11</td>\n",
              "      <td>0.383131</td>\n",
              "      <td>0.799709</td>\n",
              "      <td>0.518064</td>\n",
              "      <td>0.957434</td>\n",
              "      <td>0.880894</td>\n",
              "    </tr>\n",
              "    <tr>\n",
              "      <th>12</th>\n",
              "      <td>0.12</td>\n",
              "      <td>0.388585</td>\n",
              "      <td>0.793708</td>\n",
              "      <td>0.521737</td>\n",
              "      <td>0.958371</td>\n",
              "      <td>0.878464</td>\n",
              "    </tr>\n",
              "    <tr>\n",
              "      <th>13</th>\n",
              "      <td>0.13</td>\n",
              "      <td>0.393329</td>\n",
              "      <td>0.788698</td>\n",
              "      <td>0.524891</td>\n",
              "      <td>0.959153</td>\n",
              "      <td>0.876436</td>\n",
              "    </tr>\n",
              "    <tr>\n",
              "      <th>14</th>\n",
              "      <td>0.14</td>\n",
              "      <td>0.397618</td>\n",
              "      <td>0.782901</td>\n",
              "      <td>0.527388</td>\n",
              "      <td>0.959858</td>\n",
              "      <td>0.873985</td>\n",
              "    </tr>\n",
              "    <tr>\n",
              "      <th>15</th>\n",
              "      <td>0.15</td>\n",
              "      <td>0.402706</td>\n",
              "      <td>0.776872</td>\n",
              "      <td>0.530445</td>\n",
              "      <td>0.960653</td>\n",
              "      <td>0.871468</td>\n",
              "    </tr>\n",
              "    <tr>\n",
              "      <th>16</th>\n",
              "      <td>0.16</td>\n",
              "      <td>0.407458</td>\n",
              "      <td>0.770551</td>\n",
              "      <td>0.533047</td>\n",
              "      <td>0.961378</td>\n",
              "      <td>0.868774</td>\n",
              "    </tr>\n",
              "    <tr>\n",
              "      <th>17</th>\n",
              "      <td>0.17</td>\n",
              "      <td>0.412896</td>\n",
              "      <td>0.763443</td>\n",
              "      <td>0.535938</td>\n",
              "      <td>0.962177</td>\n",
              "      <td>0.865736</td>\n",
              "    </tr>\n",
              "    <tr>\n",
              "      <th>18</th>\n",
              "      <td>0.18</td>\n",
              "      <td>0.418249</td>\n",
              "      <td>0.756539</td>\n",
              "      <td>0.538687</td>\n",
              "      <td>0.962931</td>\n",
              "      <td>0.862774</td>\n",
              "    </tr>\n",
              "    <tr>\n",
              "      <th>19</th>\n",
              "      <td>0.19</td>\n",
              "      <td>0.424071</td>\n",
              "      <td>0.748209</td>\n",
              "      <td>0.541328</td>\n",
              "      <td>0.963727</td>\n",
              "      <td>0.859141</td>\n",
              "    </tr>\n",
              "  </tbody>\n",
              "</table>\n",
              "</div>\n",
              "      <button class=\"colab-df-convert\" onclick=\"convertToInteractive('df-b2ab62aa-7e3e-4170-83be-b3e7b34b94e0')\"\n",
              "              title=\"Convert this dataframe to an interactive table.\"\n",
              "              style=\"display:none;\">\n",
              "        \n",
              "  <svg xmlns=\"http://www.w3.org/2000/svg\" height=\"24px\"viewBox=\"0 0 24 24\"\n",
              "       width=\"24px\">\n",
              "    <path d=\"M0 0h24v24H0V0z\" fill=\"none\"/>\n",
              "    <path d=\"M18.56 5.44l.94 2.06.94-2.06 2.06-.94-2.06-.94-.94-2.06-.94 2.06-2.06.94zm-11 1L8.5 8.5l.94-2.06 2.06-.94-2.06-.94L8.5 2.5l-.94 2.06-2.06.94zm10 10l.94 2.06.94-2.06 2.06-.94-2.06-.94-.94-2.06-.94 2.06-2.06.94z\"/><path d=\"M17.41 7.96l-1.37-1.37c-.4-.4-.92-.59-1.43-.59-.52 0-1.04.2-1.43.59L10.3 9.45l-7.72 7.72c-.78.78-.78 2.05 0 2.83L4 21.41c.39.39.9.59 1.41.59.51 0 1.02-.2 1.41-.59l7.78-7.78 2.81-2.81c.8-.78.8-2.07 0-2.86zM5.41 20L4 18.59l7.72-7.72 1.47 1.35L5.41 20z\"/>\n",
              "  </svg>\n",
              "      </button>\n",
              "      \n",
              "  <style>\n",
              "    .colab-df-container {\n",
              "      display:flex;\n",
              "      flex-wrap:wrap;\n",
              "      gap: 12px;\n",
              "    }\n",
              "\n",
              "    .colab-df-convert {\n",
              "      background-color: #E8F0FE;\n",
              "      border: none;\n",
              "      border-radius: 50%;\n",
              "      cursor: pointer;\n",
              "      display: none;\n",
              "      fill: #1967D2;\n",
              "      height: 32px;\n",
              "      padding: 0 0 0 0;\n",
              "      width: 32px;\n",
              "    }\n",
              "\n",
              "    .colab-df-convert:hover {\n",
              "      background-color: #E2EBFA;\n",
              "      box-shadow: 0px 1px 2px rgba(60, 64, 67, 0.3), 0px 1px 3px 1px rgba(60, 64, 67, 0.15);\n",
              "      fill: #174EA6;\n",
              "    }\n",
              "\n",
              "    [theme=dark] .colab-df-convert {\n",
              "      background-color: #3B4455;\n",
              "      fill: #D2E3FC;\n",
              "    }\n",
              "\n",
              "    [theme=dark] .colab-df-convert:hover {\n",
              "      background-color: #434B5C;\n",
              "      box-shadow: 0px 1px 3px 1px rgba(0, 0, 0, 0.15);\n",
              "      filter: drop-shadow(0px 1px 2px rgba(0, 0, 0, 0.3));\n",
              "      fill: #FFFFFF;\n",
              "    }\n",
              "  </style>\n",
              "\n",
              "      <script>\n",
              "        const buttonEl =\n",
              "          document.querySelector('#df-b2ab62aa-7e3e-4170-83be-b3e7b34b94e0 button.colab-df-convert');\n",
              "        buttonEl.style.display =\n",
              "          google.colab.kernel.accessAllowed ? 'block' : 'none';\n",
              "\n",
              "        async function convertToInteractive(key) {\n",
              "          const element = document.querySelector('#df-b2ab62aa-7e3e-4170-83be-b3e7b34b94e0');\n",
              "          const dataTable =\n",
              "            await google.colab.kernel.invokeFunction('convertToInteractive',\n",
              "                                                     [key], {});\n",
              "          if (!dataTable) return;\n",
              "\n",
              "          const docLinkHtml = 'Like what you see? Visit the ' +\n",
              "            '<a target=\"_blank\" href=https://colab.research.google.com/notebooks/data_table.ipynb>data table notebook</a>'\n",
              "            + ' to learn more about interactive tables.';\n",
              "          element.innerHTML = '';\n",
              "          dataTable['output_type'] = 'display_data';\n",
              "          await google.colab.output.renderOutput(dataTable, element);\n",
              "          const docLink = document.createElement('div');\n",
              "          docLink.innerHTML = docLinkHtml;\n",
              "          element.appendChild(docLink);\n",
              "        }\n",
              "      </script>\n",
              "    </div>\n",
              "  </div>\n",
              "  "
            ]
          },
          "metadata": {},
          "execution_count": 47
        }
      ]
    },
    {
      "cell_type": "code",
      "source": [
        "metric"
      ],
      "metadata": {
        "id": "vL-1CSXEAa1P",
        "colab": {
          "base_uri": "https://localhost:8080/",
          "height": 676
        },
        "outputId": "6ba96f9e-0920-4b88-ff13-070ea9b2fc6f"
      },
      "execution_count": null,
      "outputs": [
        {
          "output_type": "execute_result",
          "data": {
            "text/plain": [
              "    alpha  precision    recall        f1  accuracy   roc_auc\n",
              "0    0.00   0.028608  1.000000  0.055625  0.028608  0.500000\n",
              "1    0.05   0.256024  0.910574  0.399673  0.921743  0.916323\n",
              "2    0.10   0.376894  0.805564  0.513528  0.956337  0.883170\n",
              "3    0.15   0.402706  0.776872  0.530445  0.960653  0.871468\n",
              "4    0.20   0.428767  0.740431  0.543060  0.964353  0.855690\n",
              "5    0.25   0.452869  0.698893  0.549605  0.967230  0.837013\n",
              "6    0.30   0.482587  0.637751  0.549424  0.970075  0.808807\n",
              "7    0.35   0.527259  0.551325  0.539023  0.973023  0.768384\n",
              "8    0.40   0.568679  0.450918  0.502998  0.974507  0.720423\n",
              "9    0.45   0.612168  0.346723  0.442705  0.975027  0.670127\n",
              "10   0.50   0.638567  0.267871  0.377419  0.974718  0.631703\n",
              "11   0.55   0.654063  0.209613  0.317480  0.974217  0.603174\n",
              "12   0.60   0.668338  0.166997  0.267223  0.973798  0.582278\n",
              "13   0.65   0.670187  0.136790  0.227206  0.973379  0.567404\n",
              "14   0.70   0.659519  0.111098  0.190163  0.972929  0.554705\n",
              "15   0.75   0.637659  0.086018  0.151587  0.972454  0.542289\n",
              "16   0.80   0.601110  0.063123  0.114248  0.971999  0.530945\n",
              "17   0.85   0.921265  0.043286  0.082686  0.972524  0.521588\n",
              "18   0.90   0.944255  0.024177  0.047147  0.972043  0.512068\n",
              "19   0.95   0.976415  0.006030  0.011985  0.971560  0.503013"
            ],
            "text/html": [
              "\n",
              "  <div id=\"df-e49eebae-5213-4daf-8861-e8d282791942\">\n",
              "    <div class=\"colab-df-container\">\n",
              "      <div>\n",
              "<style scoped>\n",
              "    .dataframe tbody tr th:only-of-type {\n",
              "        vertical-align: middle;\n",
              "    }\n",
              "\n",
              "    .dataframe tbody tr th {\n",
              "        vertical-align: top;\n",
              "    }\n",
              "\n",
              "    .dataframe thead th {\n",
              "        text-align: right;\n",
              "    }\n",
              "</style>\n",
              "<table border=\"1\" class=\"dataframe\">\n",
              "  <thead>\n",
              "    <tr style=\"text-align: right;\">\n",
              "      <th></th>\n",
              "      <th>alpha</th>\n",
              "      <th>precision</th>\n",
              "      <th>recall</th>\n",
              "      <th>f1</th>\n",
              "      <th>accuracy</th>\n",
              "      <th>roc_auc</th>\n",
              "    </tr>\n",
              "  </thead>\n",
              "  <tbody>\n",
              "    <tr>\n",
              "      <th>0</th>\n",
              "      <td>0.00</td>\n",
              "      <td>0.028608</td>\n",
              "      <td>1.000000</td>\n",
              "      <td>0.055625</td>\n",
              "      <td>0.028608</td>\n",
              "      <td>0.500000</td>\n",
              "    </tr>\n",
              "    <tr>\n",
              "      <th>1</th>\n",
              "      <td>0.05</td>\n",
              "      <td>0.256024</td>\n",
              "      <td>0.910574</td>\n",
              "      <td>0.399673</td>\n",
              "      <td>0.921743</td>\n",
              "      <td>0.916323</td>\n",
              "    </tr>\n",
              "    <tr>\n",
              "      <th>2</th>\n",
              "      <td>0.10</td>\n",
              "      <td>0.376894</td>\n",
              "      <td>0.805564</td>\n",
              "      <td>0.513528</td>\n",
              "      <td>0.956337</td>\n",
              "      <td>0.883170</td>\n",
              "    </tr>\n",
              "    <tr>\n",
              "      <th>3</th>\n",
              "      <td>0.15</td>\n",
              "      <td>0.402706</td>\n",
              "      <td>0.776872</td>\n",
              "      <td>0.530445</td>\n",
              "      <td>0.960653</td>\n",
              "      <td>0.871468</td>\n",
              "    </tr>\n",
              "    <tr>\n",
              "      <th>4</th>\n",
              "      <td>0.20</td>\n",
              "      <td>0.428767</td>\n",
              "      <td>0.740431</td>\n",
              "      <td>0.543060</td>\n",
              "      <td>0.964353</td>\n",
              "      <td>0.855690</td>\n",
              "    </tr>\n",
              "    <tr>\n",
              "      <th>5</th>\n",
              "      <td>0.25</td>\n",
              "      <td>0.452869</td>\n",
              "      <td>0.698893</td>\n",
              "      <td>0.549605</td>\n",
              "      <td>0.967230</td>\n",
              "      <td>0.837013</td>\n",
              "    </tr>\n",
              "    <tr>\n",
              "      <th>6</th>\n",
              "      <td>0.30</td>\n",
              "      <td>0.482587</td>\n",
              "      <td>0.637751</td>\n",
              "      <td>0.549424</td>\n",
              "      <td>0.970075</td>\n",
              "      <td>0.808807</td>\n",
              "    </tr>\n",
              "    <tr>\n",
              "      <th>7</th>\n",
              "      <td>0.35</td>\n",
              "      <td>0.527259</td>\n",
              "      <td>0.551325</td>\n",
              "      <td>0.539023</td>\n",
              "      <td>0.973023</td>\n",
              "      <td>0.768384</td>\n",
              "    </tr>\n",
              "    <tr>\n",
              "      <th>8</th>\n",
              "      <td>0.40</td>\n",
              "      <td>0.568679</td>\n",
              "      <td>0.450918</td>\n",
              "      <td>0.502998</td>\n",
              "      <td>0.974507</td>\n",
              "      <td>0.720423</td>\n",
              "    </tr>\n",
              "    <tr>\n",
              "      <th>9</th>\n",
              "      <td>0.45</td>\n",
              "      <td>0.612168</td>\n",
              "      <td>0.346723</td>\n",
              "      <td>0.442705</td>\n",
              "      <td>0.975027</td>\n",
              "      <td>0.670127</td>\n",
              "    </tr>\n",
              "    <tr>\n",
              "      <th>10</th>\n",
              "      <td>0.50</td>\n",
              "      <td>0.638567</td>\n",
              "      <td>0.267871</td>\n",
              "      <td>0.377419</td>\n",
              "      <td>0.974718</td>\n",
              "      <td>0.631703</td>\n",
              "    </tr>\n",
              "    <tr>\n",
              "      <th>11</th>\n",
              "      <td>0.55</td>\n",
              "      <td>0.654063</td>\n",
              "      <td>0.209613</td>\n",
              "      <td>0.317480</td>\n",
              "      <td>0.974217</td>\n",
              "      <td>0.603174</td>\n",
              "    </tr>\n",
              "    <tr>\n",
              "      <th>12</th>\n",
              "      <td>0.60</td>\n",
              "      <td>0.668338</td>\n",
              "      <td>0.166997</td>\n",
              "      <td>0.267223</td>\n",
              "      <td>0.973798</td>\n",
              "      <td>0.582278</td>\n",
              "    </tr>\n",
              "    <tr>\n",
              "      <th>13</th>\n",
              "      <td>0.65</td>\n",
              "      <td>0.670187</td>\n",
              "      <td>0.136790</td>\n",
              "      <td>0.227206</td>\n",
              "      <td>0.973379</td>\n",
              "      <td>0.567404</td>\n",
              "    </tr>\n",
              "    <tr>\n",
              "      <th>14</th>\n",
              "      <td>0.70</td>\n",
              "      <td>0.659519</td>\n",
              "      <td>0.111098</td>\n",
              "      <td>0.190163</td>\n",
              "      <td>0.972929</td>\n",
              "      <td>0.554705</td>\n",
              "    </tr>\n",
              "    <tr>\n",
              "      <th>15</th>\n",
              "      <td>0.75</td>\n",
              "      <td>0.637659</td>\n",
              "      <td>0.086018</td>\n",
              "      <td>0.151587</td>\n",
              "      <td>0.972454</td>\n",
              "      <td>0.542289</td>\n",
              "    </tr>\n",
              "    <tr>\n",
              "      <th>16</th>\n",
              "      <td>0.80</td>\n",
              "      <td>0.601110</td>\n",
              "      <td>0.063123</td>\n",
              "      <td>0.114248</td>\n",
              "      <td>0.971999</td>\n",
              "      <td>0.530945</td>\n",
              "    </tr>\n",
              "    <tr>\n",
              "      <th>17</th>\n",
              "      <td>0.85</td>\n",
              "      <td>0.921265</td>\n",
              "      <td>0.043286</td>\n",
              "      <td>0.082686</td>\n",
              "      <td>0.972524</td>\n",
              "      <td>0.521588</td>\n",
              "    </tr>\n",
              "    <tr>\n",
              "      <th>18</th>\n",
              "      <td>0.90</td>\n",
              "      <td>0.944255</td>\n",
              "      <td>0.024177</td>\n",
              "      <td>0.047147</td>\n",
              "      <td>0.972043</td>\n",
              "      <td>0.512068</td>\n",
              "    </tr>\n",
              "    <tr>\n",
              "      <th>19</th>\n",
              "      <td>0.95</td>\n",
              "      <td>0.976415</td>\n",
              "      <td>0.006030</td>\n",
              "      <td>0.011985</td>\n",
              "      <td>0.971560</td>\n",
              "      <td>0.503013</td>\n",
              "    </tr>\n",
              "  </tbody>\n",
              "</table>\n",
              "</div>\n",
              "      <button class=\"colab-df-convert\" onclick=\"convertToInteractive('df-e49eebae-5213-4daf-8861-e8d282791942')\"\n",
              "              title=\"Convert this dataframe to an interactive table.\"\n",
              "              style=\"display:none;\">\n",
              "        \n",
              "  <svg xmlns=\"http://www.w3.org/2000/svg\" height=\"24px\"viewBox=\"0 0 24 24\"\n",
              "       width=\"24px\">\n",
              "    <path d=\"M0 0h24v24H0V0z\" fill=\"none\"/>\n",
              "    <path d=\"M18.56 5.44l.94 2.06.94-2.06 2.06-.94-2.06-.94-.94-2.06-.94 2.06-2.06.94zm-11 1L8.5 8.5l.94-2.06 2.06-.94-2.06-.94L8.5 2.5l-.94 2.06-2.06.94zm10 10l.94 2.06.94-2.06 2.06-.94-2.06-.94-.94-2.06-.94 2.06-2.06.94z\"/><path d=\"M17.41 7.96l-1.37-1.37c-.4-.4-.92-.59-1.43-.59-.52 0-1.04.2-1.43.59L10.3 9.45l-7.72 7.72c-.78.78-.78 2.05 0 2.83L4 21.41c.39.39.9.59 1.41.59.51 0 1.02-.2 1.41-.59l7.78-7.78 2.81-2.81c.8-.78.8-2.07 0-2.86zM5.41 20L4 18.59l7.72-7.72 1.47 1.35L5.41 20z\"/>\n",
              "  </svg>\n",
              "      </button>\n",
              "      \n",
              "  <style>\n",
              "    .colab-df-container {\n",
              "      display:flex;\n",
              "      flex-wrap:wrap;\n",
              "      gap: 12px;\n",
              "    }\n",
              "\n",
              "    .colab-df-convert {\n",
              "      background-color: #E8F0FE;\n",
              "      border: none;\n",
              "      border-radius: 50%;\n",
              "      cursor: pointer;\n",
              "      display: none;\n",
              "      fill: #1967D2;\n",
              "      height: 32px;\n",
              "      padding: 0 0 0 0;\n",
              "      width: 32px;\n",
              "    }\n",
              "\n",
              "    .colab-df-convert:hover {\n",
              "      background-color: #E2EBFA;\n",
              "      box-shadow: 0px 1px 2px rgba(60, 64, 67, 0.3), 0px 1px 3px 1px rgba(60, 64, 67, 0.15);\n",
              "      fill: #174EA6;\n",
              "    }\n",
              "\n",
              "    [theme=dark] .colab-df-convert {\n",
              "      background-color: #3B4455;\n",
              "      fill: #D2E3FC;\n",
              "    }\n",
              "\n",
              "    [theme=dark] .colab-df-convert:hover {\n",
              "      background-color: #434B5C;\n",
              "      box-shadow: 0px 1px 3px 1px rgba(0, 0, 0, 0.15);\n",
              "      filter: drop-shadow(0px 1px 2px rgba(0, 0, 0, 0.3));\n",
              "      fill: #FFFFFF;\n",
              "    }\n",
              "  </style>\n",
              "\n",
              "      <script>\n",
              "        const buttonEl =\n",
              "          document.querySelector('#df-e49eebae-5213-4daf-8861-e8d282791942 button.colab-df-convert');\n",
              "        buttonEl.style.display =\n",
              "          google.colab.kernel.accessAllowed ? 'block' : 'none';\n",
              "\n",
              "        async function convertToInteractive(key) {\n",
              "          const element = document.querySelector('#df-e49eebae-5213-4daf-8861-e8d282791942');\n",
              "          const dataTable =\n",
              "            await google.colab.kernel.invokeFunction('convertToInteractive',\n",
              "                                                     [key], {});\n",
              "          if (!dataTable) return;\n",
              "\n",
              "          const docLinkHtml = 'Like what you see? Visit the ' +\n",
              "            '<a target=\"_blank\" href=https://colab.research.google.com/notebooks/data_table.ipynb>data table notebook</a>'\n",
              "            + ' to learn more about interactive tables.';\n",
              "          element.innerHTML = '';\n",
              "          dataTable['output_type'] = 'display_data';\n",
              "          await google.colab.output.renderOutput(dataTable, element);\n",
              "          const docLink = document.createElement('div');\n",
              "          docLink.innerHTML = docLinkHtml;\n",
              "          element.appendChild(docLink);\n",
              "        }\n",
              "      </script>\n",
              "    </div>\n",
              "  </div>\n",
              "  "
            ]
          },
          "metadata": {},
          "execution_count": 49
        }
      ]
    },
    {
      "cell_type": "code",
      "source": [
        "sum(1*(te_pred.data[:,0] >= 0.2))"
      ],
      "metadata": {
        "colab": {
          "base_uri": "https://localhost:8080/"
        },
        "id": "LdesSwn3-fUH",
        "outputId": "60fc16c1-7179-47ae-ed6d-4b3231325480"
      },
      "execution_count": null,
      "outputs": [
        {
          "output_type": "execute_result",
          "data": {
            "text/plain": [
              "59284"
            ]
          },
          "metadata": {},
          "execution_count": 63
        }
      ]
    },
    {
      "cell_type": "code",
      "source": [
        "sum(tr_data.label)/4800000"
      ],
      "metadata": {
        "colab": {
          "base_uri": "https://localhost:8080/"
        },
        "id": "AaF5iROm--d7",
        "outputId": "7e67fcc5-c7ba-4e65-ba02-393f33e0c39f"
      },
      "execution_count": null,
      "outputs": [
        {
          "output_type": "execute_result",
          "data": {
            "text/plain": [
              "0.02846875"
            ]
          },
          "metadata": {},
          "execution_count": 62
        }
      ]
    },
    {
      "cell_type": "code",
      "source": [
        "60000/1200000"
      ],
      "metadata": {
        "colab": {
          "base_uri": "https://localhost:8080/"
        },
        "id": "9NbQOw5H-0_-",
        "outputId": "4ed8572f-1449-4333-d3f4-1fbf73b881f3"
      },
      "execution_count": null,
      "outputs": [
        {
          "output_type": "execute_result",
          "data": {
            "text/plain": [
              "0.05"
            ]
          },
          "metadata": {},
          "execution_count": 64
        }
      ]
    },
    {
      "cell_type": "markdown",
      "source": [
        "# Pred"
      ],
      "metadata": {
        "id": "hN8OelHjiTf7"
      }
    },
    {
      "cell_type": "code",
      "source": [
        "test_df['index_oper'] = test_df['index_oper'].apply(p_to_int)\n",
        "\n",
        "\n",
        "pld2 = pd.DataFrame(columns = ['index_oper','new_index_oper','OPSSUBM','REGION','AUTONOM','CITY','ACTDATE'])\n",
        "pld = pd.DataFrame(columns = ['index_oper','new_index_oper'])\n",
        "pld['index_oper'] = test_df['index_oper'].values\n",
        "pld2['index_oper'] = test_df['index_oper'].values\n",
        "qq['new_index_oper'] = qq['INDEX'].values\n",
        "\n",
        "for i in range(10):\n",
        "    def from5t6(x):\n",
        "        if x == '':\n",
        "            return 0\n",
        "        x = int(float(x))\n",
        "        if x // 10**5 == 0:\n",
        "            return x*10 + i\n",
        "        return x\n",
        "    pld['new_index_oper'] = pld['index_oper'].apply(from5t6)\n",
        "    pld2['new_index_oper'] = pld2['index_oper'].apply(from5t6)\n",
        "    \n",
        "    pz = pd.merge(pld, qq[['new_index_oper','OPSSUBM','REGION','AUTONOM','CITY','ACTDATE']],how = 'left', on=\"new_index_oper\")\n",
        "    \n",
        "    pld['index_oper'][pz['ACTDATE'].isna() == False]['index_oper'] = pz[pz['ACTDATE'].isna() == False]['new_index_oper'].values\n",
        "    pld2['index_oper'][pz['ACTDATE'].isna() == False]['index_oper'] = pz[pz['ACTDATE'].isna() == False]['new_index_oper'].values\n",
        "    #pld[['OPSSUBM','REGION','AUTONOM','CITY','ACTDATE']] = pz[pz['ACTDATE'].isna() == False][['OPSSUBM','REGION','AUTONOM','CITY','ACTDATE']].values\n",
        "    pld2.loc[pz['ACTDATE'].isna() == False,['OPSSUBM','REGION','AUTONOM','CITY','ACTDATE']] = pz[pz['ACTDATE'].isna() == False][['OPSSUBM','REGION','AUTONOM','CITY','ACTDATE']].values\n",
        "\n",
        "\n",
        "pld2['AREA'] = (pld2['REGION'].fillna('') + pld2['AUTONOM'].fillna('')).values\n",
        "pld2.drop(['REGION','AUTONOM'],axis = 1,inplace = True)\n",
        "pld2.loc[pld2['AREA'] == 'МОСКВА','CITY'] = pld2[pld2['AREA'] == 'МОСКВА']['CITY'].fillna('МОСКВА').values\n",
        "\n",
        "big_test_df = pd.concat([test_df,pld2.drop(['index_oper'],axis=1)],axis = 1)\n",
        "big_test_df['ACTDATE'] = pd.to_datetime(big_test_df['ACTDATE'])\n",
        "big_test_df['index_oper'] = big_test_df['index_oper'].apply(npust)\n",
        "big_test_df['new_index_oper'] = big_test_df['new_index_oper'].apply(npust)\n",
        "big_test_df['OPSSUBM'] = big_test_df['OPSSUBM'].fillna(0).apply(npust)\n",
        "\n"
      ],
      "metadata": {
        "id": "tHl-g0_6iVE9"
      },
      "execution_count": null,
      "outputs": []
    },
    {
      "cell_type": "code",
      "source": [
        "#big_test_df['Unnamed: 0'] = list(range(4000000))"
      ],
      "metadata": {
        "id": "f3AGTRunk-eT"
      },
      "execution_count": null,
      "outputs": []
    },
    {
      "cell_type": "code",
      "source": [
        "end_test_pred = automl.predict(big_test_df)"
      ],
      "metadata": {
        "id": "AuAxPtGCkcHx"
      },
      "execution_count": null,
      "outputs": []
    },
    {
      "cell_type": "code",
      "source": [
        "sum(1*(end_test_pred.data[:,0] >= 0.05))"
      ],
      "metadata": {
        "id": "pFRKFBXaEb3m",
        "colab": {
          "base_uri": "https://localhost:8080/"
        },
        "outputId": "87facde3-6f9a-405e-9551-3de3f6806249"
      },
      "execution_count": null,
      "outputs": [
        {
          "output_type": "execute_result",
          "data": {
            "text/plain": [
              "406822"
            ]
          },
          "metadata": {},
          "execution_count": 94
        }
      ]
    },
    {
      "cell_type": "code",
      "source": [
        "submission = pd.DataFrame(columns = ['id','label'])"
      ],
      "metadata": {
        "id": "mo1P_3NBExZp"
      },
      "execution_count": null,
      "outputs": []
    },
    {
      "cell_type": "code",
      "source": [
        "submission['id'] = test_df['id'].values"
      ],
      "metadata": {
        "id": "jeVIDpfhF3fK"
      },
      "execution_count": null,
      "outputs": []
    },
    {
      "cell_type": "code",
      "source": [
        "submission['label'] = 1*(end_test_pred.data[:,0] >= 0.05)\n",
        "#submission['label'] = end_test_pred.data[:,0]"
      ],
      "metadata": {
        "id": "BJU57NINF7h4"
      },
      "execution_count": null,
      "outputs": []
    },
    {
      "cell_type": "code",
      "source": [
        "submission['label'].value_counts()"
      ],
      "metadata": {
        "id": "qbtHcnVdGMfO",
        "colab": {
          "base_uri": "https://localhost:8080/"
        },
        "outputId": "f29f3028-2f6a-4305-99e4-797147e1be5c"
      },
      "execution_count": null,
      "outputs": [
        {
          "output_type": "execute_result",
          "data": {
            "text/plain": [
              "0    3593178\n",
              "1     406822\n",
              "Name: label, dtype: int64"
            ]
          },
          "metadata": {},
          "execution_count": 101
        }
      ]
    },
    {
      "cell_type": "code",
      "source": [
        "sum(submission['id'] == test_df['id'])"
      ],
      "metadata": {
        "colab": {
          "base_uri": "https://localhost:8080/"
        },
        "id": "RZMd4n9HAL5a",
        "outputId": "983460bc-e74d-4707-b868-d1e25ff59067"
      },
      "execution_count": null,
      "outputs": [
        {
          "output_type": "execute_result",
          "data": {
            "text/plain": [
              "4000000"
            ]
          },
          "metadata": {},
          "execution_count": 102
        }
      ]
    },
    {
      "cell_type": "code",
      "source": [
        "submission.to_csv('submission_5_11_7.csv',index = False)"
      ],
      "metadata": {
        "id": "gHCTNVTjGNm5"
      },
      "execution_count": null,
      "outputs": []
    },
    {
      "cell_type": "code",
      "source": [
        "import joblib\n",
        "\n",
        "joblib.dump(automl, 'model2.pkl')"
      ],
      "metadata": {
        "colab": {
          "base_uri": "https://localhost:8080/"
        },
        "id": "1Lqql8CooOct",
        "outputId": "8183138a-fd78-49b6-9324-19664b2f95a0"
      },
      "execution_count": null,
      "outputs": [
        {
          "output_type": "execute_result",
          "data": {
            "text/plain": [
              "['model2.pkl']"
            ]
          },
          "metadata": {},
          "execution_count": 24
        }
      ]
    },
    {
      "cell_type": "code",
      "source": [
        "submission"
      ],
      "metadata": {
        "id": "8jMAiSAdGkw6"
      },
      "execution_count": null,
      "outputs": []
    },
    {
      "cell_type": "code",
      "source": [
        "sum(end_test_pred.data[:,0] < 0.1)"
      ],
      "metadata": {
        "id": "w_izNz8lIcIf"
      },
      "execution_count": null,
      "outputs": []
    },
    {
      "cell_type": "code",
      "source": [
        "precision_score([0,1,0,1,0,1,1],[0,0,0,0,0,0,0]),recall_score([0,1,0,1,0,1,1],[1,1,1,1,1,1,1])"
      ],
      "metadata": {
        "id": "VEZB_EkyMRRj"
      },
      "execution_count": null,
      "outputs": []
    },
    {
      "cell_type": "code",
      "source": [
        "precision_score"
      ],
      "metadata": {
        "id": "HrukBaY7mkt0"
      },
      "execution_count": null,
      "outputs": []
    }
  ]
}